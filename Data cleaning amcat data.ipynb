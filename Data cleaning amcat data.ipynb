{
 "cells": [
  {
   "cell_type": "code",
   "execution_count": 2,
   "id": "62022f69-61ad-4b51-b03d-2122cd59af16",
   "metadata": {},
   "outputs": [],
   "source": [
    "import pandas as pd\n",
    "import numpy as np"
   ]
  },
  {
   "cell_type": "code",
   "execution_count": 3,
   "id": "a1dc75f2-2c9a-486f-b2fe-089811d49fb5",
   "metadata": {},
   "outputs": [],
   "source": [
    "df = pd.read_excel(r'data.xlsx')"
   ]
  },
  {
   "cell_type": "code",
   "execution_count": 4,
   "id": "1921836e-a174-46f6-a56c-448ae4dd0f9d",
   "metadata": {},
   "outputs": [
    {
     "data": {
      "text/plain": [
       "(3998, 39)"
      ]
     },
     "execution_count": 4,
     "metadata": {},
     "output_type": "execute_result"
    }
   ],
   "source": [
    "df.shape"
   ]
  },
  {
   "cell_type": "code",
   "execution_count": 5,
   "id": "452b7c00-f010-4808-8b5d-288f768be5db",
   "metadata": {},
   "outputs": [
    {
     "data": {
      "text/html": [
       "<div>\n",
       "<style scoped>\n",
       "    .dataframe tbody tr th:only-of-type {\n",
       "        vertical-align: middle;\n",
       "    }\n",
       "\n",
       "    .dataframe tbody tr th {\n",
       "        vertical-align: top;\n",
       "    }\n",
       "\n",
       "    .dataframe thead th {\n",
       "        text-align: right;\n",
       "    }\n",
       "</style>\n",
       "<table border=\"1\" class=\"dataframe\">\n",
       "  <thead>\n",
       "    <tr style=\"text-align: right;\">\n",
       "      <th></th>\n",
       "      <th>Unnamed: 0</th>\n",
       "      <th>ID</th>\n",
       "      <th>Salary</th>\n",
       "      <th>DOJ</th>\n",
       "      <th>DOL</th>\n",
       "      <th>Designation</th>\n",
       "      <th>JobCity</th>\n",
       "      <th>Gender</th>\n",
       "      <th>DOB</th>\n",
       "      <th>10percentage</th>\n",
       "      <th>...</th>\n",
       "      <th>ComputerScience</th>\n",
       "      <th>MechanicalEngg</th>\n",
       "      <th>ElectricalEngg</th>\n",
       "      <th>TelecomEngg</th>\n",
       "      <th>CivilEngg</th>\n",
       "      <th>conscientiousness</th>\n",
       "      <th>agreeableness</th>\n",
       "      <th>extraversion</th>\n",
       "      <th>nueroticism</th>\n",
       "      <th>openess_to_experience</th>\n",
       "    </tr>\n",
       "  </thead>\n",
       "  <tbody>\n",
       "    <tr>\n",
       "      <th>0</th>\n",
       "      <td>train</td>\n",
       "      <td>203097</td>\n",
       "      <td>420000</td>\n",
       "      <td>2012-06-01</td>\n",
       "      <td>present</td>\n",
       "      <td>senior quality engineer</td>\n",
       "      <td>Bangalore</td>\n",
       "      <td>f</td>\n",
       "      <td>1990-02-19</td>\n",
       "      <td>84.3</td>\n",
       "      <td>...</td>\n",
       "      <td>-1</td>\n",
       "      <td>-1</td>\n",
       "      <td>-1</td>\n",
       "      <td>-1</td>\n",
       "      <td>-1</td>\n",
       "      <td>0.9737</td>\n",
       "      <td>0.8128</td>\n",
       "      <td>0.5269</td>\n",
       "      <td>1.35490</td>\n",
       "      <td>-0.4455</td>\n",
       "    </tr>\n",
       "    <tr>\n",
       "      <th>1</th>\n",
       "      <td>train</td>\n",
       "      <td>579905</td>\n",
       "      <td>500000</td>\n",
       "      <td>2013-09-01</td>\n",
       "      <td>present</td>\n",
       "      <td>assistant manager</td>\n",
       "      <td>Indore</td>\n",
       "      <td>m</td>\n",
       "      <td>1989-10-04</td>\n",
       "      <td>85.4</td>\n",
       "      <td>...</td>\n",
       "      <td>-1</td>\n",
       "      <td>-1</td>\n",
       "      <td>-1</td>\n",
       "      <td>-1</td>\n",
       "      <td>-1</td>\n",
       "      <td>-0.7335</td>\n",
       "      <td>0.3789</td>\n",
       "      <td>1.2396</td>\n",
       "      <td>-0.10760</td>\n",
       "      <td>0.8637</td>\n",
       "    </tr>\n",
       "    <tr>\n",
       "      <th>2</th>\n",
       "      <td>train</td>\n",
       "      <td>810601</td>\n",
       "      <td>325000</td>\n",
       "      <td>2014-06-01</td>\n",
       "      <td>present</td>\n",
       "      <td>systems engineer</td>\n",
       "      <td>Chennai</td>\n",
       "      <td>f</td>\n",
       "      <td>1992-08-03</td>\n",
       "      <td>85.0</td>\n",
       "      <td>...</td>\n",
       "      <td>-1</td>\n",
       "      <td>-1</td>\n",
       "      <td>-1</td>\n",
       "      <td>-1</td>\n",
       "      <td>-1</td>\n",
       "      <td>0.2718</td>\n",
       "      <td>1.7109</td>\n",
       "      <td>0.1637</td>\n",
       "      <td>-0.86820</td>\n",
       "      <td>0.6721</td>\n",
       "    </tr>\n",
       "    <tr>\n",
       "      <th>3</th>\n",
       "      <td>train</td>\n",
       "      <td>267447</td>\n",
       "      <td>1100000</td>\n",
       "      <td>2011-07-01</td>\n",
       "      <td>present</td>\n",
       "      <td>senior software engineer</td>\n",
       "      <td>Gurgaon</td>\n",
       "      <td>m</td>\n",
       "      <td>1989-12-05</td>\n",
       "      <td>85.6</td>\n",
       "      <td>...</td>\n",
       "      <td>-1</td>\n",
       "      <td>-1</td>\n",
       "      <td>-1</td>\n",
       "      <td>-1</td>\n",
       "      <td>-1</td>\n",
       "      <td>0.0464</td>\n",
       "      <td>0.3448</td>\n",
       "      <td>-0.3440</td>\n",
       "      <td>-0.40780</td>\n",
       "      <td>-0.9194</td>\n",
       "    </tr>\n",
       "    <tr>\n",
       "      <th>4</th>\n",
       "      <td>train</td>\n",
       "      <td>343523</td>\n",
       "      <td>200000</td>\n",
       "      <td>2014-03-01</td>\n",
       "      <td>2015-03-01 00:00:00</td>\n",
       "      <td>get</td>\n",
       "      <td>Manesar</td>\n",
       "      <td>m</td>\n",
       "      <td>1991-02-27</td>\n",
       "      <td>78.0</td>\n",
       "      <td>...</td>\n",
       "      <td>-1</td>\n",
       "      <td>-1</td>\n",
       "      <td>-1</td>\n",
       "      <td>-1</td>\n",
       "      <td>-1</td>\n",
       "      <td>-0.8810</td>\n",
       "      <td>-0.2793</td>\n",
       "      <td>-1.0697</td>\n",
       "      <td>0.09163</td>\n",
       "      <td>-0.1295</td>\n",
       "    </tr>\n",
       "  </tbody>\n",
       "</table>\n",
       "<p>5 rows × 39 columns</p>\n",
       "</div>"
      ],
      "text/plain": [
       "  Unnamed: 0      ID   Salary        DOJ                  DOL  \\\n",
       "0      train  203097   420000 2012-06-01              present   \n",
       "1      train  579905   500000 2013-09-01              present   \n",
       "2      train  810601   325000 2014-06-01              present   \n",
       "3      train  267447  1100000 2011-07-01              present   \n",
       "4      train  343523   200000 2014-03-01  2015-03-01 00:00:00   \n",
       "\n",
       "                Designation    JobCity Gender        DOB  10percentage  ...  \\\n",
       "0   senior quality engineer  Bangalore      f 1990-02-19          84.3  ...   \n",
       "1         assistant manager     Indore      m 1989-10-04          85.4  ...   \n",
       "2          systems engineer    Chennai      f 1992-08-03          85.0  ...   \n",
       "3  senior software engineer    Gurgaon      m 1989-12-05          85.6  ...   \n",
       "4                       get    Manesar      m 1991-02-27          78.0  ...   \n",
       "\n",
       "  ComputerScience  MechanicalEngg  ElectricalEngg TelecomEngg  CivilEngg  \\\n",
       "0              -1              -1              -1          -1         -1   \n",
       "1              -1              -1              -1          -1         -1   \n",
       "2              -1              -1              -1          -1         -1   \n",
       "3              -1              -1              -1          -1         -1   \n",
       "4              -1              -1              -1          -1         -1   \n",
       "\n",
       "   conscientiousness agreeableness extraversion  nueroticism  \\\n",
       "0             0.9737        0.8128       0.5269      1.35490   \n",
       "1            -0.7335        0.3789       1.2396     -0.10760   \n",
       "2             0.2718        1.7109       0.1637     -0.86820   \n",
       "3             0.0464        0.3448      -0.3440     -0.40780   \n",
       "4            -0.8810       -0.2793      -1.0697      0.09163   \n",
       "\n",
       "   openess_to_experience  \n",
       "0                -0.4455  \n",
       "1                 0.8637  \n",
       "2                 0.6721  \n",
       "3                -0.9194  \n",
       "4                -0.1295  \n",
       "\n",
       "[5 rows x 39 columns]"
      ]
     },
     "execution_count": 5,
     "metadata": {},
     "output_type": "execute_result"
    }
   ],
   "source": [
    "df.head()"
   ]
  },
  {
   "cell_type": "code",
   "execution_count": 6,
   "id": "bae4cced-3547-498f-ace3-66de53d6e0e3",
   "metadata": {},
   "outputs": [
    {
     "data": {
      "text/plain": [
       "Index(['Unnamed: 0', 'ID', 'Salary', 'DOJ', 'DOL', 'Designation', 'JobCity',\n",
       "       'Gender', 'DOB', '10percentage', '10board', '12graduation',\n",
       "       '12percentage', '12board', 'CollegeID', 'CollegeTier', 'Degree',\n",
       "       'Specialization', 'collegeGPA', 'CollegeCityID', 'CollegeCityTier',\n",
       "       'CollegeState', 'GraduationYear', 'English', 'Logical', 'Quant',\n",
       "       'Domain', 'ComputerProgramming', 'ElectronicsAndSemicon',\n",
       "       'ComputerScience', 'MechanicalEngg', 'ElectricalEngg', 'TelecomEngg',\n",
       "       'CivilEngg', 'conscientiousness', 'agreeableness', 'extraversion',\n",
       "       'nueroticism', 'openess_to_experience'],\n",
       "      dtype='object')"
      ]
     },
     "execution_count": 6,
     "metadata": {},
     "output_type": "execute_result"
    }
   ],
   "source": [
    "df.columns"
   ]
  },
  {
   "cell_type": "code",
   "execution_count": 7,
   "id": "053f15e6-260c-4e7e-93c7-b2068f3506ae",
   "metadata": {},
   "outputs": [
    {
     "data": {
      "text/plain": [
       "3998"
      ]
     },
     "execution_count": 7,
     "metadata": {},
     "output_type": "execute_result"
    }
   ],
   "source": [
    "df['ID'].nunique()"
   ]
  },
  {
   "cell_type": "code",
   "execution_count": 8,
   "id": "ab74035e-89be-4bf9-bddf-309b7a7e41f8",
   "metadata": {},
   "outputs": [
    {
     "data": {
      "text/plain": [
       "1350"
      ]
     },
     "execution_count": 8,
     "metadata": {},
     "output_type": "execute_result"
    }
   ],
   "source": [
    "df['CollegeCityID'].nunique()"
   ]
  },
  {
   "cell_type": "code",
   "execution_count": 9,
   "id": "31596a21-3f20-462a-9995-5446604fa1a8",
   "metadata": {},
   "outputs": [
    {
     "data": {
      "text/plain": [
       "1350"
      ]
     },
     "execution_count": 9,
     "metadata": {},
     "output_type": "execute_result"
    }
   ],
   "source": [
    "df['CollegeID'].nunique()"
   ]
  },
  {
   "cell_type": "code",
   "execution_count": null,
   "id": "395bd2d5-6822-4cfb-85b7-d1e4908f8b0b",
   "metadata": {},
   "outputs": [],
   "source": []
  },
  {
   "cell_type": "markdown",
   "id": "58f458d8-f0c8-4961-81c7-3bbe07955b39",
   "metadata": {},
   "source": [
    "#### Comment\n",
    "\n",
    "* unnamed:0, collegeID, collegeCityID are not needed for our analysis. Hence dropping them"
   ]
  },
  {
   "cell_type": "code",
   "execution_count": 11,
   "id": "937fd20b-9da4-42bf-814b-d0bd77c39806",
   "metadata": {},
   "outputs": [],
   "source": [
    "df_copy = df.copy()"
   ]
  },
  {
   "cell_type": "code",
   "execution_count": 12,
   "id": "49796459-3ccc-4ecd-b7dc-899ecd2bf003",
   "metadata": {},
   "outputs": [
    {
     "name": "stdout",
     "output_type": "stream",
     "text": [
      "2245705266896\n"
     ]
    }
   ],
   "source": [
    "print(id(df))"
   ]
  },
  {
   "cell_type": "code",
   "execution_count": 13,
   "id": "6ca3ff04-68a1-4f5e-94ed-46b85db2f764",
   "metadata": {},
   "outputs": [
    {
     "name": "stdout",
     "output_type": "stream",
     "text": [
      "2245662336336\n"
     ]
    }
   ],
   "source": [
    "print(id(df_copy))"
   ]
  },
  {
   "cell_type": "code",
   "execution_count": 14,
   "id": "6477ccdf-5889-4abd-8877-2e3d01914beb",
   "metadata": {},
   "outputs": [],
   "source": [
    "df_copy.drop(columns = ['Unnamed: 0','CollegeID','CollegeCityID'], inplace = True)"
   ]
  },
  {
   "cell_type": "code",
   "execution_count": 15,
   "id": "c5ae041f-4a0b-4453-b639-e87132464b30",
   "metadata": {},
   "outputs": [
    {
     "data": {
      "text/plain": [
       "(3998, 36)"
      ]
     },
     "execution_count": 15,
     "metadata": {},
     "output_type": "execute_result"
    }
   ],
   "source": [
    "df_copy.shape"
   ]
  },
  {
   "cell_type": "code",
   "execution_count": 16,
   "id": "4395588d-6b43-4099-bb38-757865d07e2d",
   "metadata": {},
   "outputs": [
    {
     "data": {
      "text/html": [
       "<div>\n",
       "<style scoped>\n",
       "    .dataframe tbody tr th:only-of-type {\n",
       "        vertical-align: middle;\n",
       "    }\n",
       "\n",
       "    .dataframe tbody tr th {\n",
       "        vertical-align: top;\n",
       "    }\n",
       "\n",
       "    .dataframe thead th {\n",
       "        text-align: right;\n",
       "    }\n",
       "</style>\n",
       "<table border=\"1\" class=\"dataframe\">\n",
       "  <thead>\n",
       "    <tr style=\"text-align: right;\">\n",
       "      <th></th>\n",
       "      <th>ID</th>\n",
       "      <th>Salary</th>\n",
       "      <th>DOJ</th>\n",
       "      <th>DOL</th>\n",
       "      <th>Designation</th>\n",
       "      <th>JobCity</th>\n",
       "      <th>Gender</th>\n",
       "      <th>DOB</th>\n",
       "      <th>10percentage</th>\n",
       "      <th>10board</th>\n",
       "      <th>...</th>\n",
       "      <th>ComputerScience</th>\n",
       "      <th>MechanicalEngg</th>\n",
       "      <th>ElectricalEngg</th>\n",
       "      <th>TelecomEngg</th>\n",
       "      <th>CivilEngg</th>\n",
       "      <th>conscientiousness</th>\n",
       "      <th>agreeableness</th>\n",
       "      <th>extraversion</th>\n",
       "      <th>nueroticism</th>\n",
       "      <th>openess_to_experience</th>\n",
       "    </tr>\n",
       "  </thead>\n",
       "  <tbody>\n",
       "    <tr>\n",
       "      <th>0</th>\n",
       "      <td>203097</td>\n",
       "      <td>420000</td>\n",
       "      <td>2012-06-01</td>\n",
       "      <td>present</td>\n",
       "      <td>senior quality engineer</td>\n",
       "      <td>Bangalore</td>\n",
       "      <td>f</td>\n",
       "      <td>1990-02-19</td>\n",
       "      <td>84.3</td>\n",
       "      <td>board ofsecondary education,ap</td>\n",
       "      <td>...</td>\n",
       "      <td>-1</td>\n",
       "      <td>-1</td>\n",
       "      <td>-1</td>\n",
       "      <td>-1</td>\n",
       "      <td>-1</td>\n",
       "      <td>0.9737</td>\n",
       "      <td>0.8128</td>\n",
       "      <td>0.5269</td>\n",
       "      <td>1.35490</td>\n",
       "      <td>-0.4455</td>\n",
       "    </tr>\n",
       "    <tr>\n",
       "      <th>1</th>\n",
       "      <td>579905</td>\n",
       "      <td>500000</td>\n",
       "      <td>2013-09-01</td>\n",
       "      <td>present</td>\n",
       "      <td>assistant manager</td>\n",
       "      <td>Indore</td>\n",
       "      <td>m</td>\n",
       "      <td>1989-10-04</td>\n",
       "      <td>85.4</td>\n",
       "      <td>cbse</td>\n",
       "      <td>...</td>\n",
       "      <td>-1</td>\n",
       "      <td>-1</td>\n",
       "      <td>-1</td>\n",
       "      <td>-1</td>\n",
       "      <td>-1</td>\n",
       "      <td>-0.7335</td>\n",
       "      <td>0.3789</td>\n",
       "      <td>1.2396</td>\n",
       "      <td>-0.10760</td>\n",
       "      <td>0.8637</td>\n",
       "    </tr>\n",
       "    <tr>\n",
       "      <th>2</th>\n",
       "      <td>810601</td>\n",
       "      <td>325000</td>\n",
       "      <td>2014-06-01</td>\n",
       "      <td>present</td>\n",
       "      <td>systems engineer</td>\n",
       "      <td>Chennai</td>\n",
       "      <td>f</td>\n",
       "      <td>1992-08-03</td>\n",
       "      <td>85.0</td>\n",
       "      <td>cbse</td>\n",
       "      <td>...</td>\n",
       "      <td>-1</td>\n",
       "      <td>-1</td>\n",
       "      <td>-1</td>\n",
       "      <td>-1</td>\n",
       "      <td>-1</td>\n",
       "      <td>0.2718</td>\n",
       "      <td>1.7109</td>\n",
       "      <td>0.1637</td>\n",
       "      <td>-0.86820</td>\n",
       "      <td>0.6721</td>\n",
       "    </tr>\n",
       "    <tr>\n",
       "      <th>3</th>\n",
       "      <td>267447</td>\n",
       "      <td>1100000</td>\n",
       "      <td>2011-07-01</td>\n",
       "      <td>present</td>\n",
       "      <td>senior software engineer</td>\n",
       "      <td>Gurgaon</td>\n",
       "      <td>m</td>\n",
       "      <td>1989-12-05</td>\n",
       "      <td>85.6</td>\n",
       "      <td>cbse</td>\n",
       "      <td>...</td>\n",
       "      <td>-1</td>\n",
       "      <td>-1</td>\n",
       "      <td>-1</td>\n",
       "      <td>-1</td>\n",
       "      <td>-1</td>\n",
       "      <td>0.0464</td>\n",
       "      <td>0.3448</td>\n",
       "      <td>-0.3440</td>\n",
       "      <td>-0.40780</td>\n",
       "      <td>-0.9194</td>\n",
       "    </tr>\n",
       "    <tr>\n",
       "      <th>4</th>\n",
       "      <td>343523</td>\n",
       "      <td>200000</td>\n",
       "      <td>2014-03-01</td>\n",
       "      <td>2015-03-01 00:00:00</td>\n",
       "      <td>get</td>\n",
       "      <td>Manesar</td>\n",
       "      <td>m</td>\n",
       "      <td>1991-02-27</td>\n",
       "      <td>78.0</td>\n",
       "      <td>cbse</td>\n",
       "      <td>...</td>\n",
       "      <td>-1</td>\n",
       "      <td>-1</td>\n",
       "      <td>-1</td>\n",
       "      <td>-1</td>\n",
       "      <td>-1</td>\n",
       "      <td>-0.8810</td>\n",
       "      <td>-0.2793</td>\n",
       "      <td>-1.0697</td>\n",
       "      <td>0.09163</td>\n",
       "      <td>-0.1295</td>\n",
       "    </tr>\n",
       "  </tbody>\n",
       "</table>\n",
       "<p>5 rows × 36 columns</p>\n",
       "</div>"
      ],
      "text/plain": [
       "       ID   Salary        DOJ                  DOL               Designation  \\\n",
       "0  203097   420000 2012-06-01              present   senior quality engineer   \n",
       "1  579905   500000 2013-09-01              present         assistant manager   \n",
       "2  810601   325000 2014-06-01              present          systems engineer   \n",
       "3  267447  1100000 2011-07-01              present  senior software engineer   \n",
       "4  343523   200000 2014-03-01  2015-03-01 00:00:00                       get   \n",
       "\n",
       "     JobCity Gender        DOB  10percentage                         10board  \\\n",
       "0  Bangalore      f 1990-02-19          84.3  board ofsecondary education,ap   \n",
       "1     Indore      m 1989-10-04          85.4                            cbse   \n",
       "2    Chennai      f 1992-08-03          85.0                            cbse   \n",
       "3    Gurgaon      m 1989-12-05          85.6                            cbse   \n",
       "4    Manesar      m 1991-02-27          78.0                            cbse   \n",
       "\n",
       "   ...  ComputerScience  MechanicalEngg ElectricalEngg  TelecomEngg CivilEngg  \\\n",
       "0  ...               -1              -1             -1           -1        -1   \n",
       "1  ...               -1              -1             -1           -1        -1   \n",
       "2  ...               -1              -1             -1           -1        -1   \n",
       "3  ...               -1              -1             -1           -1        -1   \n",
       "4  ...               -1              -1             -1           -1        -1   \n",
       "\n",
       "  conscientiousness  agreeableness  extraversion nueroticism  \\\n",
       "0            0.9737         0.8128        0.5269     1.35490   \n",
       "1           -0.7335         0.3789        1.2396    -0.10760   \n",
       "2            0.2718         1.7109        0.1637    -0.86820   \n",
       "3            0.0464         0.3448       -0.3440    -0.40780   \n",
       "4           -0.8810        -0.2793       -1.0697     0.09163   \n",
       "\n",
       "   openess_to_experience  \n",
       "0                -0.4455  \n",
       "1                 0.8637  \n",
       "2                 0.6721  \n",
       "3                -0.9194  \n",
       "4                -0.1295  \n",
       "\n",
       "[5 rows x 36 columns]"
      ]
     },
     "execution_count": 16,
     "metadata": {},
     "output_type": "execute_result"
    }
   ],
   "source": [
    "df_copy.head()"
   ]
  },
  {
   "cell_type": "markdown",
   "id": "6ecb401f-d08e-4e15-a4ac-9bb43d7dde52",
   "metadata": {},
   "source": [
    "#### Comment\n",
    "* ID column is also not necessary, hence dropping it as well."
   ]
  },
  {
   "cell_type": "code",
   "execution_count": 18,
   "id": "e4cd550f-95be-4639-a27e-cc853cd7e59e",
   "metadata": {},
   "outputs": [],
   "source": [
    "df_copy.drop(columns = 'ID', inplace = True)"
   ]
  },
  {
   "cell_type": "code",
   "execution_count": 19,
   "id": "73f44d3b-908d-4b1c-b8a8-dd409eb9ecbc",
   "metadata": {},
   "outputs": [
    {
     "data": {
      "text/plain": [
       "(3998, 35)"
      ]
     },
     "execution_count": 19,
     "metadata": {},
     "output_type": "execute_result"
    }
   ],
   "source": [
    "df_copy.shape"
   ]
  },
  {
   "cell_type": "code",
   "execution_count": 20,
   "id": "b62ad9a7-09a2-4d1b-baf8-e8a46fd82a82",
   "metadata": {},
   "outputs": [
    {
     "data": {
      "text/html": [
       "<div>\n",
       "<style scoped>\n",
       "    .dataframe tbody tr th:only-of-type {\n",
       "        vertical-align: middle;\n",
       "    }\n",
       "\n",
       "    .dataframe tbody tr th {\n",
       "        vertical-align: top;\n",
       "    }\n",
       "\n",
       "    .dataframe thead th {\n",
       "        text-align: right;\n",
       "    }\n",
       "</style>\n",
       "<table border=\"1\" class=\"dataframe\">\n",
       "  <thead>\n",
       "    <tr style=\"text-align: right;\">\n",
       "      <th></th>\n",
       "      <th>Salary</th>\n",
       "      <th>DOJ</th>\n",
       "      <th>DOL</th>\n",
       "      <th>Designation</th>\n",
       "      <th>JobCity</th>\n",
       "      <th>Gender</th>\n",
       "      <th>DOB</th>\n",
       "      <th>10percentage</th>\n",
       "      <th>10board</th>\n",
       "      <th>12graduation</th>\n",
       "      <th>...</th>\n",
       "      <th>ComputerScience</th>\n",
       "      <th>MechanicalEngg</th>\n",
       "      <th>ElectricalEngg</th>\n",
       "      <th>TelecomEngg</th>\n",
       "      <th>CivilEngg</th>\n",
       "      <th>conscientiousness</th>\n",
       "      <th>agreeableness</th>\n",
       "      <th>extraversion</th>\n",
       "      <th>nueroticism</th>\n",
       "      <th>openess_to_experience</th>\n",
       "    </tr>\n",
       "  </thead>\n",
       "  <tbody>\n",
       "    <tr>\n",
       "      <th>0</th>\n",
       "      <td>420000</td>\n",
       "      <td>2012-06-01</td>\n",
       "      <td>present</td>\n",
       "      <td>senior quality engineer</td>\n",
       "      <td>Bangalore</td>\n",
       "      <td>f</td>\n",
       "      <td>1990-02-19</td>\n",
       "      <td>84.3</td>\n",
       "      <td>board ofsecondary education,ap</td>\n",
       "      <td>2007</td>\n",
       "      <td>...</td>\n",
       "      <td>-1</td>\n",
       "      <td>-1</td>\n",
       "      <td>-1</td>\n",
       "      <td>-1</td>\n",
       "      <td>-1</td>\n",
       "      <td>0.9737</td>\n",
       "      <td>0.8128</td>\n",
       "      <td>0.5269</td>\n",
       "      <td>1.35490</td>\n",
       "      <td>-0.4455</td>\n",
       "    </tr>\n",
       "    <tr>\n",
       "      <th>1</th>\n",
       "      <td>500000</td>\n",
       "      <td>2013-09-01</td>\n",
       "      <td>present</td>\n",
       "      <td>assistant manager</td>\n",
       "      <td>Indore</td>\n",
       "      <td>m</td>\n",
       "      <td>1989-10-04</td>\n",
       "      <td>85.4</td>\n",
       "      <td>cbse</td>\n",
       "      <td>2007</td>\n",
       "      <td>...</td>\n",
       "      <td>-1</td>\n",
       "      <td>-1</td>\n",
       "      <td>-1</td>\n",
       "      <td>-1</td>\n",
       "      <td>-1</td>\n",
       "      <td>-0.7335</td>\n",
       "      <td>0.3789</td>\n",
       "      <td>1.2396</td>\n",
       "      <td>-0.10760</td>\n",
       "      <td>0.8637</td>\n",
       "    </tr>\n",
       "    <tr>\n",
       "      <th>2</th>\n",
       "      <td>325000</td>\n",
       "      <td>2014-06-01</td>\n",
       "      <td>present</td>\n",
       "      <td>systems engineer</td>\n",
       "      <td>Chennai</td>\n",
       "      <td>f</td>\n",
       "      <td>1992-08-03</td>\n",
       "      <td>85.0</td>\n",
       "      <td>cbse</td>\n",
       "      <td>2010</td>\n",
       "      <td>...</td>\n",
       "      <td>-1</td>\n",
       "      <td>-1</td>\n",
       "      <td>-1</td>\n",
       "      <td>-1</td>\n",
       "      <td>-1</td>\n",
       "      <td>0.2718</td>\n",
       "      <td>1.7109</td>\n",
       "      <td>0.1637</td>\n",
       "      <td>-0.86820</td>\n",
       "      <td>0.6721</td>\n",
       "    </tr>\n",
       "    <tr>\n",
       "      <th>3</th>\n",
       "      <td>1100000</td>\n",
       "      <td>2011-07-01</td>\n",
       "      <td>present</td>\n",
       "      <td>senior software engineer</td>\n",
       "      <td>Gurgaon</td>\n",
       "      <td>m</td>\n",
       "      <td>1989-12-05</td>\n",
       "      <td>85.6</td>\n",
       "      <td>cbse</td>\n",
       "      <td>2007</td>\n",
       "      <td>...</td>\n",
       "      <td>-1</td>\n",
       "      <td>-1</td>\n",
       "      <td>-1</td>\n",
       "      <td>-1</td>\n",
       "      <td>-1</td>\n",
       "      <td>0.0464</td>\n",
       "      <td>0.3448</td>\n",
       "      <td>-0.3440</td>\n",
       "      <td>-0.40780</td>\n",
       "      <td>-0.9194</td>\n",
       "    </tr>\n",
       "    <tr>\n",
       "      <th>4</th>\n",
       "      <td>200000</td>\n",
       "      <td>2014-03-01</td>\n",
       "      <td>2015-03-01 00:00:00</td>\n",
       "      <td>get</td>\n",
       "      <td>Manesar</td>\n",
       "      <td>m</td>\n",
       "      <td>1991-02-27</td>\n",
       "      <td>78.0</td>\n",
       "      <td>cbse</td>\n",
       "      <td>2008</td>\n",
       "      <td>...</td>\n",
       "      <td>-1</td>\n",
       "      <td>-1</td>\n",
       "      <td>-1</td>\n",
       "      <td>-1</td>\n",
       "      <td>-1</td>\n",
       "      <td>-0.8810</td>\n",
       "      <td>-0.2793</td>\n",
       "      <td>-1.0697</td>\n",
       "      <td>0.09163</td>\n",
       "      <td>-0.1295</td>\n",
       "    </tr>\n",
       "  </tbody>\n",
       "</table>\n",
       "<p>5 rows × 35 columns</p>\n",
       "</div>"
      ],
      "text/plain": [
       "    Salary        DOJ                  DOL               Designation  \\\n",
       "0   420000 2012-06-01              present   senior quality engineer   \n",
       "1   500000 2013-09-01              present         assistant manager   \n",
       "2   325000 2014-06-01              present          systems engineer   \n",
       "3  1100000 2011-07-01              present  senior software engineer   \n",
       "4   200000 2014-03-01  2015-03-01 00:00:00                       get   \n",
       "\n",
       "     JobCity Gender        DOB  10percentage                         10board  \\\n",
       "0  Bangalore      f 1990-02-19          84.3  board ofsecondary education,ap   \n",
       "1     Indore      m 1989-10-04          85.4                            cbse   \n",
       "2    Chennai      f 1992-08-03          85.0                            cbse   \n",
       "3    Gurgaon      m 1989-12-05          85.6                            cbse   \n",
       "4    Manesar      m 1991-02-27          78.0                            cbse   \n",
       "\n",
       "   12graduation  ...  ComputerScience MechanicalEngg  ElectricalEngg  \\\n",
       "0          2007  ...               -1             -1              -1   \n",
       "1          2007  ...               -1             -1              -1   \n",
       "2          2010  ...               -1             -1              -1   \n",
       "3          2007  ...               -1             -1              -1   \n",
       "4          2008  ...               -1             -1              -1   \n",
       "\n",
       "  TelecomEngg CivilEngg  conscientiousness  agreeableness extraversion  \\\n",
       "0          -1        -1             0.9737         0.8128       0.5269   \n",
       "1          -1        -1            -0.7335         0.3789       1.2396   \n",
       "2          -1        -1             0.2718         1.7109       0.1637   \n",
       "3          -1        -1             0.0464         0.3448      -0.3440   \n",
       "4          -1        -1            -0.8810        -0.2793      -1.0697   \n",
       "\n",
       "   nueroticism  openess_to_experience  \n",
       "0      1.35490                -0.4455  \n",
       "1     -0.10760                 0.8637  \n",
       "2     -0.86820                 0.6721  \n",
       "3     -0.40780                -0.9194  \n",
       "4      0.09163                -0.1295  \n",
       "\n",
       "[5 rows x 35 columns]"
      ]
     },
     "execution_count": 20,
     "metadata": {},
     "output_type": "execute_result"
    }
   ],
   "source": [
    "df_copy.head()"
   ]
  },
  {
   "cell_type": "code",
   "execution_count": null,
   "id": "7f3ec326-cf2a-4a3a-bf07-74b1130c860d",
   "metadata": {},
   "outputs": [],
   "source": []
  },
  {
   "cell_type": "markdown",
   "id": "37f93bc1-fd76-49b9-8a25-d94810012e71",
   "metadata": {},
   "source": [
    "#### Checking for duplicate values"
   ]
  },
  {
   "cell_type": "code",
   "execution_count": 22,
   "id": "0bcbcc05-950b-402d-b303-feeebdec28c1",
   "metadata": {},
   "outputs": [
    {
     "data": {
      "text/plain": [
       "0"
      ]
     },
     "execution_count": 22,
     "metadata": {},
     "output_type": "execute_result"
    }
   ],
   "source": [
    "df_copy.duplicated().sum()"
   ]
  },
  {
   "cell_type": "markdown",
   "id": "6553e8c8-4d69-453c-97f2-c576abad1d8a",
   "metadata": {},
   "source": [
    "#### Comment\n",
    "* there are no duplicate rows in the dataset."
   ]
  },
  {
   "cell_type": "code",
   "execution_count": null,
   "id": "84c34807-d497-4449-a9e1-3bd5f16e0f24",
   "metadata": {},
   "outputs": [],
   "source": []
  },
  {
   "cell_type": "markdown",
   "id": "204ac6c0-a990-4998-8c1c-19b885129128",
   "metadata": {},
   "source": [
    "#### Checking for null values"
   ]
  },
  {
   "cell_type": "code",
   "execution_count": 25,
   "id": "8c502c18-f370-42a5-b5a5-595a4ad04b37",
   "metadata": {},
   "outputs": [
    {
     "data": {
      "text/plain": [
       "Salary                   0\n",
       "DOJ                      0\n",
       "DOL                      0\n",
       "Designation              0\n",
       "JobCity                  0\n",
       "Gender                   0\n",
       "DOB                      0\n",
       "10percentage             0\n",
       "10board                  0\n",
       "12graduation             0\n",
       "12percentage             0\n",
       "12board                  0\n",
       "CollegeTier              0\n",
       "Degree                   0\n",
       "Specialization           0\n",
       "collegeGPA               0\n",
       "CollegeCityTier          0\n",
       "CollegeState             0\n",
       "GraduationYear           0\n",
       "English                  0\n",
       "Logical                  0\n",
       "Quant                    0\n",
       "Domain                   0\n",
       "ComputerProgramming      0\n",
       "ElectronicsAndSemicon    0\n",
       "ComputerScience          0\n",
       "MechanicalEngg           0\n",
       "ElectricalEngg           0\n",
       "TelecomEngg              0\n",
       "CivilEngg                0\n",
       "conscientiousness        0\n",
       "agreeableness            0\n",
       "extraversion             0\n",
       "nueroticism              0\n",
       "openess_to_experience    0\n",
       "dtype: int64"
      ]
     },
     "execution_count": 25,
     "metadata": {},
     "output_type": "execute_result"
    }
   ],
   "source": [
    "df_copy.isnull().sum()"
   ]
  },
  {
   "cell_type": "markdown",
   "id": "b8591c46-45cd-44bb-8750-0a3a71d6982d",
   "metadata": {},
   "source": [
    "#### Comment\n",
    "\n",
    "* there are no null values in the data"
   ]
  },
  {
   "cell_type": "code",
   "execution_count": null,
   "id": "2de32a90-f093-4d16-8d2b-68a25598d2cc",
   "metadata": {},
   "outputs": [],
   "source": []
  },
  {
   "cell_type": "code",
   "execution_count": 27,
   "id": "e0250a48-2d86-4433-8a5b-b75784fa666b",
   "metadata": {},
   "outputs": [
    {
     "name": "stdout",
     "output_type": "stream",
     "text": [
      "<class 'pandas.core.frame.DataFrame'>\n",
      "RangeIndex: 3998 entries, 0 to 3997\n",
      "Data columns (total 35 columns):\n",
      " #   Column                 Non-Null Count  Dtype         \n",
      "---  ------                 --------------  -----         \n",
      " 0   Salary                 3998 non-null   int64         \n",
      " 1   DOJ                    3998 non-null   datetime64[ns]\n",
      " 2   DOL                    3998 non-null   object        \n",
      " 3   Designation            3998 non-null   object        \n",
      " 4   JobCity                3998 non-null   object        \n",
      " 5   Gender                 3998 non-null   object        \n",
      " 6   DOB                    3998 non-null   datetime64[ns]\n",
      " 7   10percentage           3998 non-null   float64       \n",
      " 8   10board                3998 non-null   object        \n",
      " 9   12graduation           3998 non-null   int64         \n",
      " 10  12percentage           3998 non-null   float64       \n",
      " 11  12board                3998 non-null   object        \n",
      " 12  CollegeTier            3998 non-null   int64         \n",
      " 13  Degree                 3998 non-null   object        \n",
      " 14  Specialization         3998 non-null   object        \n",
      " 15  collegeGPA             3998 non-null   float64       \n",
      " 16  CollegeCityTier        3998 non-null   int64         \n",
      " 17  CollegeState           3998 non-null   object        \n",
      " 18  GraduationYear         3998 non-null   int64         \n",
      " 19  English                3998 non-null   int64         \n",
      " 20  Logical                3998 non-null   int64         \n",
      " 21  Quant                  3998 non-null   int64         \n",
      " 22  Domain                 3998 non-null   float64       \n",
      " 23  ComputerProgramming    3998 non-null   int64         \n",
      " 24  ElectronicsAndSemicon  3998 non-null   int64         \n",
      " 25  ComputerScience        3998 non-null   int64         \n",
      " 26  MechanicalEngg         3998 non-null   int64         \n",
      " 27  ElectricalEngg         3998 non-null   int64         \n",
      " 28  TelecomEngg            3998 non-null   int64         \n",
      " 29  CivilEngg              3998 non-null   int64         \n",
      " 30  conscientiousness      3998 non-null   float64       \n",
      " 31  agreeableness          3998 non-null   float64       \n",
      " 32  extraversion           3998 non-null   float64       \n",
      " 33  nueroticism            3998 non-null   float64       \n",
      " 34  openess_to_experience  3998 non-null   float64       \n",
      "dtypes: datetime64[ns](2), float64(9), int64(15), object(9)\n",
      "memory usage: 1.1+ MB\n"
     ]
    }
   ],
   "source": [
    "df_copy.info()"
   ]
  },
  {
   "cell_type": "code",
   "execution_count": null,
   "id": "6324a5a3-4280-4ce8-b4fd-3e44ad6bcf6c",
   "metadata": {},
   "outputs": [],
   "source": []
  },
  {
   "cell_type": "markdown",
   "id": "1b926e4e-c1ff-4f52-8a29-0f1db74a6f08",
   "metadata": {},
   "source": [
    "#### Changing the datatype of Date of leaving (DOL) column"
   ]
  },
  {
   "cell_type": "code",
   "execution_count": 29,
   "id": "88b01e29-db61-4e12-aea8-aeb146840ca2",
   "metadata": {},
   "outputs": [
    {
     "data": {
      "text/plain": [
       "0                present\n",
       "1                present\n",
       "2                present\n",
       "3                present\n",
       "4    2015-03-01 00:00:00\n",
       "Name: DOL, dtype: object"
      ]
     },
     "execution_count": 29,
     "metadata": {},
     "output_type": "execute_result"
    }
   ],
   "source": [
    "df_copy.head()['DOL']"
   ]
  },
  {
   "cell_type": "markdown",
   "id": "d74a6074-ad13-4e02-ad75-1850a8a2070b",
   "metadata": {},
   "source": [
    "#### Comment\n",
    "\n",
    "* changing the value present to today's date so that it is easy to analyze later."
   ]
  },
  {
   "cell_type": "code",
   "execution_count": 31,
   "id": "d638c0cb-cd45-46b8-a5c1-90eab7a38ce2",
   "metadata": {},
   "outputs": [],
   "source": [
    "today_date = pd.to_datetime('today').normalize()"
   ]
  },
  {
   "cell_type": "code",
   "execution_count": 32,
   "id": "1d56b000-b45d-42c5-982a-b7513a089c50",
   "metadata": {},
   "outputs": [
    {
     "data": {
      "text/plain": [
       "Timestamp('2025-03-06 00:00:00')"
      ]
     },
     "execution_count": 32,
     "metadata": {},
     "output_type": "execute_result"
    }
   ],
   "source": [
    "today_date"
   ]
  },
  {
   "cell_type": "code",
   "execution_count": 33,
   "id": "9660deba-5190-4564-9af2-67254a61f684",
   "metadata": {},
   "outputs": [
    {
     "data": {
      "text/plain": [
       "0      2025-03-06\n",
       "1      2025-03-06\n",
       "2      2025-03-06\n",
       "3      2025-03-06\n",
       "4      2015-03-01\n",
       "          ...    \n",
       "3993   2012-10-01\n",
       "3994   2013-07-01\n",
       "3995   2025-03-06\n",
       "3996   2015-01-01\n",
       "3997   2025-03-06\n",
       "Name: DOL, Length: 3998, dtype: datetime64[ns]"
      ]
     },
     "execution_count": 33,
     "metadata": {},
     "output_type": "execute_result"
    }
   ],
   "source": [
    "df_copy['DOL'].replace('present', today_date)"
   ]
  },
  {
   "cell_type": "code",
   "execution_count": 34,
   "id": "c8de4900-f58c-4a3a-80d5-e6b317d24b07",
   "metadata": {},
   "outputs": [],
   "source": [
    "df_copy['DOL'] = df_copy['DOL'].replace('present', today_date)"
   ]
  },
  {
   "cell_type": "code",
   "execution_count": 35,
   "id": "b9e0bee9-afb6-4e47-b73d-f5d8848d5e94",
   "metadata": {},
   "outputs": [
    {
     "data": {
      "text/plain": [
       "0   2025-03-06\n",
       "1   2025-03-06\n",
       "2   2025-03-06\n",
       "3   2025-03-06\n",
       "4   2015-03-01\n",
       "Name: DOL, dtype: datetime64[ns]"
      ]
     },
     "execution_count": 35,
     "metadata": {},
     "output_type": "execute_result"
    }
   ],
   "source": [
    "df_copy['DOL'].head()"
   ]
  },
  {
   "cell_type": "code",
   "execution_count": 36,
   "id": "14064706-1bc5-47ed-804e-c88a90f95796",
   "metadata": {},
   "outputs": [],
   "source": [
    "df_copy['DOL'] = pd.to_datetime(df_copy['DOL'])"
   ]
  },
  {
   "cell_type": "code",
   "execution_count": 37,
   "id": "60a63f1d-eae3-43e8-9e75-8b41c354c102",
   "metadata": {},
   "outputs": [
    {
     "data": {
      "text/plain": [
       "dtype('<M8[ns]')"
      ]
     },
     "execution_count": 37,
     "metadata": {},
     "output_type": "execute_result"
    }
   ],
   "source": [
    "df_copy['DOL'].dtype"
   ]
  },
  {
   "cell_type": "code",
   "execution_count": 38,
   "id": "1abec477-267a-4b66-9abf-273ac8388d84",
   "metadata": {},
   "outputs": [
    {
     "data": {
      "text/plain": [
       "Timestamp('2025-03-06 07:21:16.481710')"
      ]
     },
     "execution_count": 38,
     "metadata": {},
     "output_type": "execute_result"
    }
   ],
   "source": [
    "pd.Timestamp.now()"
   ]
  },
  {
   "cell_type": "code",
   "execution_count": null,
   "id": "c764bd05-b0e8-41f9-8854-984270dda46a",
   "metadata": {},
   "outputs": [],
   "source": []
  },
  {
   "cell_type": "markdown",
   "id": "4a69c7ec-42f7-48dd-8300-d74c48b3caeb",
   "metadata": {},
   "source": [
    "#### Date of joining should be before date of leaving --- checking if there are any violations"
   ]
  },
  {
   "cell_type": "code",
   "execution_count": 40,
   "id": "d3c7e2fe-d68a-4f11-9909-26d1cac96a31",
   "metadata": {},
   "outputs": [
    {
     "data": {
      "text/html": [
       "<div>\n",
       "<style scoped>\n",
       "    .dataframe tbody tr th:only-of-type {\n",
       "        vertical-align: middle;\n",
       "    }\n",
       "\n",
       "    .dataframe tbody tr th {\n",
       "        vertical-align: top;\n",
       "    }\n",
       "\n",
       "    .dataframe thead th {\n",
       "        text-align: right;\n",
       "    }\n",
       "</style>\n",
       "<table border=\"1\" class=\"dataframe\">\n",
       "  <thead>\n",
       "    <tr style=\"text-align: right;\">\n",
       "      <th></th>\n",
       "      <th>Salary</th>\n",
       "      <th>DOJ</th>\n",
       "      <th>DOL</th>\n",
       "      <th>Designation</th>\n",
       "      <th>JobCity</th>\n",
       "      <th>Gender</th>\n",
       "      <th>DOB</th>\n",
       "      <th>10percentage</th>\n",
       "      <th>10board</th>\n",
       "      <th>12graduation</th>\n",
       "      <th>...</th>\n",
       "      <th>ComputerScience</th>\n",
       "      <th>MechanicalEngg</th>\n",
       "      <th>ElectricalEngg</th>\n",
       "      <th>TelecomEngg</th>\n",
       "      <th>CivilEngg</th>\n",
       "      <th>conscientiousness</th>\n",
       "      <th>agreeableness</th>\n",
       "      <th>extraversion</th>\n",
       "      <th>nueroticism</th>\n",
       "      <th>openess_to_experience</th>\n",
       "    </tr>\n",
       "  </thead>\n",
       "  <tbody>\n",
       "    <tr>\n",
       "      <th>29</th>\n",
       "      <td>220000</td>\n",
       "      <td>2014-11-01</td>\n",
       "      <td>2014-04-01</td>\n",
       "      <td>java software engineer</td>\n",
       "      <td>Gurgaon</td>\n",
       "      <td>m</td>\n",
       "      <td>1992-06-11</td>\n",
       "      <td>64.00</td>\n",
       "      <td>cbse</td>\n",
       "      <td>2010</td>\n",
       "      <td>...</td>\n",
       "      <td>376</td>\n",
       "      <td>-1</td>\n",
       "      <td>-1</td>\n",
       "      <td>-1</td>\n",
       "      <td>-1</td>\n",
       "      <td>-3.1994</td>\n",
       "      <td>-1.8393</td>\n",
       "      <td>0.0552</td>\n",
       "      <td>0.06230</td>\n",
       "      <td>-0.7615</td>\n",
       "    </tr>\n",
       "    <tr>\n",
       "      <th>92</th>\n",
       "      <td>1500000</td>\n",
       "      <td>2014-11-01</td>\n",
       "      <td>2014-07-01</td>\n",
       "      <td>application developer</td>\n",
       "      <td>Hyderabad</td>\n",
       "      <td>m</td>\n",
       "      <td>1992-01-04</td>\n",
       "      <td>79.00</td>\n",
       "      <td>state board</td>\n",
       "      <td>2009</td>\n",
       "      <td>...</td>\n",
       "      <td>346</td>\n",
       "      <td>-1</td>\n",
       "      <td>-1</td>\n",
       "      <td>-1</td>\n",
       "      <td>-1</td>\n",
       "      <td>0.4155</td>\n",
       "      <td>0.5454</td>\n",
       "      <td>0.9322</td>\n",
       "      <td>-0.61470</td>\n",
       "      <td>0.8637</td>\n",
       "    </tr>\n",
       "    <tr>\n",
       "      <th>148</th>\n",
       "      <td>105000</td>\n",
       "      <td>2014-11-01</td>\n",
       "      <td>2014-02-01</td>\n",
       "      <td>web developer</td>\n",
       "      <td>Hyderabad</td>\n",
       "      <td>m</td>\n",
       "      <td>1991-11-03</td>\n",
       "      <td>73.08</td>\n",
       "      <td>state board</td>\n",
       "      <td>2009</td>\n",
       "      <td>...</td>\n",
       "      <td>-1</td>\n",
       "      <td>-1</td>\n",
       "      <td>-1</td>\n",
       "      <td>-1</td>\n",
       "      <td>-1</td>\n",
       "      <td>-0.7335</td>\n",
       "      <td>-0.9531</td>\n",
       "      <td>0.6248</td>\n",
       "      <td>0.27270</td>\n",
       "      <td>-1.8189</td>\n",
       "    </tr>\n",
       "    <tr>\n",
       "      <th>235</th>\n",
       "      <td>120000</td>\n",
       "      <td>2013-10-01</td>\n",
       "      <td>2013-07-01</td>\n",
       "      <td>web developer</td>\n",
       "      <td>Noida</td>\n",
       "      <td>f</td>\n",
       "      <td>1990-08-05</td>\n",
       "      <td>74.00</td>\n",
       "      <td>state board</td>\n",
       "      <td>2007</td>\n",
       "      <td>...</td>\n",
       "      <td>-1</td>\n",
       "      <td>-1</td>\n",
       "      <td>-1</td>\n",
       "      <td>-1</td>\n",
       "      <td>-1</td>\n",
       "      <td>-0.5719</td>\n",
       "      <td>0.1888</td>\n",
       "      <td>0.2366</td>\n",
       "      <td>0.29730</td>\n",
       "      <td>-0.2875</td>\n",
       "    </tr>\n",
       "    <tr>\n",
       "      <th>264</th>\n",
       "      <td>325000</td>\n",
       "      <td>2014-12-01</td>\n",
       "      <td>2014-09-01</td>\n",
       "      <td>systems engineer</td>\n",
       "      <td>Mysore</td>\n",
       "      <td>f</td>\n",
       "      <td>1992-09-16</td>\n",
       "      <td>85.28</td>\n",
       "      <td>state board</td>\n",
       "      <td>2010</td>\n",
       "      <td>...</td>\n",
       "      <td>-1</td>\n",
       "      <td>-1</td>\n",
       "      <td>-1</td>\n",
       "      <td>-1</td>\n",
       "      <td>-1</td>\n",
       "      <td>0.5591</td>\n",
       "      <td>-0.2871</td>\n",
       "      <td>0.0100</td>\n",
       "      <td>0.65300</td>\n",
       "      <td>-4.5015</td>\n",
       "    </tr>\n",
       "    <tr>\n",
       "      <th>451</th>\n",
       "      <td>170000</td>\n",
       "      <td>2014-12-01</td>\n",
       "      <td>2014-03-01</td>\n",
       "      <td>data analyst</td>\n",
       "      <td>hyderabad</td>\n",
       "      <td>m</td>\n",
       "      <td>1992-02-26</td>\n",
       "      <td>86.80</td>\n",
       "      <td>state board</td>\n",
       "      <td>2009</td>\n",
       "      <td>...</td>\n",
       "      <td>-1</td>\n",
       "      <td>-1</td>\n",
       "      <td>-1</td>\n",
       "      <td>-1</td>\n",
       "      <td>-1</td>\n",
       "      <td>0.5591</td>\n",
       "      <td>-0.1206</td>\n",
       "      <td>1.0859</td>\n",
       "      <td>-0.86820</td>\n",
       "      <td>0.0973</td>\n",
       "    </tr>\n",
       "    <tr>\n",
       "      <th>591</th>\n",
       "      <td>240000</td>\n",
       "      <td>2014-10-01</td>\n",
       "      <td>2014-08-01</td>\n",
       "      <td>business development manager</td>\n",
       "      <td>Noida</td>\n",
       "      <td>f</td>\n",
       "      <td>1995-01-10</td>\n",
       "      <td>60.00</td>\n",
       "      <td>state board</td>\n",
       "      <td>2010</td>\n",
       "      <td>...</td>\n",
       "      <td>-1</td>\n",
       "      <td>-1</td>\n",
       "      <td>-1</td>\n",
       "      <td>-1</td>\n",
       "      <td>-1</td>\n",
       "      <td>1.2772</td>\n",
       "      <td>-1.1196</td>\n",
       "      <td>0.0100</td>\n",
       "      <td>0.90660</td>\n",
       "      <td>0.4805</td>\n",
       "    </tr>\n",
       "    <tr>\n",
       "      <th>865</th>\n",
       "      <td>200000</td>\n",
       "      <td>2014-12-01</td>\n",
       "      <td>2014-04-01</td>\n",
       "      <td>qa analyst</td>\n",
       "      <td>Hyderabad</td>\n",
       "      <td>m</td>\n",
       "      <td>1992-11-06</td>\n",
       "      <td>92.83</td>\n",
       "      <td>state board</td>\n",
       "      <td>2010</td>\n",
       "      <td>...</td>\n",
       "      <td>-1</td>\n",
       "      <td>-1</td>\n",
       "      <td>-1</td>\n",
       "      <td>-1</td>\n",
       "      <td>-1</td>\n",
       "      <td>1.8517</td>\n",
       "      <td>1.0449</td>\n",
       "      <td>1.8543</td>\n",
       "      <td>-2.13600</td>\n",
       "      <td>1.0554</td>\n",
       "    </tr>\n",
       "    <tr>\n",
       "      <th>888</th>\n",
       "      <td>110000</td>\n",
       "      <td>2014-10-01</td>\n",
       "      <td>2014-02-01</td>\n",
       "      <td>software engineer</td>\n",
       "      <td>Pune</td>\n",
       "      <td>m</td>\n",
       "      <td>1991-01-16</td>\n",
       "      <td>66.46</td>\n",
       "      <td>state board</td>\n",
       "      <td>2009</td>\n",
       "      <td>...</td>\n",
       "      <td>469</td>\n",
       "      <td>-1</td>\n",
       "      <td>-1</td>\n",
       "      <td>-1</td>\n",
       "      <td>-1</td>\n",
       "      <td>1.5644</td>\n",
       "      <td>-0.1206</td>\n",
       "      <td>0.0100</td>\n",
       "      <td>0.52620</td>\n",
       "      <td>0.6721</td>\n",
       "    </tr>\n",
       "    <tr>\n",
       "      <th>1005</th>\n",
       "      <td>180000</td>\n",
       "      <td>2014-11-01</td>\n",
       "      <td>2014-06-01</td>\n",
       "      <td>staffing recruiter</td>\n",
       "      <td>Noida</td>\n",
       "      <td>m</td>\n",
       "      <td>1992-08-20</td>\n",
       "      <td>79.00</td>\n",
       "      <td>icse</td>\n",
       "      <td>2010</td>\n",
       "      <td>...</td>\n",
       "      <td>-1</td>\n",
       "      <td>-1</td>\n",
       "      <td>-1</td>\n",
       "      <td>-1</td>\n",
       "      <td>-1</td>\n",
       "      <td>-2.0262</td>\n",
       "      <td>0.3789</td>\n",
       "      <td>-1.2196</td>\n",
       "      <td>0.39950</td>\n",
       "      <td>0.6721</td>\n",
       "    </tr>\n",
       "    <tr>\n",
       "      <th>1355</th>\n",
       "      <td>150000</td>\n",
       "      <td>2014-12-01</td>\n",
       "      <td>2014-04-01</td>\n",
       "      <td>process executive</td>\n",
       "      <td>Pune</td>\n",
       "      <td>f</td>\n",
       "      <td>1991-01-16</td>\n",
       "      <td>63.00</td>\n",
       "      <td>icse</td>\n",
       "      <td>2009</td>\n",
       "      <td>...</td>\n",
       "      <td>-1</td>\n",
       "      <td>-1</td>\n",
       "      <td>-1</td>\n",
       "      <td>-1</td>\n",
       "      <td>-1</td>\n",
       "      <td>-2.6007</td>\n",
       "      <td>1.0449</td>\n",
       "      <td>0.1637</td>\n",
       "      <td>0.39950</td>\n",
       "      <td>-0.4776</td>\n",
       "    </tr>\n",
       "    <tr>\n",
       "      <th>1433</th>\n",
       "      <td>60000</td>\n",
       "      <td>2014-12-01</td>\n",
       "      <td>2014-06-01</td>\n",
       "      <td>.net web developer</td>\n",
       "      <td>-1</td>\n",
       "      <td>m</td>\n",
       "      <td>1990-11-24</td>\n",
       "      <td>59.00</td>\n",
       "      <td>state board</td>\n",
       "      <td>2008</td>\n",
       "      <td>...</td>\n",
       "      <td>346</td>\n",
       "      <td>-1</td>\n",
       "      <td>-1</td>\n",
       "      <td>-1</td>\n",
       "      <td>-1</td>\n",
       "      <td>-0.3027</td>\n",
       "      <td>-0.6201</td>\n",
       "      <td>0.1637</td>\n",
       "      <td>0.77980</td>\n",
       "      <td>-0.2859</td>\n",
       "    </tr>\n",
       "    <tr>\n",
       "      <th>1482</th>\n",
       "      <td>190000</td>\n",
       "      <td>2014-12-01</td>\n",
       "      <td>2014-02-01</td>\n",
       "      <td>software engineer trainee</td>\n",
       "      <td>-1</td>\n",
       "      <td>m</td>\n",
       "      <td>1989-08-02</td>\n",
       "      <td>73.83</td>\n",
       "      <td>rbse</td>\n",
       "      <td>2008</td>\n",
       "      <td>...</td>\n",
       "      <td>438</td>\n",
       "      <td>-1</td>\n",
       "      <td>-1</td>\n",
       "      <td>-1</td>\n",
       "      <td>-1</td>\n",
       "      <td>1.5644</td>\n",
       "      <td>1.0449</td>\n",
       "      <td>0.4711</td>\n",
       "      <td>0.77980</td>\n",
       "      <td>1.2470</td>\n",
       "    </tr>\n",
       "    <tr>\n",
       "      <th>1522</th>\n",
       "      <td>105000</td>\n",
       "      <td>2014-10-01</td>\n",
       "      <td>2014-05-01</td>\n",
       "      <td>android developer</td>\n",
       "      <td>-1</td>\n",
       "      <td>m</td>\n",
       "      <td>1988-11-29</td>\n",
       "      <td>63.00</td>\n",
       "      <td>icse</td>\n",
       "      <td>2008</td>\n",
       "      <td>...</td>\n",
       "      <td>407</td>\n",
       "      <td>-1</td>\n",
       "      <td>-1</td>\n",
       "      <td>-1</td>\n",
       "      <td>-1</td>\n",
       "      <td>-0.1590</td>\n",
       "      <td>0.3789</td>\n",
       "      <td>0.4711</td>\n",
       "      <td>1.41360</td>\n",
       "      <td>-0.2859</td>\n",
       "    </tr>\n",
       "    <tr>\n",
       "      <th>1541</th>\n",
       "      <td>125000</td>\n",
       "      <td>2014-11-01</td>\n",
       "      <td>2014-07-01</td>\n",
       "      <td>sales executive</td>\n",
       "      <td>india</td>\n",
       "      <td>f</td>\n",
       "      <td>1993-05-04</td>\n",
       "      <td>62.00</td>\n",
       "      <td>cbse</td>\n",
       "      <td>2010</td>\n",
       "      <td>...</td>\n",
       "      <td>-1</td>\n",
       "      <td>-1</td>\n",
       "      <td>-1</td>\n",
       "      <td>-1</td>\n",
       "      <td>-1</td>\n",
       "      <td>-0.0154</td>\n",
       "      <td>-0.1206</td>\n",
       "      <td>-0.4511</td>\n",
       "      <td>-0.86820</td>\n",
       "      <td>0.0973</td>\n",
       "    </tr>\n",
       "    <tr>\n",
       "      <th>1591</th>\n",
       "      <td>120000</td>\n",
       "      <td>2013-11-01</td>\n",
       "      <td>2013-06-01</td>\n",
       "      <td>software developer</td>\n",
       "      <td>-1</td>\n",
       "      <td>m</td>\n",
       "      <td>1991-04-14</td>\n",
       "      <td>83.80</td>\n",
       "      <td>cbse</td>\n",
       "      <td>2009</td>\n",
       "      <td>...</td>\n",
       "      <td>-1</td>\n",
       "      <td>-1</td>\n",
       "      <td>-1</td>\n",
       "      <td>-1</td>\n",
       "      <td>-1</td>\n",
       "      <td>-0.1590</td>\n",
       "      <td>1.2114</td>\n",
       "      <td>1.2396</td>\n",
       "      <td>-0.61470</td>\n",
       "      <td>1.6302</td>\n",
       "    </tr>\n",
       "    <tr>\n",
       "      <th>1636</th>\n",
       "      <td>315000</td>\n",
       "      <td>2014-10-01</td>\n",
       "      <td>2014-06-01</td>\n",
       "      <td>system engineer</td>\n",
       "      <td>-1</td>\n",
       "      <td>m</td>\n",
       "      <td>1992-01-16</td>\n",
       "      <td>94.20</td>\n",
       "      <td>cbse</td>\n",
       "      <td>2009</td>\n",
       "      <td>...</td>\n",
       "      <td>-1</td>\n",
       "      <td>-1</td>\n",
       "      <td>553</td>\n",
       "      <td>-1</td>\n",
       "      <td>-1</td>\n",
       "      <td>0.4155</td>\n",
       "      <td>0.3789</td>\n",
       "      <td>-0.6048</td>\n",
       "      <td>-0.74150</td>\n",
       "      <td>0.2889</td>\n",
       "    </tr>\n",
       "    <tr>\n",
       "      <th>1992</th>\n",
       "      <td>300000</td>\n",
       "      <td>2013-12-01</td>\n",
       "      <td>2013-04-01</td>\n",
       "      <td>java software engineer</td>\n",
       "      <td>Hyderabad</td>\n",
       "      <td>m</td>\n",
       "      <td>1991-10-20</td>\n",
       "      <td>89.00</td>\n",
       "      <td>state board</td>\n",
       "      <td>2009</td>\n",
       "      <td>...</td>\n",
       "      <td>-1</td>\n",
       "      <td>-1</td>\n",
       "      <td>-1</td>\n",
       "      <td>-1</td>\n",
       "      <td>-1</td>\n",
       "      <td>0.5591</td>\n",
       "      <td>1.3779</td>\n",
       "      <td>0.6248</td>\n",
       "      <td>-0.74150</td>\n",
       "      <td>-0.2859</td>\n",
       "    </tr>\n",
       "    <tr>\n",
       "      <th>2044</th>\n",
       "      <td>190000</td>\n",
       "      <td>2013-11-01</td>\n",
       "      <td>2013-06-01</td>\n",
       "      <td>technical support engineer</td>\n",
       "      <td>Chennai</td>\n",
       "      <td>m</td>\n",
       "      <td>1990-11-02</td>\n",
       "      <td>83.00</td>\n",
       "      <td>state board</td>\n",
       "      <td>2009</td>\n",
       "      <td>...</td>\n",
       "      <td>-1</td>\n",
       "      <td>-1</td>\n",
       "      <td>-1</td>\n",
       "      <td>313</td>\n",
       "      <td>-1</td>\n",
       "      <td>-0.1590</td>\n",
       "      <td>0.8784</td>\n",
       "      <td>0.7785</td>\n",
       "      <td>0.14590</td>\n",
       "      <td>1.2470</td>\n",
       "    </tr>\n",
       "    <tr>\n",
       "      <th>2266</th>\n",
       "      <td>105000</td>\n",
       "      <td>2013-10-01</td>\n",
       "      <td>2013-07-01</td>\n",
       "      <td>electrical project engineer</td>\n",
       "      <td>Lucknow</td>\n",
       "      <td>f</td>\n",
       "      <td>1990-07-16</td>\n",
       "      <td>77.40</td>\n",
       "      <td>cbse</td>\n",
       "      <td>2008</td>\n",
       "      <td>...</td>\n",
       "      <td>-1</td>\n",
       "      <td>-1</td>\n",
       "      <td>473</td>\n",
       "      <td>-1</td>\n",
       "      <td>-1</td>\n",
       "      <td>0.1282</td>\n",
       "      <td>-0.2871</td>\n",
       "      <td>1.2396</td>\n",
       "      <td>-0.36120</td>\n",
       "      <td>-0.8608</td>\n",
       "    </tr>\n",
       "    <tr>\n",
       "      <th>2319</th>\n",
       "      <td>140000</td>\n",
       "      <td>2013-10-01</td>\n",
       "      <td>2013-04-01</td>\n",
       "      <td>software engineer</td>\n",
       "      <td>Gurgaon</td>\n",
       "      <td>f</td>\n",
       "      <td>1990-08-11</td>\n",
       "      <td>78.80</td>\n",
       "      <td>cbse</td>\n",
       "      <td>2008</td>\n",
       "      <td>...</td>\n",
       "      <td>-1</td>\n",
       "      <td>-1</td>\n",
       "      <td>-1</td>\n",
       "      <td>-1</td>\n",
       "      <td>-1</td>\n",
       "      <td>0.4155</td>\n",
       "      <td>0.0459</td>\n",
       "      <td>-0.7585</td>\n",
       "      <td>2.04750</td>\n",
       "      <td>0.2889</td>\n",
       "    </tr>\n",
       "    <tr>\n",
       "      <th>2349</th>\n",
       "      <td>75000</td>\n",
       "      <td>2014-11-01</td>\n",
       "      <td>2014-06-01</td>\n",
       "      <td>android developer</td>\n",
       "      <td>-1</td>\n",
       "      <td>m</td>\n",
       "      <td>1990-04-07</td>\n",
       "      <td>74.16</td>\n",
       "      <td>state board</td>\n",
       "      <td>2008</td>\n",
       "      <td>...</td>\n",
       "      <td>438</td>\n",
       "      <td>-1</td>\n",
       "      <td>-1</td>\n",
       "      <td>-1</td>\n",
       "      <td>-1</td>\n",
       "      <td>1.2772</td>\n",
       "      <td>0.2124</td>\n",
       "      <td>0.3174</td>\n",
       "      <td>-1.37530</td>\n",
       "      <td>0.6721</td>\n",
       "    </tr>\n",
       "    <tr>\n",
       "      <th>2407</th>\n",
       "      <td>210000</td>\n",
       "      <td>2013-12-01</td>\n",
       "      <td>2013-08-01</td>\n",
       "      <td>application developer</td>\n",
       "      <td>Chennai</td>\n",
       "      <td>m</td>\n",
       "      <td>1992-02-14</td>\n",
       "      <td>89.39</td>\n",
       "      <td>state board</td>\n",
       "      <td>2009</td>\n",
       "      <td>...</td>\n",
       "      <td>-1</td>\n",
       "      <td>-1</td>\n",
       "      <td>446</td>\n",
       "      <td>-1</td>\n",
       "      <td>-1</td>\n",
       "      <td>-0.7335</td>\n",
       "      <td>0.2124</td>\n",
       "      <td>0.0100</td>\n",
       "      <td>-0.36120</td>\n",
       "      <td>0.2889</td>\n",
       "    </tr>\n",
       "    <tr>\n",
       "      <th>2414</th>\n",
       "      <td>220000</td>\n",
       "      <td>2013-11-01</td>\n",
       "      <td>2013-07-01</td>\n",
       "      <td>technical support engineer</td>\n",
       "      <td>Noida</td>\n",
       "      <td>m</td>\n",
       "      <td>1992-07-01</td>\n",
       "      <td>85.00</td>\n",
       "      <td>cbse</td>\n",
       "      <td>2009</td>\n",
       "      <td>...</td>\n",
       "      <td>-1</td>\n",
       "      <td>-1</td>\n",
       "      <td>-1</td>\n",
       "      <td>-1</td>\n",
       "      <td>-1</td>\n",
       "      <td>1.7081</td>\n",
       "      <td>1.5444</td>\n",
       "      <td>0.9322</td>\n",
       "      <td>-2.26270</td>\n",
       "      <td>0.6721</td>\n",
       "    </tr>\n",
       "    <tr>\n",
       "      <th>2805</th>\n",
       "      <td>240000</td>\n",
       "      <td>2014-10-01</td>\n",
       "      <td>2014-04-01</td>\n",
       "      <td>senior software engineer</td>\n",
       "      <td>Noida</td>\n",
       "      <td>m</td>\n",
       "      <td>1992-05-04</td>\n",
       "      <td>78.80</td>\n",
       "      <td>cbse</td>\n",
       "      <td>2009</td>\n",
       "      <td>...</td>\n",
       "      <td>284</td>\n",
       "      <td>-1</td>\n",
       "      <td>-1</td>\n",
       "      <td>-1</td>\n",
       "      <td>-1</td>\n",
       "      <td>-1.0208</td>\n",
       "      <td>-0.4536</td>\n",
       "      <td>-0.4511</td>\n",
       "      <td>-0.36120</td>\n",
       "      <td>1.2470</td>\n",
       "    </tr>\n",
       "    <tr>\n",
       "      <th>2889</th>\n",
       "      <td>240000</td>\n",
       "      <td>2014-12-01</td>\n",
       "      <td>2014-05-01</td>\n",
       "      <td>test engineer</td>\n",
       "      <td>-1</td>\n",
       "      <td>m</td>\n",
       "      <td>1991-08-11</td>\n",
       "      <td>71.00</td>\n",
       "      <td>state board</td>\n",
       "      <td>2009</td>\n",
       "      <td>...</td>\n",
       "      <td>-1</td>\n",
       "      <td>-1</td>\n",
       "      <td>-1</td>\n",
       "      <td>-1</td>\n",
       "      <td>-1</td>\n",
       "      <td>-0.3027</td>\n",
       "      <td>0.7119</td>\n",
       "      <td>0.0100</td>\n",
       "      <td>-0.99500</td>\n",
       "      <td>-0.4776</td>\n",
       "    </tr>\n",
       "    <tr>\n",
       "      <th>2946</th>\n",
       "      <td>120000</td>\n",
       "      <td>2014-12-01</td>\n",
       "      <td>2014-08-01</td>\n",
       "      <td>service engineer</td>\n",
       "      <td>Bangalore</td>\n",
       "      <td>m</td>\n",
       "      <td>1993-05-03</td>\n",
       "      <td>75.00</td>\n",
       "      <td>state board</td>\n",
       "      <td>2010</td>\n",
       "      <td>...</td>\n",
       "      <td>-1</td>\n",
       "      <td>-1</td>\n",
       "      <td>420</td>\n",
       "      <td>-1</td>\n",
       "      <td>-1</td>\n",
       "      <td>-0.5116</td>\n",
       "      <td>-1.6191</td>\n",
       "      <td>-0.7585</td>\n",
       "      <td>-0.10760</td>\n",
       "      <td>-0.2511</td>\n",
       "    </tr>\n",
       "    <tr>\n",
       "      <th>2977</th>\n",
       "      <td>120000</td>\n",
       "      <td>2013-12-01</td>\n",
       "      <td>2013-05-01</td>\n",
       "      <td>technical support engineer</td>\n",
       "      <td>Noida</td>\n",
       "      <td>m</td>\n",
       "      <td>1989-08-17</td>\n",
       "      <td>58.33</td>\n",
       "      <td>up</td>\n",
       "      <td>2007</td>\n",
       "      <td>...</td>\n",
       "      <td>438</td>\n",
       "      <td>-1</td>\n",
       "      <td>-1</td>\n",
       "      <td>-1</td>\n",
       "      <td>-1</td>\n",
       "      <td>0.8192</td>\n",
       "      <td>0.5008</td>\n",
       "      <td>0.2366</td>\n",
       "      <td>-0.05527</td>\n",
       "      <td>0.6603</td>\n",
       "    </tr>\n",
       "    <tr>\n",
       "      <th>3094</th>\n",
       "      <td>900000</td>\n",
       "      <td>2014-12-01</td>\n",
       "      <td>2014-04-01</td>\n",
       "      <td>automation engineer</td>\n",
       "      <td>Delhi</td>\n",
       "      <td>m</td>\n",
       "      <td>1988-12-16</td>\n",
       "      <td>83.67</td>\n",
       "      <td>cbse</td>\n",
       "      <td>2006</td>\n",
       "      <td>...</td>\n",
       "      <td>-1</td>\n",
       "      <td>-1</td>\n",
       "      <td>-1</td>\n",
       "      <td>-1</td>\n",
       "      <td>-1</td>\n",
       "      <td>-0.2628</td>\n",
       "      <td>0.8128</td>\n",
       "      <td>1.3977</td>\n",
       "      <td>1.00240</td>\n",
       "      <td>1.1343</td>\n",
       "    </tr>\n",
       "    <tr>\n",
       "      <th>3095</th>\n",
       "      <td>100000</td>\n",
       "      <td>2012-10-01</td>\n",
       "      <td>2012-09-01</td>\n",
       "      <td>financial analyst</td>\n",
       "      <td>Pune</td>\n",
       "      <td>f</td>\n",
       "      <td>1991-09-30</td>\n",
       "      <td>82.60</td>\n",
       "      <td>cbse</td>\n",
       "      <td>2008</td>\n",
       "      <td>...</td>\n",
       "      <td>-1</td>\n",
       "      <td>-1</td>\n",
       "      <td>-1</td>\n",
       "      <td>-1</td>\n",
       "      <td>-1</td>\n",
       "      <td>0.9900</td>\n",
       "      <td>-0.6201</td>\n",
       "      <td>0.3174</td>\n",
       "      <td>1.54040</td>\n",
       "      <td>-0.8608</td>\n",
       "    </tr>\n",
       "    <tr>\n",
       "      <th>3109</th>\n",
       "      <td>310000</td>\n",
       "      <td>2014-11-01</td>\n",
       "      <td>2014-06-01</td>\n",
       "      <td>system engineer</td>\n",
       "      <td>Mysore</td>\n",
       "      <td>m</td>\n",
       "      <td>1992-01-09</td>\n",
       "      <td>69.00</td>\n",
       "      <td>cbse</td>\n",
       "      <td>2010</td>\n",
       "      <td>...</td>\n",
       "      <td>-1</td>\n",
       "      <td>-1</td>\n",
       "      <td>356</td>\n",
       "      <td>-1</td>\n",
       "      <td>-1</td>\n",
       "      <td>1.1336</td>\n",
       "      <td>1.0449</td>\n",
       "      <td>0.7785</td>\n",
       "      <td>-2.38950</td>\n",
       "      <td>-0.2859</td>\n",
       "    </tr>\n",
       "    <tr>\n",
       "      <th>3243</th>\n",
       "      <td>300000</td>\n",
       "      <td>2013-10-01</td>\n",
       "      <td>2013-08-01</td>\n",
       "      <td>business analyst</td>\n",
       "      <td>Gurgaon</td>\n",
       "      <td>m</td>\n",
       "      <td>1992-04-27</td>\n",
       "      <td>81.50</td>\n",
       "      <td>cbse</td>\n",
       "      <td>2009</td>\n",
       "      <td>...</td>\n",
       "      <td>-1</td>\n",
       "      <td>-1</td>\n",
       "      <td>-1</td>\n",
       "      <td>393</td>\n",
       "      <td>-1</td>\n",
       "      <td>-0.0154</td>\n",
       "      <td>0.8784</td>\n",
       "      <td>1.3933</td>\n",
       "      <td>0.39950</td>\n",
       "      <td>0.6721</td>\n",
       "    </tr>\n",
       "    <tr>\n",
       "      <th>3304</th>\n",
       "      <td>145000</td>\n",
       "      <td>2013-11-01</td>\n",
       "      <td>2013-06-01</td>\n",
       "      <td>sales engineer</td>\n",
       "      <td>Gurgaon</td>\n",
       "      <td>m</td>\n",
       "      <td>1991-08-21</td>\n",
       "      <td>66.50</td>\n",
       "      <td>state board</td>\n",
       "      <td>2008</td>\n",
       "      <td>...</td>\n",
       "      <td>-1</td>\n",
       "      <td>-1</td>\n",
       "      <td>-1</td>\n",
       "      <td>-1</td>\n",
       "      <td>-1</td>\n",
       "      <td>-0.5719</td>\n",
       "      <td>0.8351</td>\n",
       "      <td>0.2477</td>\n",
       "      <td>-0.64280</td>\n",
       "      <td>-0.4455</td>\n",
       "    </tr>\n",
       "    <tr>\n",
       "      <th>3384</th>\n",
       "      <td>120000</td>\n",
       "      <td>2014-10-01</td>\n",
       "      <td>2014-06-01</td>\n",
       "      <td>software developer</td>\n",
       "      <td>-1</td>\n",
       "      <td>m</td>\n",
       "      <td>1991-11-11</td>\n",
       "      <td>76.00</td>\n",
       "      <td>cbse</td>\n",
       "      <td>2009</td>\n",
       "      <td>...</td>\n",
       "      <td>192</td>\n",
       "      <td>-1</td>\n",
       "      <td>-1</td>\n",
       "      <td>-1</td>\n",
       "      <td>-1</td>\n",
       "      <td>-0.5899</td>\n",
       "      <td>-1.4526</td>\n",
       "      <td>2.0080</td>\n",
       "      <td>2.68140</td>\n",
       "      <td>1.2470</td>\n",
       "    </tr>\n",
       "    <tr>\n",
       "      <th>3391</th>\n",
       "      <td>270000</td>\n",
       "      <td>2014-10-01</td>\n",
       "      <td>2014-06-01</td>\n",
       "      <td>risk investigator</td>\n",
       "      <td>-1</td>\n",
       "      <td>m</td>\n",
       "      <td>1992-12-27</td>\n",
       "      <td>82.00</td>\n",
       "      <td>state board</td>\n",
       "      <td>2010</td>\n",
       "      <td>...</td>\n",
       "      <td>-1</td>\n",
       "      <td>-1</td>\n",
       "      <td>-1</td>\n",
       "      <td>-1</td>\n",
       "      <td>-1</td>\n",
       "      <td>1.4208</td>\n",
       "      <td>1.2114</td>\n",
       "      <td>0.3174</td>\n",
       "      <td>-0.99500</td>\n",
       "      <td>0.4805</td>\n",
       "    </tr>\n",
       "    <tr>\n",
       "      <th>3470</th>\n",
       "      <td>200000</td>\n",
       "      <td>2014-11-01</td>\n",
       "      <td>2014-07-01</td>\n",
       "      <td>sales coordinator</td>\n",
       "      <td>-1</td>\n",
       "      <td>m</td>\n",
       "      <td>1992-04-04</td>\n",
       "      <td>79.60</td>\n",
       "      <td>cbse</td>\n",
       "      <td>2010</td>\n",
       "      <td>...</td>\n",
       "      <td>-1</td>\n",
       "      <td>-1</td>\n",
       "      <td>-1</td>\n",
       "      <td>-1</td>\n",
       "      <td>-1</td>\n",
       "      <td>0.1282</td>\n",
       "      <td>1.3779</td>\n",
       "      <td>0.3174</td>\n",
       "      <td>0.27270</td>\n",
       "      <td>-0.2859</td>\n",
       "    </tr>\n",
       "    <tr>\n",
       "      <th>3593</th>\n",
       "      <td>200000</td>\n",
       "      <td>2014-11-01</td>\n",
       "      <td>2014-08-01</td>\n",
       "      <td>field business development associate</td>\n",
       "      <td>-1</td>\n",
       "      <td>m</td>\n",
       "      <td>1992-12-02</td>\n",
       "      <td>70.00</td>\n",
       "      <td>cbse</td>\n",
       "      <td>2010</td>\n",
       "      <td>...</td>\n",
       "      <td>-1</td>\n",
       "      <td>-1</td>\n",
       "      <td>-1</td>\n",
       "      <td>-1</td>\n",
       "      <td>-1</td>\n",
       "      <td>1.1336</td>\n",
       "      <td>1.5444</td>\n",
       "      <td>0.9322</td>\n",
       "      <td>-2.26270</td>\n",
       "      <td>0.4805</td>\n",
       "    </tr>\n",
       "    <tr>\n",
       "      <th>3634</th>\n",
       "      <td>165000</td>\n",
       "      <td>2014-12-01</td>\n",
       "      <td>2014-02-01</td>\n",
       "      <td>network engineer</td>\n",
       "      <td>Ahmedabad</td>\n",
       "      <td>m</td>\n",
       "      <td>1991-12-08</td>\n",
       "      <td>91.00</td>\n",
       "      <td>rajasthan board of secondary education</td>\n",
       "      <td>2008</td>\n",
       "      <td>...</td>\n",
       "      <td>-1</td>\n",
       "      <td>-1</td>\n",
       "      <td>-1</td>\n",
       "      <td>-1</td>\n",
       "      <td>-1</td>\n",
       "      <td>1.1283</td>\n",
       "      <td>0.6568</td>\n",
       "      <td>-0.3440</td>\n",
       "      <td>-0.76030</td>\n",
       "      <td>-0.4455</td>\n",
       "    </tr>\n",
       "    <tr>\n",
       "      <th>3700</th>\n",
       "      <td>95000</td>\n",
       "      <td>2014-10-01</td>\n",
       "      <td>2014-08-01</td>\n",
       "      <td>ios developer</td>\n",
       "      <td>-1</td>\n",
       "      <td>m</td>\n",
       "      <td>1992-09-04</td>\n",
       "      <td>60.20</td>\n",
       "      <td>cbse</td>\n",
       "      <td>2010</td>\n",
       "      <td>...</td>\n",
       "      <td>284</td>\n",
       "      <td>-1</td>\n",
       "      <td>-1</td>\n",
       "      <td>-1</td>\n",
       "      <td>-1</td>\n",
       "      <td>1.1283</td>\n",
       "      <td>0.9688</td>\n",
       "      <td>0.9623</td>\n",
       "      <td>0.41483</td>\n",
       "      <td>0.0679</td>\n",
       "    </tr>\n",
       "    <tr>\n",
       "      <th>3911</th>\n",
       "      <td>180000</td>\n",
       "      <td>2013-11-01</td>\n",
       "      <td>2013-05-01</td>\n",
       "      <td>quality analyst</td>\n",
       "      <td>Ongole</td>\n",
       "      <td>m</td>\n",
       "      <td>1992-03-30</td>\n",
       "      <td>64.00</td>\n",
       "      <td>state board</td>\n",
       "      <td>2008</td>\n",
       "      <td>...</td>\n",
       "      <td>-1</td>\n",
       "      <td>-1</td>\n",
       "      <td>-1</td>\n",
       "      <td>-1</td>\n",
       "      <td>-1</td>\n",
       "      <td>1.2772</td>\n",
       "      <td>1.0449</td>\n",
       "      <td>-0.1437</td>\n",
       "      <td>-1.37530</td>\n",
       "      <td>1.0554</td>\n",
       "    </tr>\n",
       "  </tbody>\n",
       "</table>\n",
       "<p>40 rows × 35 columns</p>\n",
       "</div>"
      ],
      "text/plain": [
       "       Salary        DOJ        DOL                           Designation  \\\n",
       "29     220000 2014-11-01 2014-04-01                java software engineer   \n",
       "92    1500000 2014-11-01 2014-07-01                 application developer   \n",
       "148    105000 2014-11-01 2014-02-01                         web developer   \n",
       "235    120000 2013-10-01 2013-07-01                         web developer   \n",
       "264    325000 2014-12-01 2014-09-01                      systems engineer   \n",
       "451    170000 2014-12-01 2014-03-01                          data analyst   \n",
       "591    240000 2014-10-01 2014-08-01          business development manager   \n",
       "865    200000 2014-12-01 2014-04-01                            qa analyst   \n",
       "888    110000 2014-10-01 2014-02-01                     software engineer   \n",
       "1005   180000 2014-11-01 2014-06-01                    staffing recruiter   \n",
       "1355   150000 2014-12-01 2014-04-01                     process executive   \n",
       "1433    60000 2014-12-01 2014-06-01                    .net web developer   \n",
       "1482   190000 2014-12-01 2014-02-01             software engineer trainee   \n",
       "1522   105000 2014-10-01 2014-05-01                     android developer   \n",
       "1541   125000 2014-11-01 2014-07-01                       sales executive   \n",
       "1591   120000 2013-11-01 2013-06-01                    software developer   \n",
       "1636   315000 2014-10-01 2014-06-01                       system engineer   \n",
       "1992   300000 2013-12-01 2013-04-01                java software engineer   \n",
       "2044   190000 2013-11-01 2013-06-01            technical support engineer   \n",
       "2266   105000 2013-10-01 2013-07-01           electrical project engineer   \n",
       "2319   140000 2013-10-01 2013-04-01                     software engineer   \n",
       "2349    75000 2014-11-01 2014-06-01                     android developer   \n",
       "2407   210000 2013-12-01 2013-08-01                 application developer   \n",
       "2414   220000 2013-11-01 2013-07-01            technical support engineer   \n",
       "2805   240000 2014-10-01 2014-04-01              senior software engineer   \n",
       "2889   240000 2014-12-01 2014-05-01                         test engineer   \n",
       "2946   120000 2014-12-01 2014-08-01                      service engineer   \n",
       "2977   120000 2013-12-01 2013-05-01            technical support engineer   \n",
       "3094   900000 2014-12-01 2014-04-01                   automation engineer   \n",
       "3095   100000 2012-10-01 2012-09-01                     financial analyst   \n",
       "3109   310000 2014-11-01 2014-06-01                       system engineer   \n",
       "3243   300000 2013-10-01 2013-08-01                      business analyst   \n",
       "3304   145000 2013-11-01 2013-06-01                        sales engineer   \n",
       "3384   120000 2014-10-01 2014-06-01                    software developer   \n",
       "3391   270000 2014-10-01 2014-06-01                     risk investigator   \n",
       "3470   200000 2014-11-01 2014-07-01                     sales coordinator   \n",
       "3593   200000 2014-11-01 2014-08-01  field business development associate   \n",
       "3634   165000 2014-12-01 2014-02-01                      network engineer   \n",
       "3700    95000 2014-10-01 2014-08-01                         ios developer   \n",
       "3911   180000 2013-11-01 2013-05-01                       quality analyst   \n",
       "\n",
       "        JobCity Gender        DOB  10percentage  \\\n",
       "29      Gurgaon      m 1992-06-11         64.00   \n",
       "92    Hyderabad      m 1992-01-04         79.00   \n",
       "148   Hyderabad      m 1991-11-03         73.08   \n",
       "235       Noida      f 1990-08-05         74.00   \n",
       "264     Mysore       f 1992-09-16         85.28   \n",
       "451   hyderabad      m 1992-02-26         86.80   \n",
       "591       Noida      f 1995-01-10         60.00   \n",
       "865   Hyderabad      m 1992-11-06         92.83   \n",
       "888        Pune      m 1991-01-16         66.46   \n",
       "1005      Noida      m 1992-08-20         79.00   \n",
       "1355       Pune      f 1991-01-16         63.00   \n",
       "1433         -1      m 1990-11-24         59.00   \n",
       "1482         -1      m 1989-08-02         73.83   \n",
       "1522         -1      m 1988-11-29         63.00   \n",
       "1541      india      f 1993-05-04         62.00   \n",
       "1591         -1      m 1991-04-14         83.80   \n",
       "1636         -1      m 1992-01-16         94.20   \n",
       "1992  Hyderabad      m 1991-10-20         89.00   \n",
       "2044    Chennai      m 1990-11-02         83.00   \n",
       "2266    Lucknow      f 1990-07-16         77.40   \n",
       "2319    Gurgaon      f 1990-08-11         78.80   \n",
       "2349         -1      m 1990-04-07         74.16   \n",
       "2407    Chennai      m 1992-02-14         89.39   \n",
       "2414      Noida      m 1992-07-01         85.00   \n",
       "2805      Noida      m 1992-05-04         78.80   \n",
       "2889         -1      m 1991-08-11         71.00   \n",
       "2946  Bangalore      m 1993-05-03         75.00   \n",
       "2977      Noida      m 1989-08-17         58.33   \n",
       "3094      Delhi      m 1988-12-16         83.67   \n",
       "3095       Pune      f 1991-09-30         82.60   \n",
       "3109     Mysore      m 1992-01-09         69.00   \n",
       "3243    Gurgaon      m 1992-04-27         81.50   \n",
       "3304    Gurgaon      m 1991-08-21         66.50   \n",
       "3384         -1      m 1991-11-11         76.00   \n",
       "3391         -1      m 1992-12-27         82.00   \n",
       "3470         -1      m 1992-04-04         79.60   \n",
       "3593         -1      m 1992-12-02         70.00   \n",
       "3634  Ahmedabad      m 1991-12-08         91.00   \n",
       "3700         -1      m 1992-09-04         60.20   \n",
       "3911     Ongole      m 1992-03-30         64.00   \n",
       "\n",
       "                                     10board  12graduation  ...  \\\n",
       "29                                      cbse          2010  ...   \n",
       "92                               state board          2009  ...   \n",
       "148                              state board          2009  ...   \n",
       "235                              state board          2007  ...   \n",
       "264                              state board          2010  ...   \n",
       "451                              state board          2009  ...   \n",
       "591                              state board          2010  ...   \n",
       "865                              state board          2010  ...   \n",
       "888                              state board          2009  ...   \n",
       "1005                                    icse          2010  ...   \n",
       "1355                                    icse          2009  ...   \n",
       "1433                             state board          2008  ...   \n",
       "1482                                    rbse          2008  ...   \n",
       "1522                                    icse          2008  ...   \n",
       "1541                                    cbse          2010  ...   \n",
       "1591                                    cbse          2009  ...   \n",
       "1636                                    cbse          2009  ...   \n",
       "1992                             state board          2009  ...   \n",
       "2044                             state board          2009  ...   \n",
       "2266                                    cbse          2008  ...   \n",
       "2319                                    cbse          2008  ...   \n",
       "2349                             state board          2008  ...   \n",
       "2407                             state board          2009  ...   \n",
       "2414                                    cbse          2009  ...   \n",
       "2805                                    cbse          2009  ...   \n",
       "2889                             state board          2009  ...   \n",
       "2946                             state board          2010  ...   \n",
       "2977                                      up          2007  ...   \n",
       "3094                                    cbse          2006  ...   \n",
       "3095                                    cbse          2008  ...   \n",
       "3109                                    cbse          2010  ...   \n",
       "3243                                    cbse          2009  ...   \n",
       "3304                             state board          2008  ...   \n",
       "3384                                    cbse          2009  ...   \n",
       "3391                             state board          2010  ...   \n",
       "3470                                    cbse          2010  ...   \n",
       "3593                                    cbse          2010  ...   \n",
       "3634  rajasthan board of secondary education          2008  ...   \n",
       "3700                                    cbse          2010  ...   \n",
       "3911                             state board          2008  ...   \n",
       "\n",
       "      ComputerScience MechanicalEngg  ElectricalEngg TelecomEngg CivilEngg  \\\n",
       "29                376             -1              -1          -1        -1   \n",
       "92                346             -1              -1          -1        -1   \n",
       "148                -1             -1              -1          -1        -1   \n",
       "235                -1             -1              -1          -1        -1   \n",
       "264                -1             -1              -1          -1        -1   \n",
       "451                -1             -1              -1          -1        -1   \n",
       "591                -1             -1              -1          -1        -1   \n",
       "865                -1             -1              -1          -1        -1   \n",
       "888               469             -1              -1          -1        -1   \n",
       "1005               -1             -1              -1          -1        -1   \n",
       "1355               -1             -1              -1          -1        -1   \n",
       "1433              346             -1              -1          -1        -1   \n",
       "1482              438             -1              -1          -1        -1   \n",
       "1522              407             -1              -1          -1        -1   \n",
       "1541               -1             -1              -1          -1        -1   \n",
       "1591               -1             -1              -1          -1        -1   \n",
       "1636               -1             -1             553          -1        -1   \n",
       "1992               -1             -1              -1          -1        -1   \n",
       "2044               -1             -1              -1         313        -1   \n",
       "2266               -1             -1             473          -1        -1   \n",
       "2319               -1             -1              -1          -1        -1   \n",
       "2349              438             -1              -1          -1        -1   \n",
       "2407               -1             -1             446          -1        -1   \n",
       "2414               -1             -1              -1          -1        -1   \n",
       "2805              284             -1              -1          -1        -1   \n",
       "2889               -1             -1              -1          -1        -1   \n",
       "2946               -1             -1             420          -1        -1   \n",
       "2977              438             -1              -1          -1        -1   \n",
       "3094               -1             -1              -1          -1        -1   \n",
       "3095               -1             -1              -1          -1        -1   \n",
       "3109               -1             -1             356          -1        -1   \n",
       "3243               -1             -1              -1         393        -1   \n",
       "3304               -1             -1              -1          -1        -1   \n",
       "3384              192             -1              -1          -1        -1   \n",
       "3391               -1             -1              -1          -1        -1   \n",
       "3470               -1             -1              -1          -1        -1   \n",
       "3593               -1             -1              -1          -1        -1   \n",
       "3634               -1             -1              -1          -1        -1   \n",
       "3700              284             -1              -1          -1        -1   \n",
       "3911               -1             -1              -1          -1        -1   \n",
       "\n",
       "      conscientiousness  agreeableness extraversion  nueroticism  \\\n",
       "29              -3.1994        -1.8393       0.0552      0.06230   \n",
       "92               0.4155         0.5454       0.9322     -0.61470   \n",
       "148             -0.7335        -0.9531       0.6248      0.27270   \n",
       "235             -0.5719         0.1888       0.2366      0.29730   \n",
       "264              0.5591        -0.2871       0.0100      0.65300   \n",
       "451              0.5591        -0.1206       1.0859     -0.86820   \n",
       "591              1.2772        -1.1196       0.0100      0.90660   \n",
       "865              1.8517         1.0449       1.8543     -2.13600   \n",
       "888              1.5644        -0.1206       0.0100      0.52620   \n",
       "1005            -2.0262         0.3789      -1.2196      0.39950   \n",
       "1355            -2.6007         1.0449       0.1637      0.39950   \n",
       "1433            -0.3027        -0.6201       0.1637      0.77980   \n",
       "1482             1.5644         1.0449       0.4711      0.77980   \n",
       "1522            -0.1590         0.3789       0.4711      1.41360   \n",
       "1541            -0.0154        -0.1206      -0.4511     -0.86820   \n",
       "1591            -0.1590         1.2114       1.2396     -0.61470   \n",
       "1636             0.4155         0.3789      -0.6048     -0.74150   \n",
       "1992             0.5591         1.3779       0.6248     -0.74150   \n",
       "2044            -0.1590         0.8784       0.7785      0.14590   \n",
       "2266             0.1282        -0.2871       1.2396     -0.36120   \n",
       "2319             0.4155         0.0459      -0.7585      2.04750   \n",
       "2349             1.2772         0.2124       0.3174     -1.37530   \n",
       "2407            -0.7335         0.2124       0.0100     -0.36120   \n",
       "2414             1.7081         1.5444       0.9322     -2.26270   \n",
       "2805            -1.0208        -0.4536      -0.4511     -0.36120   \n",
       "2889            -0.3027         0.7119       0.0100     -0.99500   \n",
       "2946            -0.5116        -1.6191      -0.7585     -0.10760   \n",
       "2977             0.8192         0.5008       0.2366     -0.05527   \n",
       "3094            -0.2628         0.8128       1.3977      1.00240   \n",
       "3095             0.9900        -0.6201       0.3174      1.54040   \n",
       "3109             1.1336         1.0449       0.7785     -2.38950   \n",
       "3243            -0.0154         0.8784       1.3933      0.39950   \n",
       "3304            -0.5719         0.8351       0.2477     -0.64280   \n",
       "3384            -0.5899        -1.4526       2.0080      2.68140   \n",
       "3391             1.4208         1.2114       0.3174     -0.99500   \n",
       "3470             0.1282         1.3779       0.3174      0.27270   \n",
       "3593             1.1336         1.5444       0.9322     -2.26270   \n",
       "3634             1.1283         0.6568      -0.3440     -0.76030   \n",
       "3700             1.1283         0.9688       0.9623      0.41483   \n",
       "3911             1.2772         1.0449      -0.1437     -1.37530   \n",
       "\n",
       "      openess_to_experience  \n",
       "29                  -0.7615  \n",
       "92                   0.8637  \n",
       "148                 -1.8189  \n",
       "235                 -0.2875  \n",
       "264                 -4.5015  \n",
       "451                  0.0973  \n",
       "591                  0.4805  \n",
       "865                  1.0554  \n",
       "888                  0.6721  \n",
       "1005                 0.6721  \n",
       "1355                -0.4776  \n",
       "1433                -0.2859  \n",
       "1482                 1.2470  \n",
       "1522                -0.2859  \n",
       "1541                 0.0973  \n",
       "1591                 1.6302  \n",
       "1636                 0.2889  \n",
       "1992                -0.2859  \n",
       "2044                 1.2470  \n",
       "2266                -0.8608  \n",
       "2319                 0.2889  \n",
       "2349                 0.6721  \n",
       "2407                 0.2889  \n",
       "2414                 0.6721  \n",
       "2805                 1.2470  \n",
       "2889                -0.4776  \n",
       "2946                -0.2511  \n",
       "2977                 0.6603  \n",
       "3094                 1.1343  \n",
       "3095                -0.8608  \n",
       "3109                -0.2859  \n",
       "3243                 0.6721  \n",
       "3304                -0.4455  \n",
       "3384                 1.2470  \n",
       "3391                 0.4805  \n",
       "3470                -0.2859  \n",
       "3593                 0.4805  \n",
       "3634                -0.4455  \n",
       "3700                 0.0679  \n",
       "3911                 1.0554  \n",
       "\n",
       "[40 rows x 35 columns]"
      ]
     },
     "execution_count": 40,
     "metadata": {},
     "output_type": "execute_result"
    }
   ],
   "source": [
    "df_copy [ df_copy['DOJ'] > df_copy['DOL'] ]"
   ]
  },
  {
   "cell_type": "code",
   "execution_count": 41,
   "id": "a5a86a25-6ce3-40d7-a86c-b19558bad0ca",
   "metadata": {},
   "outputs": [
    {
     "data": {
      "text/plain": [
       "DOJ    2013-11-01 00:00:00\n",
       "DOL    2013-05-01 00:00:00\n",
       "Name: 3911, dtype: object"
      ]
     },
     "execution_count": 41,
     "metadata": {},
     "output_type": "execute_result"
    }
   ],
   "source": [
    "df.loc[3911,['DOJ', 'DOL']]"
   ]
  },
  {
   "cell_type": "markdown",
   "id": "d8bf4e63-8d58-4fa4-96a7-ff4bc9e4e40f",
   "metadata": {},
   "source": [
    "#### Comment\n",
    "* there are 40 rows with this issue, where date of leaving is earlier than date of joining.\n",
    "* one of the reasons can be they might have given DOL in the place of DOJ.\n",
    "* another might be they gave month and day in the wrong place.\n",
    "\n",
    "\n",
    "* Asssuming that they gave DOL in the place of DOJ....just reversing them...so that there is no data loss"
   ]
  },
  {
   "cell_type": "code",
   "execution_count": 43,
   "id": "b5cbd7ac-1a88-4bf0-9067-765d4af13dbb",
   "metadata": {},
   "outputs": [],
   "source": [
    "index_for_swap = df_copy [ df_copy['DOJ'] > df_copy['DOL'] ].index"
   ]
  },
  {
   "cell_type": "code",
   "execution_count": 44,
   "id": "ade87c40-330e-45d1-a659-c2a547bb6f61",
   "metadata": {},
   "outputs": [
    {
     "data": {
      "text/plain": [
       "Index([  29,   92,  148,  235,  264,  451,  591,  865,  888, 1005, 1355, 1433,\n",
       "       1482, 1522, 1541, 1591, 1636, 1992, 2044, 2266, 2319, 2349, 2407, 2414,\n",
       "       2805, 2889, 2946, 2977, 3094, 3095, 3109, 3243, 3304, 3384, 3391, 3470,\n",
       "       3593, 3634, 3700, 3911],\n",
       "      dtype='int64')"
      ]
     },
     "execution_count": 44,
     "metadata": {},
     "output_type": "execute_result"
    }
   ],
   "source": [
    "index_for_swap"
   ]
  },
  {
   "cell_type": "code",
   "execution_count": 45,
   "id": "2a9233e3-c1ea-4569-945a-b8f9632ab946",
   "metadata": {},
   "outputs": [
    {
     "data": {
      "text/html": [
       "<div>\n",
       "<style scoped>\n",
       "    .dataframe tbody tr th:only-of-type {\n",
       "        vertical-align: middle;\n",
       "    }\n",
       "\n",
       "    .dataframe tbody tr th {\n",
       "        vertical-align: top;\n",
       "    }\n",
       "\n",
       "    .dataframe thead th {\n",
       "        text-align: right;\n",
       "    }\n",
       "</style>\n",
       "<table border=\"1\" class=\"dataframe\">\n",
       "  <thead>\n",
       "    <tr style=\"text-align: right;\">\n",
       "      <th></th>\n",
       "      <th>DOJ</th>\n",
       "      <th>DOL</th>\n",
       "    </tr>\n",
       "  </thead>\n",
       "  <tbody>\n",
       "    <tr>\n",
       "      <th>29</th>\n",
       "      <td>2014-11-01</td>\n",
       "      <td>2014-04-01</td>\n",
       "    </tr>\n",
       "    <tr>\n",
       "      <th>92</th>\n",
       "      <td>2014-11-01</td>\n",
       "      <td>2014-07-01</td>\n",
       "    </tr>\n",
       "    <tr>\n",
       "      <th>148</th>\n",
       "      <td>2014-11-01</td>\n",
       "      <td>2014-02-01</td>\n",
       "    </tr>\n",
       "    <tr>\n",
       "      <th>235</th>\n",
       "      <td>2013-10-01</td>\n",
       "      <td>2013-07-01</td>\n",
       "    </tr>\n",
       "    <tr>\n",
       "      <th>264</th>\n",
       "      <td>2014-12-01</td>\n",
       "      <td>2014-09-01</td>\n",
       "    </tr>\n",
       "  </tbody>\n",
       "</table>\n",
       "</div>"
      ],
      "text/plain": [
       "           DOJ        DOL\n",
       "29  2014-11-01 2014-04-01\n",
       "92  2014-11-01 2014-07-01\n",
       "148 2014-11-01 2014-02-01\n",
       "235 2013-10-01 2013-07-01\n",
       "264 2014-12-01 2014-09-01"
      ]
     },
     "execution_count": 45,
     "metadata": {},
     "output_type": "execute_result"
    }
   ],
   "source": [
    "df_copy.loc[index_for_swap, ['DOJ', 'DOL']].head()"
   ]
  },
  {
   "cell_type": "code",
   "execution_count": 46,
   "id": "4af5bd94-b0c6-49fa-934a-cfda2728a5a1",
   "metadata": {},
   "outputs": [
    {
     "data": {
      "text/plain": [
       "array([['2014-11-01T00:00:00.000000000', '2014-04-01T00:00:00.000000000'],\n",
       "       ['2014-11-01T00:00:00.000000000', '2014-07-01T00:00:00.000000000'],\n",
       "       ['2014-11-01T00:00:00.000000000', '2014-02-01T00:00:00.000000000'],\n",
       "       ['2013-10-01T00:00:00.000000000', '2013-07-01T00:00:00.000000000'],\n",
       "       ['2014-12-01T00:00:00.000000000', '2014-09-01T00:00:00.000000000']],\n",
       "      dtype='datetime64[ns]')"
      ]
     },
     "execution_count": 46,
     "metadata": {},
     "output_type": "execute_result"
    }
   ],
   "source": [
    "df_copy.loc[index_for_swap, ['DOJ', 'DOL']].head().values"
   ]
  },
  {
   "cell_type": "code",
   "execution_count": 47,
   "id": "001b938e-95de-4486-a44d-326bc226ddd3",
   "metadata": {},
   "outputs": [],
   "source": [
    "df_copy.loc[index_for_swap, ['DOJ', 'DOL']] = df_copy.loc[index_for_swap, ['DOL', 'DOJ']].values"
   ]
  },
  {
   "cell_type": "code",
   "execution_count": 48,
   "id": "ad536b45-9d03-4c2d-9bbb-864a73268f81",
   "metadata": {},
   "outputs": [
    {
     "data": {
      "text/html": [
       "<div>\n",
       "<style scoped>\n",
       "    .dataframe tbody tr th:only-of-type {\n",
       "        vertical-align: middle;\n",
       "    }\n",
       "\n",
       "    .dataframe tbody tr th {\n",
       "        vertical-align: top;\n",
       "    }\n",
       "\n",
       "    .dataframe thead th {\n",
       "        text-align: right;\n",
       "    }\n",
       "</style>\n",
       "<table border=\"1\" class=\"dataframe\">\n",
       "  <thead>\n",
       "    <tr style=\"text-align: right;\">\n",
       "      <th></th>\n",
       "      <th>DOJ</th>\n",
       "      <th>DOL</th>\n",
       "    </tr>\n",
       "  </thead>\n",
       "  <tbody>\n",
       "    <tr>\n",
       "      <th>29</th>\n",
       "      <td>2014-04-01</td>\n",
       "      <td>2014-11-01</td>\n",
       "    </tr>\n",
       "    <tr>\n",
       "      <th>92</th>\n",
       "      <td>2014-07-01</td>\n",
       "      <td>2014-11-01</td>\n",
       "    </tr>\n",
       "    <tr>\n",
       "      <th>148</th>\n",
       "      <td>2014-02-01</td>\n",
       "      <td>2014-11-01</td>\n",
       "    </tr>\n",
       "    <tr>\n",
       "      <th>235</th>\n",
       "      <td>2013-07-01</td>\n",
       "      <td>2013-10-01</td>\n",
       "    </tr>\n",
       "    <tr>\n",
       "      <th>264</th>\n",
       "      <td>2014-09-01</td>\n",
       "      <td>2014-12-01</td>\n",
       "    </tr>\n",
       "  </tbody>\n",
       "</table>\n",
       "</div>"
      ],
      "text/plain": [
       "           DOJ        DOL\n",
       "29  2014-04-01 2014-11-01\n",
       "92  2014-07-01 2014-11-01\n",
       "148 2014-02-01 2014-11-01\n",
       "235 2013-07-01 2013-10-01\n",
       "264 2014-09-01 2014-12-01"
      ]
     },
     "execution_count": 48,
     "metadata": {},
     "output_type": "execute_result"
    }
   ],
   "source": [
    "df_copy.loc[index_for_swap, ['DOJ', 'DOL']].head()"
   ]
  },
  {
   "cell_type": "code",
   "execution_count": null,
   "id": "7d138069-73a0-4e6f-8d64-0b51275e3744",
   "metadata": {},
   "outputs": [],
   "source": []
  },
  {
   "cell_type": "markdown",
   "id": "fdc044c0-90d4-470b-9494-78b31db6c038",
   "metadata": {},
   "source": [
    "#### Checking if the date of birth is in correct format or not"
   ]
  },
  {
   "cell_type": "code",
   "execution_count": 50,
   "id": "49701fc7-148c-4cca-92bf-0441add70965",
   "metadata": {},
   "outputs": [
    {
     "data": {
      "text/html": [
       "<div>\n",
       "<style scoped>\n",
       "    .dataframe tbody tr th:only-of-type {\n",
       "        vertical-align: middle;\n",
       "    }\n",
       "\n",
       "    .dataframe tbody tr th {\n",
       "        vertical-align: top;\n",
       "    }\n",
       "\n",
       "    .dataframe thead th {\n",
       "        text-align: right;\n",
       "    }\n",
       "</style>\n",
       "<table border=\"1\" class=\"dataframe\">\n",
       "  <thead>\n",
       "    <tr style=\"text-align: right;\">\n",
       "      <th></th>\n",
       "      <th>Salary</th>\n",
       "      <th>DOJ</th>\n",
       "      <th>DOL</th>\n",
       "      <th>Designation</th>\n",
       "      <th>JobCity</th>\n",
       "      <th>Gender</th>\n",
       "      <th>DOB</th>\n",
       "      <th>10percentage</th>\n",
       "      <th>10board</th>\n",
       "      <th>12graduation</th>\n",
       "      <th>...</th>\n",
       "      <th>ComputerScience</th>\n",
       "      <th>MechanicalEngg</th>\n",
       "      <th>ElectricalEngg</th>\n",
       "      <th>TelecomEngg</th>\n",
       "      <th>CivilEngg</th>\n",
       "      <th>conscientiousness</th>\n",
       "      <th>agreeableness</th>\n",
       "      <th>extraversion</th>\n",
       "      <th>nueroticism</th>\n",
       "      <th>openess_to_experience</th>\n",
       "    </tr>\n",
       "  </thead>\n",
       "  <tbody>\n",
       "  </tbody>\n",
       "</table>\n",
       "<p>0 rows × 35 columns</p>\n",
       "</div>"
      ],
      "text/plain": [
       "Empty DataFrame\n",
       "Columns: [Salary, DOJ, DOL, Designation, JobCity, Gender, DOB, 10percentage, 10board, 12graduation, 12percentage, 12board, CollegeTier, Degree, Specialization, collegeGPA, CollegeCityTier, CollegeState, GraduationYear, English, Logical, Quant, Domain, ComputerProgramming, ElectronicsAndSemicon, ComputerScience, MechanicalEngg, ElectricalEngg, TelecomEngg, CivilEngg, conscientiousness, agreeableness, extraversion, nueroticism, openess_to_experience]\n",
       "Index: []\n",
       "\n",
       "[0 rows x 35 columns]"
      ]
     },
     "execution_count": 50,
     "metadata": {},
     "output_type": "execute_result"
    }
   ],
   "source": [
    "df_copy[ df_copy['DOB'].dt.year > 1998]"
   ]
  },
  {
   "cell_type": "markdown",
   "id": "57758e11-815d-45c4-a59a-f3d91f7c4639",
   "metadata": {},
   "source": [
    "#### comment\n",
    "\n",
    "* the DOB is in correct format"
   ]
  },
  {
   "cell_type": "code",
   "execution_count": null,
   "id": "612afe0b-b06d-4e75-ad9c-700aea601d5e",
   "metadata": {},
   "outputs": [],
   "source": []
  },
  {
   "cell_type": "code",
   "execution_count": 52,
   "id": "f7caf154-94f5-4e09-b352-f337c1d8ffc8",
   "metadata": {},
   "outputs": [
    {
     "data": {
      "text/plain": [
       "Index(['Salary', 'DOJ', 'DOL', 'Designation', 'JobCity', 'Gender', 'DOB',\n",
       "       '10percentage', '10board', '12graduation', '12percentage', '12board',\n",
       "       'CollegeTier', 'Degree', 'Specialization', 'collegeGPA',\n",
       "       'CollegeCityTier', 'CollegeState', 'GraduationYear', 'English',\n",
       "       'Logical', 'Quant', 'Domain', 'ComputerProgramming',\n",
       "       'ElectronicsAndSemicon', 'ComputerScience', 'MechanicalEngg',\n",
       "       'ElectricalEngg', 'TelecomEngg', 'CivilEngg', 'conscientiousness',\n",
       "       'agreeableness', 'extraversion', 'nueroticism',\n",
       "       'openess_to_experience'],\n",
       "      dtype='object')"
      ]
     },
     "execution_count": 52,
     "metadata": {},
     "output_type": "execute_result"
    }
   ],
   "source": [
    "df_copy.columns"
   ]
  },
  {
   "cell_type": "markdown",
   "id": "29d2b818-66f9-45c0-aac3-879574a1d293",
   "metadata": {},
   "source": [
    "#### checking if collegeGPA is in correct format"
   ]
  },
  {
   "cell_type": "code",
   "execution_count": 54,
   "id": "73479144-b997-44bc-b700-91b18c8e10b1",
   "metadata": {},
   "outputs": [
    {
     "data": {
      "text/plain": [
       "6.45"
      ]
     },
     "execution_count": 54,
     "metadata": {},
     "output_type": "execute_result"
    }
   ],
   "source": [
    "#let's look at min and max values to know about the distribution\n",
    "\n",
    "df_copy['collegeGPA'].min()"
   ]
  },
  {
   "cell_type": "code",
   "execution_count": 55,
   "id": "7816e7ef-a144-49bd-ad56-76d7b7910600",
   "metadata": {},
   "outputs": [
    {
     "data": {
      "text/plain": [
       "99.93"
      ]
     },
     "execution_count": 55,
     "metadata": {},
     "output_type": "execute_result"
    }
   ],
   "source": [
    "df_copy['collegeGPA'].max()"
   ]
  },
  {
   "cell_type": "code",
   "execution_count": 56,
   "id": "e1b13feb-ee80-4bfe-86d3-568558170ded",
   "metadata": {},
   "outputs": [
    {
     "data": {
      "text/plain": [
       "3308    6.45\n",
       "138     6.63\n",
       "788     6.80\n",
       "1419    6.85\n",
       "2151    6.95\n",
       "1767    7.56\n",
       "1439    8.07\n",
       "2229    8.13\n",
       "7       8.58\n",
       "2662    8.88\n",
       "Name: collegeGPA, dtype: float64"
      ]
     },
     "execution_count": 56,
     "metadata": {},
     "output_type": "execute_result"
    }
   ],
   "source": [
    "df_copy['collegeGPA'].sort_values().head(10)"
   ]
  },
  {
   "cell_type": "markdown",
   "id": "1d67beea-67ed-4974-b811-7adb78f6b781",
   "metadata": {},
   "source": [
    "#### Comment\n",
    "\n",
    "* In collegeGPA column few candidates mentioned CGPA and most of the candidates gave percentage, hence converting those values into percentages"
   ]
  },
  {
   "cell_type": "code",
   "execution_count": 58,
   "id": "5c550a8f-afa6-4968-a087-59da7fa3f50b",
   "metadata": {},
   "outputs": [
    {
     "data": {
      "text/html": [
       "<div>\n",
       "<style scoped>\n",
       "    .dataframe tbody tr th:only-of-type {\n",
       "        vertical-align: middle;\n",
       "    }\n",
       "\n",
       "    .dataframe tbody tr th {\n",
       "        vertical-align: top;\n",
       "    }\n",
       "\n",
       "    .dataframe thead th {\n",
       "        text-align: right;\n",
       "    }\n",
       "</style>\n",
       "<table border=\"1\" class=\"dataframe\">\n",
       "  <thead>\n",
       "    <tr style=\"text-align: right;\">\n",
       "      <th></th>\n",
       "      <th>Salary</th>\n",
       "      <th>DOJ</th>\n",
       "      <th>DOL</th>\n",
       "      <th>Designation</th>\n",
       "      <th>JobCity</th>\n",
       "      <th>Gender</th>\n",
       "      <th>DOB</th>\n",
       "      <th>10percentage</th>\n",
       "      <th>10board</th>\n",
       "      <th>12graduation</th>\n",
       "      <th>...</th>\n",
       "      <th>ComputerScience</th>\n",
       "      <th>MechanicalEngg</th>\n",
       "      <th>ElectricalEngg</th>\n",
       "      <th>TelecomEngg</th>\n",
       "      <th>CivilEngg</th>\n",
       "      <th>conscientiousness</th>\n",
       "      <th>agreeableness</th>\n",
       "      <th>extraversion</th>\n",
       "      <th>nueroticism</th>\n",
       "      <th>openess_to_experience</th>\n",
       "    </tr>\n",
       "  </thead>\n",
       "  <tbody>\n",
       "    <tr>\n",
       "      <th>7</th>\n",
       "      <td>400000</td>\n",
       "      <td>2014-07-01</td>\n",
       "      <td>2015-07-01</td>\n",
       "      <td>mechanical engineer</td>\n",
       "      <td>Bangalore</td>\n",
       "      <td>m</td>\n",
       "      <td>1992-05-27</td>\n",
       "      <td>92.00</td>\n",
       "      <td>cbse</td>\n",
       "      <td>2010</td>\n",
       "      <td>...</td>\n",
       "      <td>-1</td>\n",
       "      <td>469</td>\n",
       "      <td>-1</td>\n",
       "      <td>-1</td>\n",
       "      <td>-1</td>\n",
       "      <td>-0.0154</td>\n",
       "      <td>1.2114</td>\n",
       "      <td>0.0100</td>\n",
       "      <td>0.1459</td>\n",
       "      <td>1.2470</td>\n",
       "    </tr>\n",
       "    <tr>\n",
       "      <th>138</th>\n",
       "      <td>195000</td>\n",
       "      <td>2014-10-01</td>\n",
       "      <td>2015-01-01</td>\n",
       "      <td>business development managerde</td>\n",
       "      <td>coimbatore</td>\n",
       "      <td>m</td>\n",
       "      <td>1991-05-04</td>\n",
       "      <td>79.60</td>\n",
       "      <td>matriculation</td>\n",
       "      <td>2011</td>\n",
       "      <td>...</td>\n",
       "      <td>284</td>\n",
       "      <td>-1</td>\n",
       "      <td>-1</td>\n",
       "      <td>-1</td>\n",
       "      <td>-1</td>\n",
       "      <td>0.8463</td>\n",
       "      <td>0.7119</td>\n",
       "      <td>0.4711</td>\n",
       "      <td>1.1601</td>\n",
       "      <td>0.4805</td>\n",
       "    </tr>\n",
       "    <tr>\n",
       "      <th>788</th>\n",
       "      <td>180000</td>\n",
       "      <td>2012-05-01</td>\n",
       "      <td>2013-06-01</td>\n",
       "      <td>electrical project engineer</td>\n",
       "      <td>Jowai</td>\n",
       "      <td>m</td>\n",
       "      <td>1989-01-12</td>\n",
       "      <td>66.50</td>\n",
       "      <td>cbse</td>\n",
       "      <td>2007</td>\n",
       "      <td>...</td>\n",
       "      <td>-1</td>\n",
       "      <td>-1</td>\n",
       "      <td>-1</td>\n",
       "      <td>-1</td>\n",
       "      <td>-1</td>\n",
       "      <td>0.5100</td>\n",
       "      <td>-0.2793</td>\n",
       "      <td>-1.0697</td>\n",
       "      <td>0.1798</td>\n",
       "      <td>-1.0774</td>\n",
       "    </tr>\n",
       "    <tr>\n",
       "      <th>1419</th>\n",
       "      <td>180000</td>\n",
       "      <td>2014-10-01</td>\n",
       "      <td>2015-04-01</td>\n",
       "      <td>java software engineer</td>\n",
       "      <td>Chennai</td>\n",
       "      <td>m</td>\n",
       "      <td>1993-06-14</td>\n",
       "      <td>58.90</td>\n",
       "      <td>state board</td>\n",
       "      <td>2010</td>\n",
       "      <td>...</td>\n",
       "      <td>376</td>\n",
       "      <td>-1</td>\n",
       "      <td>-1</td>\n",
       "      <td>-1</td>\n",
       "      <td>-1</td>\n",
       "      <td>1.8517</td>\n",
       "      <td>0.2124</td>\n",
       "      <td>0.6248</td>\n",
       "      <td>-1.7556</td>\n",
       "      <td>-0.4776</td>\n",
       "    </tr>\n",
       "    <tr>\n",
       "      <th>1439</th>\n",
       "      <td>360000</td>\n",
       "      <td>2011-08-01</td>\n",
       "      <td>2025-03-06</td>\n",
       "      <td>assistant professor</td>\n",
       "      <td>AM</td>\n",
       "      <td>m</td>\n",
       "      <td>1988-12-11</td>\n",
       "      <td>73.06</td>\n",
       "      <td>nagpur board</td>\n",
       "      <td>2007</td>\n",
       "      <td>...</td>\n",
       "      <td>-1</td>\n",
       "      <td>473</td>\n",
       "      <td>-1</td>\n",
       "      <td>-1</td>\n",
       "      <td>260</td>\n",
       "      <td>-2.7357</td>\n",
       "      <td>-2.3073</td>\n",
       "      <td>-0.7794</td>\n",
       "      <td>0.4148</td>\n",
       "      <td>-1.5513</td>\n",
       "    </tr>\n",
       "    <tr>\n",
       "      <th>1767</th>\n",
       "      <td>180000</td>\n",
       "      <td>2014-06-01</td>\n",
       "      <td>2014-08-01</td>\n",
       "      <td>it technician</td>\n",
       "      <td>Bhopal</td>\n",
       "      <td>m</td>\n",
       "      <td>1992-09-21</td>\n",
       "      <td>69.00</td>\n",
       "      <td>state board</td>\n",
       "      <td>2010</td>\n",
       "      <td>...</td>\n",
       "      <td>-1</td>\n",
       "      <td>446</td>\n",
       "      <td>-1</td>\n",
       "      <td>-1</td>\n",
       "      <td>-1</td>\n",
       "      <td>1.9953</td>\n",
       "      <td>-0.9531</td>\n",
       "      <td>-1.6807</td>\n",
       "      <td>-0.8682</td>\n",
       "      <td>-0.8608</td>\n",
       "    </tr>\n",
       "    <tr>\n",
       "      <th>2151</th>\n",
       "      <td>145000</td>\n",
       "      <td>2012-02-01</td>\n",
       "      <td>2013-04-01</td>\n",
       "      <td>web developer</td>\n",
       "      <td>New Delhi</td>\n",
       "      <td>m</td>\n",
       "      <td>1988-06-18</td>\n",
       "      <td>61.30</td>\n",
       "      <td>up board</td>\n",
       "      <td>2005</td>\n",
       "      <td>...</td>\n",
       "      <td>-1</td>\n",
       "      <td>-1</td>\n",
       "      <td>-1</td>\n",
       "      <td>-1</td>\n",
       "      <td>-1</td>\n",
       "      <td>-1.0355</td>\n",
       "      <td>0.6568</td>\n",
       "      <td>0.9623</td>\n",
       "      <td>1.4724</td>\n",
       "      <td>0.8183</td>\n",
       "    </tr>\n",
       "    <tr>\n",
       "      <th>2229</th>\n",
       "      <td>240000</td>\n",
       "      <td>2015-01-01</td>\n",
       "      <td>2015-04-01</td>\n",
       "      <td>product development engineer</td>\n",
       "      <td>Chennai</td>\n",
       "      <td>m</td>\n",
       "      <td>1992-05-01</td>\n",
       "      <td>94.40</td>\n",
       "      <td>state board</td>\n",
       "      <td>2010</td>\n",
       "      <td>...</td>\n",
       "      <td>-1</td>\n",
       "      <td>376</td>\n",
       "      <td>-1</td>\n",
       "      <td>-1</td>\n",
       "      <td>-1</td>\n",
       "      <td>0.4155</td>\n",
       "      <td>-0.6201</td>\n",
       "      <td>0.0100</td>\n",
       "      <td>-0.6147</td>\n",
       "      <td>-0.4776</td>\n",
       "    </tr>\n",
       "    <tr>\n",
       "      <th>2293</th>\n",
       "      <td>490000</td>\n",
       "      <td>2012-10-01</td>\n",
       "      <td>2014-12-01</td>\n",
       "      <td>software engineer</td>\n",
       "      <td>-1</td>\n",
       "      <td>f</td>\n",
       "      <td>1990-03-18</td>\n",
       "      <td>89.60</td>\n",
       "      <td>karnataka board</td>\n",
       "      <td>2008</td>\n",
       "      <td>...</td>\n",
       "      <td>-1</td>\n",
       "      <td>-1</td>\n",
       "      <td>-1</td>\n",
       "      <td>-1</td>\n",
       "      <td>-1</td>\n",
       "      <td>1.1283</td>\n",
       "      <td>1.4368</td>\n",
       "      <td>-0.7068</td>\n",
       "      <td>-1.7004</td>\n",
       "      <td>0.1864</td>\n",
       "    </tr>\n",
       "    <tr>\n",
       "      <th>2662</th>\n",
       "      <td>470000</td>\n",
       "      <td>2011-07-01</td>\n",
       "      <td>2015-03-01</td>\n",
       "      <td>systems engineer</td>\n",
       "      <td>Kolkata</td>\n",
       "      <td>m</td>\n",
       "      <td>1990-02-15</td>\n",
       "      <td>77.38</td>\n",
       "      <td>west bengal board of secondary examination (wb...</td>\n",
       "      <td>2007</td>\n",
       "      <td>...</td>\n",
       "      <td>-1</td>\n",
       "      <td>-1</td>\n",
       "      <td>-1</td>\n",
       "      <td>-1</td>\n",
       "      <td>-1</td>\n",
       "      <td>-0.4173</td>\n",
       "      <td>-1.6833</td>\n",
       "      <td>0.5269</td>\n",
       "      <td>-1.7004</td>\n",
       "      <td>-0.9194</td>\n",
       "    </tr>\n",
       "    <tr>\n",
       "      <th>2691</th>\n",
       "      <td>820000</td>\n",
       "      <td>2014-07-01</td>\n",
       "      <td>2015-03-01</td>\n",
       "      <td>software engineer</td>\n",
       "      <td>New Delhi</td>\n",
       "      <td>m</td>\n",
       "      <td>1990-10-28</td>\n",
       "      <td>81.20</td>\n",
       "      <td>cbse</td>\n",
       "      <td>2007</td>\n",
       "      <td>...</td>\n",
       "      <td>-1</td>\n",
       "      <td>-1</td>\n",
       "      <td>-1</td>\n",
       "      <td>-1</td>\n",
       "      <td>-1</td>\n",
       "      <td>-0.8810</td>\n",
       "      <td>-0.0842</td>\n",
       "      <td>-0.4891</td>\n",
       "      <td>-0.0552</td>\n",
       "      <td>-0.2875</td>\n",
       "    </tr>\n",
       "    <tr>\n",
       "      <th>3308</th>\n",
       "      <td>250000</td>\n",
       "      <td>2011-08-01</td>\n",
       "      <td>2012-11-01</td>\n",
       "      <td>engineer</td>\n",
       "      <td>Aurangabad</td>\n",
       "      <td>m</td>\n",
       "      <td>1985-06-07</td>\n",
       "      <td>63.20</td>\n",
       "      <td>cbse</td>\n",
       "      <td>2003</td>\n",
       "      <td>...</td>\n",
       "      <td>-1</td>\n",
       "      <td>-1</td>\n",
       "      <td>-1</td>\n",
       "      <td>420</td>\n",
       "      <td>-1</td>\n",
       "      <td>-1.3447</td>\n",
       "      <td>1.1248</td>\n",
       "      <td>0.6720</td>\n",
       "      <td>1.5899</td>\n",
       "      <td>-0.2875</td>\n",
       "    </tr>\n",
       "  </tbody>\n",
       "</table>\n",
       "<p>12 rows × 35 columns</p>\n",
       "</div>"
      ],
      "text/plain": [
       "      Salary        DOJ        DOL                     Designation  \\\n",
       "7     400000 2014-07-01 2015-07-01             mechanical engineer   \n",
       "138   195000 2014-10-01 2015-01-01  business development managerde   \n",
       "788   180000 2012-05-01 2013-06-01     electrical project engineer   \n",
       "1419  180000 2014-10-01 2015-04-01          java software engineer   \n",
       "1439  360000 2011-08-01 2025-03-06             assistant professor   \n",
       "1767  180000 2014-06-01 2014-08-01                   it technician   \n",
       "2151  145000 2012-02-01 2013-04-01                   web developer   \n",
       "2229  240000 2015-01-01 2015-04-01    product development engineer   \n",
       "2293  490000 2012-10-01 2014-12-01               software engineer   \n",
       "2662  470000 2011-07-01 2015-03-01                systems engineer   \n",
       "2691  820000 2014-07-01 2015-03-01               software engineer   \n",
       "3308  250000 2011-08-01 2012-11-01                        engineer   \n",
       "\n",
       "         JobCity Gender        DOB  10percentage  \\\n",
       "7      Bangalore      m 1992-05-27         92.00   \n",
       "138   coimbatore      m 1991-05-04         79.60   \n",
       "788        Jowai      m 1989-01-12         66.50   \n",
       "1419     Chennai      m 1993-06-14         58.90   \n",
       "1439          AM      m 1988-12-11         73.06   \n",
       "1767      Bhopal      m 1992-09-21         69.00   \n",
       "2151   New Delhi      m 1988-06-18         61.30   \n",
       "2229     Chennai      m 1992-05-01         94.40   \n",
       "2293          -1      f 1990-03-18         89.60   \n",
       "2662     Kolkata      m 1990-02-15         77.38   \n",
       "2691   New Delhi      m 1990-10-28         81.20   \n",
       "3308  Aurangabad      m 1985-06-07         63.20   \n",
       "\n",
       "                                                10board  12graduation  ...  \\\n",
       "7                                                  cbse          2010  ...   \n",
       "138                                       matriculation          2011  ...   \n",
       "788                                                cbse          2007  ...   \n",
       "1419                                        state board          2010  ...   \n",
       "1439                                       nagpur board          2007  ...   \n",
       "1767                                        state board          2010  ...   \n",
       "2151                                           up board          2005  ...   \n",
       "2229                                        state board          2010  ...   \n",
       "2293                                    karnataka board          2008  ...   \n",
       "2662  west bengal board of secondary examination (wb...          2007  ...   \n",
       "2691                                               cbse          2007  ...   \n",
       "3308                                               cbse          2003  ...   \n",
       "\n",
       "      ComputerScience MechanicalEngg  ElectricalEngg TelecomEngg CivilEngg  \\\n",
       "7                  -1            469              -1          -1        -1   \n",
       "138               284             -1              -1          -1        -1   \n",
       "788                -1             -1              -1          -1        -1   \n",
       "1419              376             -1              -1          -1        -1   \n",
       "1439               -1            473              -1          -1       260   \n",
       "1767               -1            446              -1          -1        -1   \n",
       "2151               -1             -1              -1          -1        -1   \n",
       "2229               -1            376              -1          -1        -1   \n",
       "2293               -1             -1              -1          -1        -1   \n",
       "2662               -1             -1              -1          -1        -1   \n",
       "2691               -1             -1              -1          -1        -1   \n",
       "3308               -1             -1              -1         420        -1   \n",
       "\n",
       "      conscientiousness  agreeableness extraversion  nueroticism  \\\n",
       "7               -0.0154         1.2114       0.0100       0.1459   \n",
       "138              0.8463         0.7119       0.4711       1.1601   \n",
       "788              0.5100        -0.2793      -1.0697       0.1798   \n",
       "1419             1.8517         0.2124       0.6248      -1.7556   \n",
       "1439            -2.7357        -2.3073      -0.7794       0.4148   \n",
       "1767             1.9953        -0.9531      -1.6807      -0.8682   \n",
       "2151            -1.0355         0.6568       0.9623       1.4724   \n",
       "2229             0.4155        -0.6201       0.0100      -0.6147   \n",
       "2293             1.1283         1.4368      -0.7068      -1.7004   \n",
       "2662            -0.4173        -1.6833       0.5269      -1.7004   \n",
       "2691            -0.8810        -0.0842      -0.4891      -0.0552   \n",
       "3308            -1.3447         1.1248       0.6720       1.5899   \n",
       "\n",
       "      openess_to_experience  \n",
       "7                    1.2470  \n",
       "138                  0.4805  \n",
       "788                 -1.0774  \n",
       "1419                -0.4776  \n",
       "1439                -1.5513  \n",
       "1767                -0.8608  \n",
       "2151                 0.8183  \n",
       "2229                -0.4776  \n",
       "2293                 0.1864  \n",
       "2662                -0.9194  \n",
       "2691                -0.2875  \n",
       "3308                -0.2875  \n",
       "\n",
       "[12 rows x 35 columns]"
      ]
     },
     "execution_count": 58,
     "metadata": {},
     "output_type": "execute_result"
    }
   ],
   "source": [
    "df_copy[ df_copy ['collegeGPA'] <= 10]"
   ]
  },
  {
   "cell_type": "code",
   "execution_count": 59,
   "id": "faf64f2f-e269-42e6-9414-795f3175a9a6",
   "metadata": {},
   "outputs": [],
   "source": [
    "index_incorrect_collegeGPA = df_copy[ df_copy ['collegeGPA'] <= 10].index"
   ]
  },
  {
   "cell_type": "code",
   "execution_count": 60,
   "id": "79af8011-52bc-4ae0-84dd-2e47ce2e0f4d",
   "metadata": {},
   "outputs": [
    {
     "data": {
      "text/plain": [
       "Index([7, 138, 788, 1419, 1439, 1767, 2151, 2229, 2293, 2662, 2691, 3308], dtype='int64')"
      ]
     },
     "execution_count": 60,
     "metadata": {},
     "output_type": "execute_result"
    }
   ],
   "source": [
    "index_incorrect_collegeGPA"
   ]
  },
  {
   "cell_type": "code",
   "execution_count": null,
   "id": "7134256b-890d-4323-8c79-1880b0f1f375",
   "metadata": {},
   "outputs": [],
   "source": []
  },
  {
   "cell_type": "code",
   "execution_count": 61,
   "id": "39ce5113-6411-4455-bade-7b93982d134b",
   "metadata": {},
   "outputs": [
    {
     "data": {
      "text/plain": [
       "array([85.8, 66.3, 68. , 68.5, 80.7, 75.6, 69.5, 81.3, 93. , 88.8, 88.9,\n",
       "       64.5])"
      ]
     },
     "execution_count": 61,
     "metadata": {},
     "output_type": "execute_result"
    }
   ],
   "source": [
    "df_copy.loc[index_incorrect_collegeGPA, 'collegeGPA'].values * 10"
   ]
  },
  {
   "cell_type": "code",
   "execution_count": 62,
   "id": "69172a53-001b-430c-94d8-bb27d45bc9de",
   "metadata": {},
   "outputs": [],
   "source": [
    "df_copy.loc[index_incorrect_collegeGPA, 'collegeGPA'] = df_copy.loc[index_incorrect_collegeGPA, 'collegeGPA'].values * 10"
   ]
  },
  {
   "cell_type": "code",
   "execution_count": 63,
   "id": "0647a1a9-1535-493b-86f1-0f141e3a0f91",
   "metadata": {},
   "outputs": [
    {
     "data": {
      "text/plain": [
       "7       85.8\n",
       "138     66.3\n",
       "788     68.0\n",
       "1419    68.5\n",
       "1439    80.7\n",
       "1767    75.6\n",
       "2151    69.5\n",
       "2229    81.3\n",
       "2293    93.0\n",
       "2662    88.8\n",
       "2691    88.9\n",
       "3308    64.5\n",
       "Name: collegeGPA, dtype: float64"
      ]
     },
     "execution_count": 63,
     "metadata": {},
     "output_type": "execute_result"
    }
   ],
   "source": [
    "df_copy.loc[index_incorrect_collegeGPA, 'collegeGPA']"
   ]
  },
  {
   "cell_type": "code",
   "execution_count": 64,
   "id": "65a32815-8565-4027-b981-f2ff14db323b",
   "metadata": {},
   "outputs": [
    {
     "data": {
      "text/plain": [
       "49.07"
      ]
     },
     "execution_count": 64,
     "metadata": {},
     "output_type": "execute_result"
    }
   ],
   "source": [
    "df_copy['collegeGPA'].min()"
   ]
  },
  {
   "cell_type": "code",
   "execution_count": 65,
   "id": "b900a0f2-a356-4cfb-bf0d-a2bee6047d7d",
   "metadata": {},
   "outputs": [
    {
     "data": {
      "text/plain": [
       "99.93"
      ]
     },
     "execution_count": 65,
     "metadata": {},
     "output_type": "execute_result"
    }
   ],
   "source": [
    "df_copy['collegeGPA'].max()"
   ]
  },
  {
   "cell_type": "markdown",
   "id": "9c7e6632-6ee4-4685-ae40-ab6dd584c2d1",
   "metadata": {},
   "source": [
    "#### Comment\n",
    "\n",
    "* since the values are percentages, renaming the column into **collegePercent**"
   ]
  },
  {
   "cell_type": "code",
   "execution_count": 67,
   "id": "125f19a4-5354-4a0f-8137-c84378606ed9",
   "metadata": {},
   "outputs": [],
   "source": [
    "df_copy.rename(columns = {'collegeGPA': 'collegePercent'}, inplace = True)"
   ]
  },
  {
   "cell_type": "code",
   "execution_count": 68,
   "id": "97478716-2526-40d1-8ab1-e69909621e39",
   "metadata": {},
   "outputs": [
    {
     "data": {
      "text/plain": [
       "Index(['Salary', 'DOJ', 'DOL', 'Designation', 'JobCity', 'Gender', 'DOB',\n",
       "       '10percentage', '10board', '12graduation', '12percentage', '12board',\n",
       "       'CollegeTier', 'Degree', 'Specialization', 'collegePercent',\n",
       "       'CollegeCityTier', 'CollegeState', 'GraduationYear', 'English',\n",
       "       'Logical', 'Quant', 'Domain', 'ComputerProgramming',\n",
       "       'ElectronicsAndSemicon', 'ComputerScience', 'MechanicalEngg',\n",
       "       'ElectricalEngg', 'TelecomEngg', 'CivilEngg', 'conscientiousness',\n",
       "       'agreeableness', 'extraversion', 'nueroticism',\n",
       "       'openess_to_experience'],\n",
       "      dtype='object')"
      ]
     },
     "execution_count": 68,
     "metadata": {},
     "output_type": "execute_result"
    }
   ],
   "source": [
    "df_copy.columns"
   ]
  },
  {
   "cell_type": "code",
   "execution_count": null,
   "id": "85012eff-7a12-4ecc-97db-74630cc4129d",
   "metadata": {},
   "outputs": [],
   "source": []
  },
  {
   "cell_type": "code",
   "execution_count": 69,
   "id": "d51a79d6-84e3-49c8-8921-091988bb3be9",
   "metadata": {},
   "outputs": [
    {
     "data": {
      "text/html": [
       "<div>\n",
       "<style scoped>\n",
       "    .dataframe tbody tr th:only-of-type {\n",
       "        vertical-align: middle;\n",
       "    }\n",
       "\n",
       "    .dataframe tbody tr th {\n",
       "        vertical-align: top;\n",
       "    }\n",
       "\n",
       "    .dataframe thead th {\n",
       "        text-align: right;\n",
       "    }\n",
       "</style>\n",
       "<table border=\"1\" class=\"dataframe\">\n",
       "  <thead>\n",
       "    <tr style=\"text-align: right;\">\n",
       "      <th></th>\n",
       "      <th>Salary</th>\n",
       "      <th>DOJ</th>\n",
       "      <th>DOL</th>\n",
       "      <th>Designation</th>\n",
       "      <th>JobCity</th>\n",
       "      <th>Gender</th>\n",
       "      <th>DOB</th>\n",
       "      <th>10percentage</th>\n",
       "      <th>10board</th>\n",
       "      <th>12graduation</th>\n",
       "      <th>...</th>\n",
       "      <th>ComputerScience</th>\n",
       "      <th>MechanicalEngg</th>\n",
       "      <th>ElectricalEngg</th>\n",
       "      <th>TelecomEngg</th>\n",
       "      <th>CivilEngg</th>\n",
       "      <th>conscientiousness</th>\n",
       "      <th>agreeableness</th>\n",
       "      <th>extraversion</th>\n",
       "      <th>nueroticism</th>\n",
       "      <th>openess_to_experience</th>\n",
       "    </tr>\n",
       "  </thead>\n",
       "  <tbody>\n",
       "    <tr>\n",
       "      <th>0</th>\n",
       "      <td>420000</td>\n",
       "      <td>2012-06-01</td>\n",
       "      <td>2025-03-06</td>\n",
       "      <td>senior quality engineer</td>\n",
       "      <td>Bangalore</td>\n",
       "      <td>f</td>\n",
       "      <td>1990-02-19</td>\n",
       "      <td>84.3</td>\n",
       "      <td>board ofsecondary education,ap</td>\n",
       "      <td>2007</td>\n",
       "      <td>...</td>\n",
       "      <td>-1</td>\n",
       "      <td>-1</td>\n",
       "      <td>-1</td>\n",
       "      <td>-1</td>\n",
       "      <td>-1</td>\n",
       "      <td>0.9737</td>\n",
       "      <td>0.8128</td>\n",
       "      <td>0.5269</td>\n",
       "      <td>1.35490</td>\n",
       "      <td>-0.4455</td>\n",
       "    </tr>\n",
       "    <tr>\n",
       "      <th>1</th>\n",
       "      <td>500000</td>\n",
       "      <td>2013-09-01</td>\n",
       "      <td>2025-03-06</td>\n",
       "      <td>assistant manager</td>\n",
       "      <td>Indore</td>\n",
       "      <td>m</td>\n",
       "      <td>1989-10-04</td>\n",
       "      <td>85.4</td>\n",
       "      <td>cbse</td>\n",
       "      <td>2007</td>\n",
       "      <td>...</td>\n",
       "      <td>-1</td>\n",
       "      <td>-1</td>\n",
       "      <td>-1</td>\n",
       "      <td>-1</td>\n",
       "      <td>-1</td>\n",
       "      <td>-0.7335</td>\n",
       "      <td>0.3789</td>\n",
       "      <td>1.2396</td>\n",
       "      <td>-0.10760</td>\n",
       "      <td>0.8637</td>\n",
       "    </tr>\n",
       "    <tr>\n",
       "      <th>2</th>\n",
       "      <td>325000</td>\n",
       "      <td>2014-06-01</td>\n",
       "      <td>2025-03-06</td>\n",
       "      <td>systems engineer</td>\n",
       "      <td>Chennai</td>\n",
       "      <td>f</td>\n",
       "      <td>1992-08-03</td>\n",
       "      <td>85.0</td>\n",
       "      <td>cbse</td>\n",
       "      <td>2010</td>\n",
       "      <td>...</td>\n",
       "      <td>-1</td>\n",
       "      <td>-1</td>\n",
       "      <td>-1</td>\n",
       "      <td>-1</td>\n",
       "      <td>-1</td>\n",
       "      <td>0.2718</td>\n",
       "      <td>1.7109</td>\n",
       "      <td>0.1637</td>\n",
       "      <td>-0.86820</td>\n",
       "      <td>0.6721</td>\n",
       "    </tr>\n",
       "    <tr>\n",
       "      <th>3</th>\n",
       "      <td>1100000</td>\n",
       "      <td>2011-07-01</td>\n",
       "      <td>2025-03-06</td>\n",
       "      <td>senior software engineer</td>\n",
       "      <td>Gurgaon</td>\n",
       "      <td>m</td>\n",
       "      <td>1989-12-05</td>\n",
       "      <td>85.6</td>\n",
       "      <td>cbse</td>\n",
       "      <td>2007</td>\n",
       "      <td>...</td>\n",
       "      <td>-1</td>\n",
       "      <td>-1</td>\n",
       "      <td>-1</td>\n",
       "      <td>-1</td>\n",
       "      <td>-1</td>\n",
       "      <td>0.0464</td>\n",
       "      <td>0.3448</td>\n",
       "      <td>-0.3440</td>\n",
       "      <td>-0.40780</td>\n",
       "      <td>-0.9194</td>\n",
       "    </tr>\n",
       "    <tr>\n",
       "      <th>4</th>\n",
       "      <td>200000</td>\n",
       "      <td>2014-03-01</td>\n",
       "      <td>2015-03-01</td>\n",
       "      <td>get</td>\n",
       "      <td>Manesar</td>\n",
       "      <td>m</td>\n",
       "      <td>1991-02-27</td>\n",
       "      <td>78.0</td>\n",
       "      <td>cbse</td>\n",
       "      <td>2008</td>\n",
       "      <td>...</td>\n",
       "      <td>-1</td>\n",
       "      <td>-1</td>\n",
       "      <td>-1</td>\n",
       "      <td>-1</td>\n",
       "      <td>-1</td>\n",
       "      <td>-0.8810</td>\n",
       "      <td>-0.2793</td>\n",
       "      <td>-1.0697</td>\n",
       "      <td>0.09163</td>\n",
       "      <td>-0.1295</td>\n",
       "    </tr>\n",
       "  </tbody>\n",
       "</table>\n",
       "<p>5 rows × 35 columns</p>\n",
       "</div>"
      ],
      "text/plain": [
       "    Salary        DOJ        DOL               Designation    JobCity Gender  \\\n",
       "0   420000 2012-06-01 2025-03-06   senior quality engineer  Bangalore      f   \n",
       "1   500000 2013-09-01 2025-03-06         assistant manager     Indore      m   \n",
       "2   325000 2014-06-01 2025-03-06          systems engineer    Chennai      f   \n",
       "3  1100000 2011-07-01 2025-03-06  senior software engineer    Gurgaon      m   \n",
       "4   200000 2014-03-01 2015-03-01                       get    Manesar      m   \n",
       "\n",
       "         DOB  10percentage                         10board  12graduation  ...  \\\n",
       "0 1990-02-19          84.3  board ofsecondary education,ap          2007  ...   \n",
       "1 1989-10-04          85.4                            cbse          2007  ...   \n",
       "2 1992-08-03          85.0                            cbse          2010  ...   \n",
       "3 1989-12-05          85.6                            cbse          2007  ...   \n",
       "4 1991-02-27          78.0                            cbse          2008  ...   \n",
       "\n",
       "   ComputerScience MechanicalEngg  ElectricalEngg TelecomEngg CivilEngg  \\\n",
       "0               -1             -1              -1          -1        -1   \n",
       "1               -1             -1              -1          -1        -1   \n",
       "2               -1             -1              -1          -1        -1   \n",
       "3               -1             -1              -1          -1        -1   \n",
       "4               -1             -1              -1          -1        -1   \n",
       "\n",
       "   conscientiousness  agreeableness extraversion  nueroticism  \\\n",
       "0             0.9737         0.8128       0.5269      1.35490   \n",
       "1            -0.7335         0.3789       1.2396     -0.10760   \n",
       "2             0.2718         1.7109       0.1637     -0.86820   \n",
       "3             0.0464         0.3448      -0.3440     -0.40780   \n",
       "4            -0.8810        -0.2793      -1.0697      0.09163   \n",
       "\n",
       "   openess_to_experience  \n",
       "0                -0.4455  \n",
       "1                 0.8637  \n",
       "2                 0.6721  \n",
       "3                -0.9194  \n",
       "4                -0.1295  \n",
       "\n",
       "[5 rows x 35 columns]"
      ]
     },
     "execution_count": 69,
     "metadata": {},
     "output_type": "execute_result"
    }
   ],
   "source": [
    "df_copy.head()"
   ]
  },
  {
   "cell_type": "code",
   "execution_count": null,
   "id": "4bba986a-d6ef-4a1c-85d6-d6578e6286c3",
   "metadata": {},
   "outputs": [],
   "source": []
  },
  {
   "cell_type": "markdown",
   "id": "94745921-0ada-435f-bd8b-e19addf09d1d",
   "metadata": {},
   "source": [
    "#### Comment\n",
    "\n",
    "* we can see that there are -1 values in the scores columns that are related to amcat\n",
    "* These '-1' values are nothing but null values, hence relplacing them wit **nan**"
   ]
  },
  {
   "cell_type": "code",
   "execution_count": 71,
   "id": "6956f648-ca2f-4b25-88fb-1174d27804d2",
   "metadata": {},
   "outputs": [
    {
     "data": {
      "text/plain": [
       "Salary                      0\n",
       "DOJ                         0\n",
       "DOL                         0\n",
       "Designation                 0\n",
       "JobCity                   461\n",
       "Gender                      0\n",
       "DOB                         0\n",
       "10percentage                0\n",
       "10board                     0\n",
       "12graduation                0\n",
       "12percentage                0\n",
       "12board                     0\n",
       "CollegeTier                 0\n",
       "Degree                      0\n",
       "Specialization              0\n",
       "collegePercent              0\n",
       "CollegeCityTier             0\n",
       "CollegeState                0\n",
       "GraduationYear              0\n",
       "English                     0\n",
       "Logical                     0\n",
       "Quant                       0\n",
       "Domain                    246\n",
       "ComputerProgramming       868\n",
       "ElectronicsAndSemicon    2854\n",
       "ComputerScience          3096\n",
       "MechanicalEngg           3763\n",
       "ElectricalEngg           3837\n",
       "TelecomEngg              3624\n",
       "CivilEngg                3956\n",
       "conscientiousness           0\n",
       "agreeableness               0\n",
       "extraversion                0\n",
       "nueroticism                 0\n",
       "openess_to_experience       0\n",
       "dtype: int64"
      ]
     },
     "execution_count": 71,
     "metadata": {},
     "output_type": "execute_result"
    }
   ],
   "source": [
    "(df_copy == -1).sum()"
   ]
  },
  {
   "cell_type": "code",
   "execution_count": 72,
   "id": "6f223e90-65f3-4f0d-93f0-0d00a55e219d",
   "metadata": {},
   "outputs": [
    {
     "data": {
      "text/plain": [
       "JobCity                   461\n",
       "Domain                    246\n",
       "ComputerProgramming       868\n",
       "ElectronicsAndSemicon    2854\n",
       "ComputerScience          3096\n",
       "MechanicalEngg           3763\n",
       "ElectricalEngg           3837\n",
       "TelecomEngg              3624\n",
       "CivilEngg                3956\n",
       "dtype: int64"
      ]
     },
     "execution_count": 72,
     "metadata": {},
     "output_type": "execute_result"
    }
   ],
   "source": [
    "(df_copy == -1).sum()[(df_copy == -1).sum() > 0]"
   ]
  },
  {
   "cell_type": "code",
   "execution_count": null,
   "id": "43592074-2672-4bac-b66d-19eb986eb511",
   "metadata": {},
   "outputs": [],
   "source": []
  },
  {
   "cell_type": "code",
   "execution_count": 73,
   "id": "ccfe3caf-5684-41fc-8836-beb220352560",
   "metadata": {},
   "outputs": [
    {
     "data": {
      "text/plain": [
       "JobCity                  0.115308\n",
       "Domain                   0.061531\n",
       "ComputerProgramming      0.217109\n",
       "ElectronicsAndSemicon    0.713857\n",
       "ComputerScience          0.774387\n",
       "MechanicalEngg           0.941221\n",
       "ElectricalEngg           0.959730\n",
       "TelecomEngg              0.906453\n",
       "CivilEngg                0.989495\n",
       "dtype: float64"
      ]
     },
     "execution_count": 73,
     "metadata": {},
     "output_type": "execute_result"
    }
   ],
   "source": [
    "(df_copy == -1).sum()[(df_copy == -1).sum() > 0] / df_copy.shape[0]"
   ]
  },
  {
   "cell_type": "markdown",
   "id": "0937cbdd-5bf9-4558-abfa-b5e97664b8be",
   "metadata": {},
   "source": [
    "#### Comment\n",
    "\n",
    "* we can see that there are columns with more than 90% missing values, hence dropping them."
   ]
  },
  {
   "cell_type": "code",
   "execution_count": 75,
   "id": "881f5391-f827-46a5-bef1-b69717b248f2",
   "metadata": {},
   "outputs": [],
   "source": [
    "df_copy.drop(columns = ['MechanicalEngg', 'ElectricalEngg', 'TelecomEngg', 'CivilEngg'], inplace = True) "
   ]
  },
  {
   "cell_type": "code",
   "execution_count": 76,
   "id": "30d0f5b0-394b-4d38-b1c9-6492606fef02",
   "metadata": {},
   "outputs": [
    {
     "data": {
      "text/plain": [
       "Index(['Salary', 'DOJ', 'DOL', 'Designation', 'JobCity', 'Gender', 'DOB',\n",
       "       '10percentage', '10board', '12graduation', '12percentage', '12board',\n",
       "       'CollegeTier', 'Degree', 'Specialization', 'collegePercent',\n",
       "       'CollegeCityTier', 'CollegeState', 'GraduationYear', 'English',\n",
       "       'Logical', 'Quant', 'Domain', 'ComputerProgramming',\n",
       "       'ElectronicsAndSemicon', 'ComputerScience', 'conscientiousness',\n",
       "       'agreeableness', 'extraversion', 'nueroticism',\n",
       "       'openess_to_experience'],\n",
       "      dtype='object')"
      ]
     },
     "execution_count": 76,
     "metadata": {},
     "output_type": "execute_result"
    }
   ],
   "source": [
    "df_copy.columns"
   ]
  },
  {
   "cell_type": "code",
   "execution_count": 77,
   "id": "b490675f-97ec-4b3e-aa65-be57feeba383",
   "metadata": {},
   "outputs": [
    {
     "data": {
      "text/plain": [
       "(3998, 31)"
      ]
     },
     "execution_count": 77,
     "metadata": {},
     "output_type": "execute_result"
    }
   ],
   "source": [
    "df_copy.shape"
   ]
  },
  {
   "cell_type": "code",
   "execution_count": null,
   "id": "444ecb93-adb7-4126-af93-783415edecd6",
   "metadata": {},
   "outputs": [],
   "source": []
  },
  {
   "cell_type": "markdown",
   "id": "6aa04485-e1bc-45eb-abfb-984d093335c9",
   "metadata": {},
   "source": [
    "#### Now replacing '-1' with nan"
   ]
  },
  {
   "cell_type": "code",
   "execution_count": 79,
   "id": "88c4ce16-4d50-462f-bfec-40a206201d18",
   "metadata": {},
   "outputs": [],
   "source": [
    "df_copy.replace(-1, np.nan, inplace = True)"
   ]
  },
  {
   "cell_type": "code",
   "execution_count": 80,
   "id": "9cb915ef-b697-461b-a738-27e48f5eadd6",
   "metadata": {},
   "outputs": [
    {
     "data": {
      "text/html": [
       "<div>\n",
       "<style scoped>\n",
       "    .dataframe tbody tr th:only-of-type {\n",
       "        vertical-align: middle;\n",
       "    }\n",
       "\n",
       "    .dataframe tbody tr th {\n",
       "        vertical-align: top;\n",
       "    }\n",
       "\n",
       "    .dataframe thead th {\n",
       "        text-align: right;\n",
       "    }\n",
       "</style>\n",
       "<table border=\"1\" class=\"dataframe\">\n",
       "  <thead>\n",
       "    <tr style=\"text-align: right;\">\n",
       "      <th></th>\n",
       "      <th>Salary</th>\n",
       "      <th>DOJ</th>\n",
       "      <th>DOL</th>\n",
       "      <th>Designation</th>\n",
       "      <th>JobCity</th>\n",
       "      <th>Gender</th>\n",
       "      <th>DOB</th>\n",
       "      <th>10percentage</th>\n",
       "      <th>10board</th>\n",
       "      <th>12graduation</th>\n",
       "      <th>...</th>\n",
       "      <th>Quant</th>\n",
       "      <th>Domain</th>\n",
       "      <th>ComputerProgramming</th>\n",
       "      <th>ElectronicsAndSemicon</th>\n",
       "      <th>ComputerScience</th>\n",
       "      <th>conscientiousness</th>\n",
       "      <th>agreeableness</th>\n",
       "      <th>extraversion</th>\n",
       "      <th>nueroticism</th>\n",
       "      <th>openess_to_experience</th>\n",
       "    </tr>\n",
       "  </thead>\n",
       "  <tbody>\n",
       "  </tbody>\n",
       "</table>\n",
       "<p>0 rows × 31 columns</p>\n",
       "</div>"
      ],
      "text/plain": [
       "Empty DataFrame\n",
       "Columns: [Salary, DOJ, DOL, Designation, JobCity, Gender, DOB, 10percentage, 10board, 12graduation, 12percentage, 12board, CollegeTier, Degree, Specialization, collegePercent, CollegeCityTier, CollegeState, GraduationYear, English, Logical, Quant, Domain, ComputerProgramming, ElectronicsAndSemicon, ComputerScience, conscientiousness, agreeableness, extraversion, nueroticism, openess_to_experience]\n",
       "Index: []\n",
       "\n",
       "[0 rows x 31 columns]"
      ]
     },
     "execution_count": 80,
     "metadata": {},
     "output_type": "execute_result"
    }
   ],
   "source": [
    "df_copy [ df_copy['JobCity'] == -1]"
   ]
  },
  {
   "cell_type": "code",
   "execution_count": null,
   "id": "41bd58d7-f05b-40de-937a-2762504bbb1a",
   "metadata": {},
   "outputs": [],
   "source": []
  },
  {
   "cell_type": "code",
   "execution_count": 81,
   "id": "88aa943e-d8a6-447d-b778-4ad5aa2261eb",
   "metadata": {},
   "outputs": [
    {
     "data": {
      "text/plain": [
       "Salary                      0\n",
       "DOJ                         0\n",
       "DOL                         0\n",
       "Designation                 0\n",
       "JobCity                     0\n",
       "Gender                      0\n",
       "DOB                         0\n",
       "10percentage                0\n",
       "10board                   350\n",
       "12graduation                0\n",
       "12percentage                0\n",
       "12board                   359\n",
       "CollegeTier                 0\n",
       "Degree                      0\n",
       "Specialization              0\n",
       "collegePercent              0\n",
       "CollegeCityTier          2797\n",
       "CollegeState                0\n",
       "GraduationYear              1\n",
       "English                     0\n",
       "Logical                     0\n",
       "Quant                       0\n",
       "Domain                      0\n",
       "ComputerProgramming         0\n",
       "ElectronicsAndSemicon       0\n",
       "ComputerScience             0\n",
       "conscientiousness           0\n",
       "agreeableness               0\n",
       "extraversion                0\n",
       "nueroticism                 0\n",
       "openess_to_experience       0\n",
       "dtype: int64"
      ]
     },
     "execution_count": 81,
     "metadata": {},
     "output_type": "execute_result"
    }
   ],
   "source": [
    "(df_copy == 0 ).sum()"
   ]
  },
  {
   "cell_type": "code",
   "execution_count": 82,
   "id": "4729cdb1-d7df-4586-ac33-fce46fa6d34d",
   "metadata": {},
   "outputs": [
    {
     "data": {
      "text/plain": [
       "array([0, 1], dtype=int64)"
      ]
     },
     "execution_count": 82,
     "metadata": {},
     "output_type": "execute_result"
    }
   ],
   "source": [
    "df_copy['CollegeCityTier'].unique()"
   ]
  },
  {
   "cell_type": "markdown",
   "id": "ee9f9c76-98bd-4877-b274-b8e249c214d5",
   "metadata": {},
   "source": [
    "#### Comment\n",
    "\n",
    "* **1oboard**, **12board** have missing values.\n",
    "* **CollegeCityTier** having **0** is valid."
   ]
  },
  {
   "cell_type": "code",
   "execution_count": 84,
   "id": "1f553509-9e2e-42bd-adf1-b895076ef699",
   "metadata": {},
   "outputs": [],
   "source": [
    "#replacing all the missing values with nan, so that it is easy to fill later\n",
    "\n",
    "df_copy['10board'].replace(0, np.nan, inplace = True)"
   ]
  },
  {
   "cell_type": "code",
   "execution_count": 85,
   "id": "8cfb2f06-50c9-40e4-b6d8-c37d421de244",
   "metadata": {},
   "outputs": [],
   "source": [
    "df_copy['12board'].replace(0, np.nan, inplace = True)"
   ]
  },
  {
   "cell_type": "code",
   "execution_count": 86,
   "id": "2d975cee-c0a5-4624-9da3-abd6b06b0cf4",
   "metadata": {},
   "outputs": [],
   "source": [
    "df_copy['GraduationYear'].replace(0, np.nan, inplace = True)"
   ]
  },
  {
   "cell_type": "markdown",
   "id": "a19849ef-271f-4230-b9c2-8937d4a93c42",
   "metadata": {},
   "source": [
    "#### Handling with missing values"
   ]
  },
  {
   "cell_type": "code",
   "execution_count": 88,
   "id": "672a2ad0-faa2-412c-81e1-0bcf1d9f3fee",
   "metadata": {},
   "outputs": [
    {
     "data": {
      "text/plain": [
       "Salary                      0\n",
       "DOJ                         0\n",
       "DOL                         0\n",
       "Designation                 0\n",
       "JobCity                   461\n",
       "Gender                      0\n",
       "DOB                         0\n",
       "10percentage                0\n",
       "10board                   350\n",
       "12graduation                0\n",
       "12percentage                0\n",
       "12board                   359\n",
       "CollegeTier                 0\n",
       "Degree                      0\n",
       "Specialization              0\n",
       "collegePercent              0\n",
       "CollegeCityTier             0\n",
       "CollegeState                0\n",
       "GraduationYear              1\n",
       "English                     0\n",
       "Logical                     0\n",
       "Quant                       0\n",
       "Domain                    246\n",
       "ComputerProgramming       868\n",
       "ElectronicsAndSemicon    2854\n",
       "ComputerScience          3096\n",
       "conscientiousness           0\n",
       "agreeableness               0\n",
       "extraversion                0\n",
       "nueroticism                 0\n",
       "openess_to_experience       0\n",
       "dtype: int64"
      ]
     },
     "execution_count": 88,
     "metadata": {},
     "output_type": "execute_result"
    }
   ],
   "source": [
    "df_copy.isnull().sum()"
   ]
  },
  {
   "cell_type": "code",
   "execution_count": null,
   "id": "66bfe40a-fb35-406b-b9b3-d648f1848444",
   "metadata": {},
   "outputs": [],
   "source": []
  },
  {
   "cell_type": "markdown",
   "id": "0ba2c68d-3095-4eb9-8743-7420b1fab179",
   "metadata": {},
   "source": [
    "#### Since 10th board, 12th board, and JobCity are categorical columns, filling the missing values with mode..so that there is no data loss"
   ]
  },
  {
   "cell_type": "code",
   "execution_count": 90,
   "id": "168eecab-39d9-4d36-94b4-df85b8e8f18c",
   "metadata": {},
   "outputs": [],
   "source": [
    "cat_missing_col = ['10board', '12board', 'JobCity']"
   ]
  },
  {
   "cell_type": "code",
   "execution_count": 91,
   "id": "42cbb20f-ad03-4b3d-a2e9-cf58139225d6",
   "metadata": {},
   "outputs": [
    {
     "data": {
      "text/plain": [
       "0    Bangalore\n",
       "Name: JobCity, dtype: object"
      ]
     },
     "execution_count": 91,
     "metadata": {},
     "output_type": "execute_result"
    }
   ],
   "source": [
    "df_copy['JobCity'].mode()"
   ]
  },
  {
   "cell_type": "code",
   "execution_count": 92,
   "id": "481accf6-0a7e-4808-b01f-211920220c52",
   "metadata": {},
   "outputs": [
    {
     "data": {
      "text/plain": [
       "array(['Bangalore'], dtype=object)"
      ]
     },
     "execution_count": 92,
     "metadata": {},
     "output_type": "execute_result"
    }
   ],
   "source": [
    "df_copy['JobCity'].mode().values"
   ]
  },
  {
   "cell_type": "code",
   "execution_count": 93,
   "id": "3eb62d96-0ec3-4bb8-a4eb-9f22fcae8d2d",
   "metadata": {},
   "outputs": [
    {
     "data": {
      "text/plain": [
       "'Bangalore'"
      ]
     },
     "execution_count": 93,
     "metadata": {},
     "output_type": "execute_result"
    }
   ],
   "source": [
    "df_copy['JobCity'].mode().values[0]"
   ]
  },
  {
   "cell_type": "code",
   "execution_count": 94,
   "id": "eace9dcd-2678-4a26-9b1b-60f8c5ff57d8",
   "metadata": {},
   "outputs": [],
   "source": [
    "def filling_missing_values(columns):\n",
    "\n",
    "    for col in columns:\n",
    "        df_copy[col].fillna(df_copy[col].mode().values[0], inplace = True)\n"
   ]
  },
  {
   "cell_type": "code",
   "execution_count": 95,
   "id": "4943ad8d-b5eb-4ea7-99fe-da0cb4e98441",
   "metadata": {},
   "outputs": [],
   "source": [
    "filling_missing_values(cat_missing_col)"
   ]
  },
  {
   "cell_type": "code",
   "execution_count": 96,
   "id": "05cc4af1-b466-471b-973e-0cd682d90150",
   "metadata": {},
   "outputs": [
    {
     "data": {
      "text/plain": [
       "dtype('float64')"
      ]
     },
     "execution_count": 96,
     "metadata": {},
     "output_type": "execute_result"
    }
   ],
   "source": [
    "df_copy['GraduationYear'].dtype"
   ]
  },
  {
   "cell_type": "code",
   "execution_count": 97,
   "id": "b856523e-78f4-4a09-8ad6-01ea3548ca93",
   "metadata": {},
   "outputs": [
    {
     "data": {
      "text/html": [
       "<div>\n",
       "<style scoped>\n",
       "    .dataframe tbody tr th:only-of-type {\n",
       "        vertical-align: middle;\n",
       "    }\n",
       "\n",
       "    .dataframe tbody tr th {\n",
       "        vertical-align: top;\n",
       "    }\n",
       "\n",
       "    .dataframe thead th {\n",
       "        text-align: right;\n",
       "    }\n",
       "</style>\n",
       "<table border=\"1\" class=\"dataframe\">\n",
       "  <thead>\n",
       "    <tr style=\"text-align: right;\">\n",
       "      <th></th>\n",
       "      <th>Salary</th>\n",
       "      <th>DOJ</th>\n",
       "      <th>DOL</th>\n",
       "      <th>Designation</th>\n",
       "      <th>JobCity</th>\n",
       "      <th>Gender</th>\n",
       "      <th>DOB</th>\n",
       "      <th>10percentage</th>\n",
       "      <th>10board</th>\n",
       "      <th>12graduation</th>\n",
       "      <th>...</th>\n",
       "      <th>Quant</th>\n",
       "      <th>Domain</th>\n",
       "      <th>ComputerProgramming</th>\n",
       "      <th>ElectronicsAndSemicon</th>\n",
       "      <th>ComputerScience</th>\n",
       "      <th>conscientiousness</th>\n",
       "      <th>agreeableness</th>\n",
       "      <th>extraversion</th>\n",
       "      <th>nueroticism</th>\n",
       "      <th>openess_to_experience</th>\n",
       "    </tr>\n",
       "  </thead>\n",
       "  <tbody>\n",
       "    <tr>\n",
       "      <th>2664</th>\n",
       "      <td>325000</td>\n",
       "      <td>2014-07-01</td>\n",
       "      <td>2015-07-01</td>\n",
       "      <td>systems engineer</td>\n",
       "      <td>Chandigarh</td>\n",
       "      <td>m</td>\n",
       "      <td>1991-12-17</td>\n",
       "      <td>89.0</td>\n",
       "      <td>cbse</td>\n",
       "      <td>2010</td>\n",
       "      <td>...</td>\n",
       "      <td>680</td>\n",
       "      <td>0.755375</td>\n",
       "      <td>NaN</td>\n",
       "      <td>NaN</td>\n",
       "      <td>NaN</td>\n",
       "      <td>1.1336</td>\n",
       "      <td>0.3789</td>\n",
       "      <td>-0.2974</td>\n",
       "      <td>-0.3612</td>\n",
       "      <td>-1.244</td>\n",
       "    </tr>\n",
       "  </tbody>\n",
       "</table>\n",
       "<p>1 rows × 31 columns</p>\n",
       "</div>"
      ],
      "text/plain": [
       "      Salary        DOJ        DOL       Designation     JobCity Gender  \\\n",
       "2664  325000 2014-07-01 2015-07-01  systems engineer  Chandigarh      m   \n",
       "\n",
       "            DOB  10percentage 10board  12graduation  ...  Quant    Domain  \\\n",
       "2664 1991-12-17          89.0    cbse          2010  ...    680  0.755375   \n",
       "\n",
       "      ComputerProgramming ElectronicsAndSemicon ComputerScience  \\\n",
       "2664                  NaN                   NaN             NaN   \n",
       "\n",
       "      conscientiousness  agreeableness extraversion  nueroticism  \\\n",
       "2664             1.1336         0.3789      -0.2974      -0.3612   \n",
       "\n",
       "      openess_to_experience  \n",
       "2664                 -1.244  \n",
       "\n",
       "[1 rows x 31 columns]"
      ]
     },
     "execution_count": 97,
     "metadata": {},
     "output_type": "execute_result"
    }
   ],
   "source": [
    "df_copy[df_copy['GraduationYear'].isnull()]"
   ]
  },
  {
   "cell_type": "markdown",
   "id": "0902349b-0095-4315-94d6-2ae6c3e6d481",
   "metadata": {},
   "source": [
    "#### Comment\n",
    "\n",
    "* since 12th graduation is 2010, and he did a B.E./B.Tech course, filling the null value with 2014"
   ]
  },
  {
   "cell_type": "code",
   "execution_count": 99,
   "id": "19b99f81-3753-462b-96e3-c8f9d2577bb4",
   "metadata": {},
   "outputs": [],
   "source": [
    "df_copy['GraduationYear'].fillna(2014, inplace = True)"
   ]
  },
  {
   "cell_type": "code",
   "execution_count": null,
   "id": "d04fac94-1cc3-42b3-b030-bae051425b20",
   "metadata": {},
   "outputs": [],
   "source": []
  },
  {
   "cell_type": "markdown",
   "id": "15bfafc0-f5ea-40b4-84ca-86b89c87f01b",
   "metadata": {},
   "source": [
    "#### Comment\n",
    "\n",
    "* The missing values in **domain**, **ComputerProgramming**, and other scores column because there are candidates from different specializations.\n",
    "* Hence leaving them as it is."
   ]
  },
  {
   "cell_type": "code",
   "execution_count": null,
   "id": "b630bdf1-ca3b-48cc-be5e-c4b86b24fa55",
   "metadata": {},
   "outputs": [],
   "source": []
  },
  {
   "cell_type": "code",
   "execution_count": 101,
   "id": "2ddc144b-683e-4ff6-81d6-ffc120ce5554",
   "metadata": {},
   "outputs": [
    {
     "data": {
      "text/plain": [
       "Index(['Salary', 'DOJ', 'DOL', 'Designation', 'JobCity', 'Gender', 'DOB',\n",
       "       '10percentage', '10board', '12graduation', '12percentage', '12board',\n",
       "       'CollegeTier', 'Degree', 'Specialization', 'collegePercent',\n",
       "       'CollegeCityTier', 'CollegeState', 'GraduationYear', 'English',\n",
       "       'Logical', 'Quant', 'Domain', 'ComputerProgramming',\n",
       "       'ElectronicsAndSemicon', 'ComputerScience', 'conscientiousness',\n",
       "       'agreeableness', 'extraversion', 'nueroticism',\n",
       "       'openess_to_experience'],\n",
       "      dtype='object')"
      ]
     },
     "execution_count": 101,
     "metadata": {},
     "output_type": "execute_result"
    }
   ],
   "source": [
    "df_copy.columns"
   ]
  },
  {
   "cell_type": "code",
   "execution_count": null,
   "id": "9d103dfd-5f37-48ee-85b8-9969b6be1b08",
   "metadata": {},
   "outputs": [],
   "source": []
  },
  {
   "cell_type": "markdown",
   "id": "9a79fc51-213d-47f5-aee9-7be92c3ef4b1",
   "metadata": {},
   "source": [
    "#### Checking if there are any spelling mistakes"
   ]
  },
  {
   "cell_type": "code",
   "execution_count": 103,
   "id": "2376807c-197c-4b5b-8f03-bb2b79c9dc7d",
   "metadata": {},
   "outputs": [],
   "source": [
    "cat_col_list = ['Designation', 'JobCity', 'Degree', 'Specialization', 'CollegeState']"
   ]
  },
  {
   "cell_type": "code",
   "execution_count": 104,
   "id": "37b4b7c9-e957-44df-80ba-cb7dc4bbe896",
   "metadata": {},
   "outputs": [],
   "source": [
    "for col in cat_col_list:\n",
    "\n",
    "    df_copy[col] = df_copy[col].str.strip().str.capitalize()"
   ]
  },
  {
   "cell_type": "code",
   "execution_count": 105,
   "id": "2a30a912-fc6a-40ab-be5b-ca92a810a171",
   "metadata": {},
   "outputs": [
    {
     "data": {
      "text/plain": [
       "array(['Computer engineering',\n",
       "       'Electronics and communication engineering',\n",
       "       'Information technology', 'Computer science & engineering',\n",
       "       'Mechanical engineering', 'Electronics and electrical engineering',\n",
       "       'Electronics & telecommunications',\n",
       "       'Instrumentation and control engineering', 'Computer application',\n",
       "       'Electronics and computer engineering', 'Electrical engineering',\n",
       "       'Applied electronics and instrumentation',\n",
       "       'Electronics & instrumentation eng',\n",
       "       'Information science engineering', 'Civil engineering',\n",
       "       'Mechanical and automation', 'Industrial & production engineering',\n",
       "       'Control and instrumentation engineering',\n",
       "       'Metallurgical engineering',\n",
       "       'Electronics and instrumentation engineering',\n",
       "       'Electronics engineering', 'Ceramic engineering',\n",
       "       'Chemical engineering', 'Aeronautical engineering', 'Other',\n",
       "       'Biotechnology', 'Embedded systems technology',\n",
       "       'Electrical and power engineering',\n",
       "       'Computer science and technology', 'Mechatronics',\n",
       "       'Automobile/automotive engineering', 'Polymer technology',\n",
       "       'Mechanical & production engineering',\n",
       "       'Power systems and automation', 'Instrumentation engineering',\n",
       "       'Telecommunication engineering',\n",
       "       'Industrial & management engineering', 'Industrial engineering',\n",
       "       'Computer and communication engineering',\n",
       "       'Information & communication technology', 'Information science',\n",
       "       'Internal combustion engine', 'Computer networking',\n",
       "       'Biomedical engineering', 'Electronics', 'Computer science'],\n",
       "      dtype=object)"
      ]
     },
     "execution_count": 105,
     "metadata": {},
     "output_type": "execute_result"
    }
   ],
   "source": [
    "df_copy['Specialization'].unique()"
   ]
  },
  {
   "cell_type": "code",
   "execution_count": 106,
   "id": "6347d2a8-80c3-4e4d-8343-2c2a79a508ee",
   "metadata": {},
   "outputs": [
    {
     "data": {
      "text/plain": [
       "46"
      ]
     },
     "execution_count": 106,
     "metadata": {},
     "output_type": "execute_result"
    }
   ],
   "source": [
    "df_copy['Specialization'].nunique()"
   ]
  },
  {
   "cell_type": "markdown",
   "id": "6037ebc0-0f9e-4fd1-a318-3c96943f53be",
   "metadata": {},
   "source": [
    "#### Comment\n",
    "\n",
    "* there are 46 unique Specilaizations.\n",
    "* If there are so many unique values we can not conclude anything for sure.\n",
    "* Hence keeping the top 10 or most enrolled specializations and then adding the rest under **other** option that way it is easy to analyze."
   ]
  },
  {
   "cell_type": "code",
   "execution_count": 108,
   "id": "851f08f7-b9d2-400a-b6d7-ef84e4dc4902",
   "metadata": {},
   "outputs": [
    {
     "data": {
      "text/plain": [
       "Specialization\n",
       "Electronics and communication engineering      880\n",
       "Computer science & engineering                 744\n",
       "Information technology                         660\n",
       "Computer engineering                           600\n",
       "Computer application                           244\n",
       "Mechanical engineering                         201\n",
       "Electronics and electrical engineering         196\n",
       "Electronics & telecommunications               121\n",
       "Electrical engineering                          82\n",
       "Electronics & instrumentation eng               32\n",
       "Civil engineering                               29\n",
       "Electronics and instrumentation engineering     27\n",
       "Information science engineering                 27\n",
       "Instrumentation and control engineering         20\n",
       "Electronics engineering                         19\n",
       "Biotechnology                                   15\n",
       "Other                                           13\n",
       "Industrial & production engineering             10\n",
       "Applied electronics and instrumentation          9\n",
       "Chemical engineering                             9\n",
       "Computer science and technology                  6\n",
       "Telecommunication engineering                    6\n",
       "Mechanical and automation                        5\n",
       "Automobile/automotive engineering                5\n",
       "Instrumentation engineering                      4\n",
       "Mechatronics                                     4\n",
       "Aeronautical engineering                         3\n",
       "Electronics and computer engineering             3\n",
       "Electrical and power engineering                 2\n",
       "Biomedical engineering                           2\n",
       "Information & communication technology           2\n",
       "Industrial engineering                           2\n",
       "Computer science                                 2\n",
       "Metallurgical engineering                        2\n",
       "Power systems and automation                     1\n",
       "Control and instrumentation engineering          1\n",
       "Mechanical & production engineering              1\n",
       "Embedded systems technology                      1\n",
       "Polymer technology                               1\n",
       "Computer and communication engineering           1\n",
       "Information science                              1\n",
       "Internal combustion engine                       1\n",
       "Computer networking                              1\n",
       "Ceramic engineering                              1\n",
       "Electronics                                      1\n",
       "Industrial & management engineering              1\n",
       "Name: count, dtype: int64"
      ]
     },
     "execution_count": 108,
     "metadata": {},
     "output_type": "execute_result"
    }
   ],
   "source": [
    "df_copy['Specialization'].value_counts()"
   ]
  },
  {
   "cell_type": "code",
   "execution_count": 109,
   "id": "208a3e66-2f41-40f1-8925-072e6e3b8d0e",
   "metadata": {},
   "outputs": [
    {
     "data": {
      "text/html": [
       "<div>\n",
       "<style scoped>\n",
       "    .dataframe tbody tr th:only-of-type {\n",
       "        vertical-align: middle;\n",
       "    }\n",
       "\n",
       "    .dataframe tbody tr th {\n",
       "        vertical-align: top;\n",
       "    }\n",
       "\n",
       "    .dataframe thead th {\n",
       "        text-align: right;\n",
       "    }\n",
       "</style>\n",
       "<table border=\"1\" class=\"dataframe\">\n",
       "  <thead>\n",
       "    <tr style=\"text-align: right;\">\n",
       "      <th></th>\n",
       "      <th>Salary</th>\n",
       "      <th>DOJ</th>\n",
       "      <th>DOL</th>\n",
       "      <th>Designation</th>\n",
       "      <th>JobCity</th>\n",
       "      <th>Gender</th>\n",
       "      <th>DOB</th>\n",
       "      <th>10percentage</th>\n",
       "      <th>10board</th>\n",
       "      <th>12graduation</th>\n",
       "      <th>...</th>\n",
       "      <th>Quant</th>\n",
       "      <th>Domain</th>\n",
       "      <th>ComputerProgramming</th>\n",
       "      <th>ElectronicsAndSemicon</th>\n",
       "      <th>ComputerScience</th>\n",
       "      <th>conscientiousness</th>\n",
       "      <th>agreeableness</th>\n",
       "      <th>extraversion</th>\n",
       "      <th>nueroticism</th>\n",
       "      <th>openess_to_experience</th>\n",
       "    </tr>\n",
       "  </thead>\n",
       "  <tbody>\n",
       "    <tr>\n",
       "      <th>0</th>\n",
       "      <td>420000</td>\n",
       "      <td>2012-06-01</td>\n",
       "      <td>2025-03-06</td>\n",
       "      <td>Senior quality engineer</td>\n",
       "      <td>Bangalore</td>\n",
       "      <td>f</td>\n",
       "      <td>1990-02-19</td>\n",
       "      <td>84.30</td>\n",
       "      <td>board ofsecondary education,ap</td>\n",
       "      <td>2007</td>\n",
       "      <td>...</td>\n",
       "      <td>525</td>\n",
       "      <td>0.635979</td>\n",
       "      <td>445.0</td>\n",
       "      <td>NaN</td>\n",
       "      <td>NaN</td>\n",
       "      <td>0.9737</td>\n",
       "      <td>0.8128</td>\n",
       "      <td>0.5269</td>\n",
       "      <td>1.35490</td>\n",
       "      <td>-0.4455</td>\n",
       "    </tr>\n",
       "    <tr>\n",
       "      <th>2</th>\n",
       "      <td>325000</td>\n",
       "      <td>2014-06-01</td>\n",
       "      <td>2025-03-06</td>\n",
       "      <td>Systems engineer</td>\n",
       "      <td>Chennai</td>\n",
       "      <td>f</td>\n",
       "      <td>1992-08-03</td>\n",
       "      <td>85.00</td>\n",
       "      <td>cbse</td>\n",
       "      <td>2010</td>\n",
       "      <td>...</td>\n",
       "      <td>370</td>\n",
       "      <td>0.450877</td>\n",
       "      <td>395.0</td>\n",
       "      <td>NaN</td>\n",
       "      <td>NaN</td>\n",
       "      <td>0.2718</td>\n",
       "      <td>1.7109</td>\n",
       "      <td>0.1637</td>\n",
       "      <td>-0.86820</td>\n",
       "      <td>0.6721</td>\n",
       "    </tr>\n",
       "    <tr>\n",
       "      <th>3</th>\n",
       "      <td>1100000</td>\n",
       "      <td>2011-07-01</td>\n",
       "      <td>2025-03-06</td>\n",
       "      <td>Senior software engineer</td>\n",
       "      <td>Gurgaon</td>\n",
       "      <td>m</td>\n",
       "      <td>1989-12-05</td>\n",
       "      <td>85.60</td>\n",
       "      <td>cbse</td>\n",
       "      <td>2007</td>\n",
       "      <td>...</td>\n",
       "      <td>625</td>\n",
       "      <td>0.974396</td>\n",
       "      <td>615.0</td>\n",
       "      <td>NaN</td>\n",
       "      <td>NaN</td>\n",
       "      <td>0.0464</td>\n",
       "      <td>0.3448</td>\n",
       "      <td>-0.3440</td>\n",
       "      <td>-0.40780</td>\n",
       "      <td>-0.9194</td>\n",
       "    </tr>\n",
       "    <tr>\n",
       "      <th>6</th>\n",
       "      <td>300000</td>\n",
       "      <td>2014-08-01</td>\n",
       "      <td>2015-05-01</td>\n",
       "      <td>Java software engineer</td>\n",
       "      <td>Banglore</td>\n",
       "      <td>m</td>\n",
       "      <td>1993-02-01</td>\n",
       "      <td>86.08</td>\n",
       "      <td>state board</td>\n",
       "      <td>2010</td>\n",
       "      <td>...</td>\n",
       "      <td>380</td>\n",
       "      <td>0.356536</td>\n",
       "      <td>405.0</td>\n",
       "      <td>NaN</td>\n",
       "      <td>346.0</td>\n",
       "      <td>1.7081</td>\n",
       "      <td>-0.1054</td>\n",
       "      <td>-1.0379</td>\n",
       "      <td>-2.00920</td>\n",
       "      <td>-1.0872</td>\n",
       "    </tr>\n",
       "    <tr>\n",
       "      <th>10</th>\n",
       "      <td>600000</td>\n",
       "      <td>2011-04-01</td>\n",
       "      <td>2015-04-01</td>\n",
       "      <td>Senior php developer</td>\n",
       "      <td>Bangalore</td>\n",
       "      <td>m</td>\n",
       "      <td>1989-06-24</td>\n",
       "      <td>88.60</td>\n",
       "      <td>mp board bhopal</td>\n",
       "      <td>2006</td>\n",
       "      <td>...</td>\n",
       "      <td>565</td>\n",
       "      <td>0.765674</td>\n",
       "      <td>485.0</td>\n",
       "      <td>NaN</td>\n",
       "      <td>NaN</td>\n",
       "      <td>0.0464</td>\n",
       "      <td>0.8128</td>\n",
       "      <td>0.0914</td>\n",
       "      <td>0.17980</td>\n",
       "      <td>0.0284</td>\n",
       "    </tr>\n",
       "    <tr>\n",
       "      <th>...</th>\n",
       "      <td>...</td>\n",
       "      <td>...</td>\n",
       "      <td>...</td>\n",
       "      <td>...</td>\n",
       "      <td>...</td>\n",
       "      <td>...</td>\n",
       "      <td>...</td>\n",
       "      <td>...</td>\n",
       "      <td>...</td>\n",
       "      <td>...</td>\n",
       "      <td>...</td>\n",
       "      <td>...</td>\n",
       "      <td>...</td>\n",
       "      <td>...</td>\n",
       "      <td>...</td>\n",
       "      <td>...</td>\n",
       "      <td>...</td>\n",
       "      <td>...</td>\n",
       "      <td>...</td>\n",
       "      <td>...</td>\n",
       "      <td>...</td>\n",
       "    </tr>\n",
       "    <tr>\n",
       "      <th>3989</th>\n",
       "      <td>300000</td>\n",
       "      <td>2014-09-01</td>\n",
       "      <td>2025-03-06</td>\n",
       "      <td>Software engineer</td>\n",
       "      <td>Bangalore</td>\n",
       "      <td>m</td>\n",
       "      <td>1991-11-23</td>\n",
       "      <td>74.88</td>\n",
       "      <td>state board</td>\n",
       "      <td>2010</td>\n",
       "      <td>...</td>\n",
       "      <td>500</td>\n",
       "      <td>0.356536</td>\n",
       "      <td>465.0</td>\n",
       "      <td>NaN</td>\n",
       "      <td>346.0</td>\n",
       "      <td>0.1282</td>\n",
       "      <td>0.0459</td>\n",
       "      <td>1.2396</td>\n",
       "      <td>1.03330</td>\n",
       "      <td>0.6721</td>\n",
       "    </tr>\n",
       "    <tr>\n",
       "      <th>3993</th>\n",
       "      <td>280000</td>\n",
       "      <td>2011-10-01</td>\n",
       "      <td>2012-10-01</td>\n",
       "      <td>Software engineer</td>\n",
       "      <td>New delhi</td>\n",
       "      <td>m</td>\n",
       "      <td>1987-04-15</td>\n",
       "      <td>52.09</td>\n",
       "      <td>cbse</td>\n",
       "      <td>2006</td>\n",
       "      <td>...</td>\n",
       "      <td>475</td>\n",
       "      <td>0.276047</td>\n",
       "      <td>345.0</td>\n",
       "      <td>NaN</td>\n",
       "      <td>NaN</td>\n",
       "      <td>-0.1082</td>\n",
       "      <td>0.3448</td>\n",
       "      <td>0.2366</td>\n",
       "      <td>0.64980</td>\n",
       "      <td>-0.9194</td>\n",
       "    </tr>\n",
       "    <tr>\n",
       "      <th>3995</th>\n",
       "      <td>320000</td>\n",
       "      <td>2013-07-01</td>\n",
       "      <td>2025-03-06</td>\n",
       "      <td>Associate software engineer</td>\n",
       "      <td>Bangalore</td>\n",
       "      <td>m</td>\n",
       "      <td>1991-07-03</td>\n",
       "      <td>81.86</td>\n",
       "      <td>bse,odisha</td>\n",
       "      <td>2008</td>\n",
       "      <td>...</td>\n",
       "      <td>465</td>\n",
       "      <td>0.488348</td>\n",
       "      <td>405.0</td>\n",
       "      <td>NaN</td>\n",
       "      <td>NaN</td>\n",
       "      <td>-1.5765</td>\n",
       "      <td>-1.5273</td>\n",
       "      <td>-1.5051</td>\n",
       "      <td>-1.31840</td>\n",
       "      <td>-0.7615</td>\n",
       "    </tr>\n",
       "    <tr>\n",
       "      <th>3996</th>\n",
       "      <td>200000</td>\n",
       "      <td>2014-07-01</td>\n",
       "      <td>2015-01-01</td>\n",
       "      <td>Software developer</td>\n",
       "      <td>Asifabadbanglore</td>\n",
       "      <td>f</td>\n",
       "      <td>1992-03-20</td>\n",
       "      <td>78.72</td>\n",
       "      <td>state board</td>\n",
       "      <td>2010</td>\n",
       "      <td>...</td>\n",
       "      <td>320</td>\n",
       "      <td>0.744758</td>\n",
       "      <td>445.0</td>\n",
       "      <td>NaN</td>\n",
       "      <td>438.0</td>\n",
       "      <td>-0.1590</td>\n",
       "      <td>0.0459</td>\n",
       "      <td>-0.4511</td>\n",
       "      <td>-0.36120</td>\n",
       "      <td>-0.0943</td>\n",
       "    </tr>\n",
       "    <tr>\n",
       "      <th>3997</th>\n",
       "      <td>400000</td>\n",
       "      <td>2013-02-01</td>\n",
       "      <td>2025-03-06</td>\n",
       "      <td>Senior systems engineer</td>\n",
       "      <td>Chennai</td>\n",
       "      <td>f</td>\n",
       "      <td>1991-02-26</td>\n",
       "      <td>70.60</td>\n",
       "      <td>cbse</td>\n",
       "      <td>2008</td>\n",
       "      <td>...</td>\n",
       "      <td>464</td>\n",
       "      <td>0.600057</td>\n",
       "      <td>435.0</td>\n",
       "      <td>NaN</td>\n",
       "      <td>NaN</td>\n",
       "      <td>-1.1128</td>\n",
       "      <td>-0.2793</td>\n",
       "      <td>-0.6343</td>\n",
       "      <td>1.32553</td>\n",
       "      <td>-0.6035</td>\n",
       "    </tr>\n",
       "  </tbody>\n",
       "</table>\n",
       "<p>2288 rows × 31 columns</p>\n",
       "</div>"
      ],
      "text/plain": [
       "       Salary        DOJ        DOL                  Designation  \\\n",
       "0      420000 2012-06-01 2025-03-06      Senior quality engineer   \n",
       "2      325000 2014-06-01 2025-03-06             Systems engineer   \n",
       "3     1100000 2011-07-01 2025-03-06     Senior software engineer   \n",
       "6      300000 2014-08-01 2015-05-01       Java software engineer   \n",
       "10     600000 2011-04-01 2015-04-01         Senior php developer   \n",
       "...       ...        ...        ...                          ...   \n",
       "3989   300000 2014-09-01 2025-03-06            Software engineer   \n",
       "3993   280000 2011-10-01 2012-10-01            Software engineer   \n",
       "3995   320000 2013-07-01 2025-03-06  Associate software engineer   \n",
       "3996   200000 2014-07-01 2015-01-01           Software developer   \n",
       "3997   400000 2013-02-01 2025-03-06      Senior systems engineer   \n",
       "\n",
       "               JobCity Gender        DOB  10percentage  \\\n",
       "0            Bangalore      f 1990-02-19         84.30   \n",
       "2              Chennai      f 1992-08-03         85.00   \n",
       "3              Gurgaon      m 1989-12-05         85.60   \n",
       "6             Banglore      m 1993-02-01         86.08   \n",
       "10           Bangalore      m 1989-06-24         88.60   \n",
       "...                ...    ...        ...           ...   \n",
       "3989         Bangalore      m 1991-11-23         74.88   \n",
       "3993         New delhi      m 1987-04-15         52.09   \n",
       "3995         Bangalore      m 1991-07-03         81.86   \n",
       "3996  Asifabadbanglore      f 1992-03-20         78.72   \n",
       "3997           Chennai      f 1991-02-26         70.60   \n",
       "\n",
       "                             10board  12graduation  ...  Quant    Domain  \\\n",
       "0     board ofsecondary education,ap          2007  ...    525  0.635979   \n",
       "2                               cbse          2010  ...    370  0.450877   \n",
       "3                               cbse          2007  ...    625  0.974396   \n",
       "6                        state board          2010  ...    380  0.356536   \n",
       "10                   mp board bhopal          2006  ...    565  0.765674   \n",
       "...                              ...           ...  ...    ...       ...   \n",
       "3989                     state board          2010  ...    500  0.356536   \n",
       "3993                            cbse          2006  ...    475  0.276047   \n",
       "3995                      bse,odisha          2008  ...    465  0.488348   \n",
       "3996                     state board          2010  ...    320  0.744758   \n",
       "3997                            cbse          2008  ...    464  0.600057   \n",
       "\n",
       "      ComputerProgramming ElectronicsAndSemicon ComputerScience  \\\n",
       "0                   445.0                   NaN             NaN   \n",
       "2                   395.0                   NaN             NaN   \n",
       "3                   615.0                   NaN             NaN   \n",
       "6                   405.0                   NaN           346.0   \n",
       "10                  485.0                   NaN             NaN   \n",
       "...                   ...                   ...             ...   \n",
       "3989                465.0                   NaN           346.0   \n",
       "3993                345.0                   NaN             NaN   \n",
       "3995                405.0                   NaN             NaN   \n",
       "3996                445.0                   NaN           438.0   \n",
       "3997                435.0                   NaN             NaN   \n",
       "\n",
       "      conscientiousness  agreeableness extraversion  nueroticism  \\\n",
       "0                0.9737         0.8128       0.5269      1.35490   \n",
       "2                0.2718         1.7109       0.1637     -0.86820   \n",
       "3                0.0464         0.3448      -0.3440     -0.40780   \n",
       "6                1.7081        -0.1054      -1.0379     -2.00920   \n",
       "10               0.0464         0.8128       0.0914      0.17980   \n",
       "...                 ...            ...          ...          ...   \n",
       "3989             0.1282         0.0459       1.2396      1.03330   \n",
       "3993            -0.1082         0.3448       0.2366      0.64980   \n",
       "3995            -1.5765        -1.5273      -1.5051     -1.31840   \n",
       "3996            -0.1590         0.0459      -0.4511     -0.36120   \n",
       "3997            -1.1128        -0.2793      -0.6343      1.32553   \n",
       "\n",
       "      openess_to_experience  \n",
       "0                   -0.4455  \n",
       "2                    0.6721  \n",
       "3                   -0.9194  \n",
       "6                   -1.0872  \n",
       "10                   0.0284  \n",
       "...                     ...  \n",
       "3989                 0.6721  \n",
       "3993                -0.9194  \n",
       "3995                -0.7615  \n",
       "3996                -0.0943  \n",
       "3997                -0.6035  \n",
       "\n",
       "[2288 rows x 31 columns]"
      ]
     },
     "execution_count": 109,
     "metadata": {},
     "output_type": "execute_result"
    }
   ],
   "source": [
    "df_copy[df_copy['Specialization'].str.contains('Computer|Information')]"
   ]
  },
  {
   "cell_type": "code",
   "execution_count": 110,
   "id": "42ad166a-ccdd-4fdc-beb2-d9cc40bb82f0",
   "metadata": {},
   "outputs": [
    {
     "data": {
      "text/plain": [
       "array(['Computer engineering', 'Information technology',\n",
       "       'Computer science & engineering', 'Computer application',\n",
       "       'Information science engineering',\n",
       "       'Computer science and technology',\n",
       "       'Computer and communication engineering',\n",
       "       'Information & communication technology', 'Information science',\n",
       "       'Computer networking', 'Computer science'], dtype=object)"
      ]
     },
     "execution_count": 110,
     "metadata": {},
     "output_type": "execute_result"
    }
   ],
   "source": [
    "df_copy[df_copy['Specialization'].str.contains('Computer|Information')]['Specialization'].unique()"
   ]
  },
  {
   "cell_type": "code",
   "execution_count": 111,
   "id": "324cbef0-afb9-44ed-9193-5fa932bf20b5",
   "metadata": {},
   "outputs": [],
   "source": [
    "df_copy['Specialization'].replace('Information science','Information science engineering', inplace = True)"
   ]
  },
  {
   "cell_type": "code",
   "execution_count": 112,
   "id": "fb7c6651-e67f-415d-83a3-d1fa2d162452",
   "metadata": {},
   "outputs": [
    {
     "data": {
      "text/plain": [
       "array(['Computer engineering', 'Information technology',\n",
       "       'Computer science & engineering', 'Computer application',\n",
       "       'Information science engineering',\n",
       "       'Computer science and technology',\n",
       "       'Computer and communication engineering',\n",
       "       'Information & communication technology', 'Computer networking',\n",
       "       'Computer science'], dtype=object)"
      ]
     },
     "execution_count": 112,
     "metadata": {},
     "output_type": "execute_result"
    }
   ],
   "source": [
    "df_copy[df_copy['Specialization'].str.contains('Computer|Information')]['Specialization'].unique()"
   ]
  },
  {
   "cell_type": "code",
   "execution_count": 113,
   "id": "cb26cad8-95b4-4f00-a188-1ff0aaffd92d",
   "metadata": {},
   "outputs": [],
   "source": [
    "cs_index = df_copy[df_copy['Specialization'].str.contains('Computer|Information')].index"
   ]
  },
  {
   "cell_type": "code",
   "execution_count": 114,
   "id": "0a7b4bb9-3db7-4d23-ae43-449c5ec30e47",
   "metadata": {},
   "outputs": [
    {
     "data": {
      "text/plain": [
       "Index([   0,    2,    3,    6,   10,   11,   15,   17,   18,   19,\n",
       "       ...\n",
       "       3982, 3984, 3985, 3986, 3988, 3989, 3993, 3995, 3996, 3997],\n",
       "      dtype='int64', length=2288)"
      ]
     },
     "execution_count": 114,
     "metadata": {},
     "output_type": "execute_result"
    }
   ],
   "source": [
    "cs_index"
   ]
  },
  {
   "cell_type": "code",
   "execution_count": 115,
   "id": "261f6928-d481-4c41-89cd-125041438884",
   "metadata": {},
   "outputs": [
    {
     "data": {
      "text/plain": [
       "array(['Electronics and communication engineering',\n",
       "       'Electronics and electrical engineering',\n",
       "       'Electronics & telecommunications',\n",
       "       'Electronics and computer engineering',\n",
       "       'Applied electronics and instrumentation',\n",
       "       'Electronics & instrumentation eng',\n",
       "       'Electronics and instrumentation engineering',\n",
       "       'Electronics engineering', 'Telecommunication engineering',\n",
       "       'Electronics'], dtype=object)"
      ]
     },
     "execution_count": 115,
     "metadata": {},
     "output_type": "execute_result"
    }
   ],
   "source": [
    "df_copy[ df_copy['Specialization'].str.contains('Electronics|Telecommunication', case = False) ]['Specialization'].unique()"
   ]
  },
  {
   "cell_type": "code",
   "execution_count": 116,
   "id": "8cb1dd67-0f40-4550-8a3f-1f5300a55aec",
   "metadata": {},
   "outputs": [],
   "source": [
    "df_copy['Specialization'].replace('Electronics & instrumentation eng','Electronics and instrumentation engineering', inplace = True)"
   ]
  },
  {
   "cell_type": "code",
   "execution_count": 117,
   "id": "ac508e13-3b50-412e-b43f-8ccddf3c6630",
   "metadata": {},
   "outputs": [],
   "source": [
    "df_copy['Specialization'].replace('Electronics','Electronics engineering', inplace = True)"
   ]
  },
  {
   "cell_type": "code",
   "execution_count": 118,
   "id": "f98e47a5-d2f6-4ace-b0ef-a321a1e83257",
   "metadata": {},
   "outputs": [
    {
     "data": {
      "text/plain": [
       "array(['Electronics and communication engineering',\n",
       "       'Electronics & telecommunications',\n",
       "       'Instrumentation and control engineering',\n",
       "       'Electronics and computer engineering',\n",
       "       'Applied electronics and instrumentation',\n",
       "       'Electronics and instrumentation engineering',\n",
       "       'Control and instrumentation engineering',\n",
       "       'Electronics engineering', 'Instrumentation engineering',\n",
       "       'Telecommunication engineering'], dtype=object)"
      ]
     },
     "execution_count": 118,
     "metadata": {},
     "output_type": "execute_result"
    }
   ],
   "source": [
    "df_copy[ (df_copy['Specialization'].str.contains('Electronics|Telecommunication|instrumentation', case = False)) & \n",
    "(~ df_copy['Specialization'].str.contains('electrical', case = False))]['Specialization'].unique()"
   ]
  },
  {
   "cell_type": "code",
   "execution_count": 119,
   "id": "d7b96a9b-1e80-45fa-bffd-f0bac8bab47d",
   "metadata": {},
   "outputs": [],
   "source": [
    "electronics_index = df_copy[ (df_copy['Specialization'].str.contains('Electronics|Telecommunication|instrumentation', case = False)) & \n",
    "(~ df_copy['Specialization'].str.contains('electrical', case = False))].index"
   ]
  },
  {
   "cell_type": "code",
   "execution_count": 120,
   "id": "714cc6b5-c6e5-4771-83d5-2b8d89e9258f",
   "metadata": {},
   "outputs": [
    {
     "data": {
      "text/plain": [
       "Index([   1,    4,    5,    9,   12,   13,   14,   16,   22,   23,\n",
       "       ...\n",
       "       3967, 3970, 3971, 3972, 3974, 3983, 3987, 3990, 3991, 3994],\n",
       "      dtype='int64', length=1123)"
      ]
     },
     "execution_count": 120,
     "metadata": {},
     "output_type": "execute_result"
    }
   ],
   "source": [
    "electronics_index"
   ]
  },
  {
   "cell_type": "code",
   "execution_count": 121,
   "id": "138beac3-09b8-4aba-99cd-509a1cf0a48a",
   "metadata": {},
   "outputs": [],
   "source": [
    "#replacing all the specializations that have computers under computer science, and those that have electronics as electronics\n",
    "\n",
    "df_copy.loc[cs_index,'Specialization'] = 'CS'"
   ]
  },
  {
   "cell_type": "code",
   "execution_count": 122,
   "id": "af8befee-0cd0-4d0a-b8fa-976f3a8884f7",
   "metadata": {},
   "outputs": [
    {
     "data": {
      "text/plain": [
       "0       CS\n",
       "2       CS\n",
       "3       CS\n",
       "6       CS\n",
       "10      CS\n",
       "        ..\n",
       "3989    CS\n",
       "3993    CS\n",
       "3995    CS\n",
       "3996    CS\n",
       "3997    CS\n",
       "Name: Specialization, Length: 2288, dtype: object"
      ]
     },
     "execution_count": 122,
     "metadata": {},
     "output_type": "execute_result"
    }
   ],
   "source": [
    "df_copy.loc[cs_index,'Specialization']"
   ]
  },
  {
   "cell_type": "code",
   "execution_count": 123,
   "id": "081bbc1c-16f4-4e61-be30-8df44001e486",
   "metadata": {},
   "outputs": [],
   "source": [
    "df_copy.loc[electronics_index,'Specialization'] = 'ECE_instrumentation'"
   ]
  },
  {
   "cell_type": "code",
   "execution_count": 124,
   "id": "90b19d97-9145-48d6-b6a6-977d30238fae",
   "metadata": {},
   "outputs": [
    {
     "data": {
      "text/plain": [
       "1       ECE_instrumentation\n",
       "4       ECE_instrumentation\n",
       "5       ECE_instrumentation\n",
       "9       ECE_instrumentation\n",
       "12      ECE_instrumentation\n",
       "               ...         \n",
       "3983    ECE_instrumentation\n",
       "3987    ECE_instrumentation\n",
       "3990    ECE_instrumentation\n",
       "3991    ECE_instrumentation\n",
       "3994    ECE_instrumentation\n",
       "Name: Specialization, Length: 1123, dtype: object"
      ]
     },
     "execution_count": 124,
     "metadata": {},
     "output_type": "execute_result"
    }
   ],
   "source": [
    "df_copy.loc[electronics_index,'Specialization'] "
   ]
  },
  {
   "cell_type": "code",
   "execution_count": null,
   "id": "b1c40d75-01a1-4036-b481-9bca5788fadc",
   "metadata": {},
   "outputs": [],
   "source": []
  },
  {
   "cell_type": "code",
   "execution_count": 125,
   "id": "ff5fe968-f808-4622-a104-719fad760566",
   "metadata": {},
   "outputs": [
    {
     "data": {
      "text/plain": [
       "array(['Electronics and electrical engineering', 'Electrical engineering',\n",
       "       'Electrical and power engineering', 'Power systems and automation'],\n",
       "      dtype=object)"
      ]
     },
     "execution_count": 125,
     "metadata": {},
     "output_type": "execute_result"
    }
   ],
   "source": [
    "df_copy [ df_copy['Specialization'].str.contains('electrical|power', case = False)]['Specialization'].unique()"
   ]
  },
  {
   "cell_type": "code",
   "execution_count": null,
   "id": "9a75f88c-70fe-4b55-ba77-b2bf806358b6",
   "metadata": {},
   "outputs": [],
   "source": []
  },
  {
   "cell_type": "code",
   "execution_count": 126,
   "id": "299bf65e-64d0-418d-8e56-63207c614e6b",
   "metadata": {},
   "outputs": [],
   "source": [
    "electrical_index = df_copy [ df_copy['Specialization'].str.contains('electrical|power', case = False)].index"
   ]
  },
  {
   "cell_type": "code",
   "execution_count": 127,
   "id": "3fd1b954-23c3-47d4-a74d-d5140685eead",
   "metadata": {},
   "outputs": [
    {
     "data": {
      "text/plain": [
       "Index([   8,   53,   70,   82,  101,  124,  125,  143,  144,  156,\n",
       "       ...\n",
       "       3772, 3784, 3800, 3832, 3835, 3837, 3839, 3844, 3897, 3932],\n",
       "      dtype='int64', length=281)"
      ]
     },
     "execution_count": 127,
     "metadata": {},
     "output_type": "execute_result"
    }
   ],
   "source": [
    "electrical_index"
   ]
  },
  {
   "cell_type": "code",
   "execution_count": 128,
   "id": "ad977f05-3477-4e5c-ab0e-787b96e36d9a",
   "metadata": {},
   "outputs": [],
   "source": [
    "df_copy.loc[electrical_index, 'Specialization'] = 'EEE'"
   ]
  },
  {
   "cell_type": "code",
   "execution_count": 129,
   "id": "af916bc4-59e7-49e7-b309-aadd22d42a26",
   "metadata": {},
   "outputs": [
    {
     "data": {
      "text/plain": [
       "8       EEE\n",
       "53      EEE\n",
       "70      EEE\n",
       "82      EEE\n",
       "101     EEE\n",
       "       ... \n",
       "3837    EEE\n",
       "3839    EEE\n",
       "3844    EEE\n",
       "3897    EEE\n",
       "3932    EEE\n",
       "Name: Specialization, Length: 281, dtype: object"
      ]
     },
     "execution_count": 129,
     "metadata": {},
     "output_type": "execute_result"
    }
   ],
   "source": [
    "df_copy.loc[electrical_index, 'Specialization']"
   ]
  },
  {
   "cell_type": "code",
   "execution_count": null,
   "id": "3814c7e4-1e94-4a98-bf0d-390d59fccc09",
   "metadata": {},
   "outputs": [],
   "source": []
  },
  {
   "cell_type": "code",
   "execution_count": 130,
   "id": "d76ade72-dc4b-499f-903e-974bf2982c37",
   "metadata": {},
   "outputs": [
    {
     "data": {
      "text/plain": [
       "array(['Mechanical engineering', 'Mechanical and automation',\n",
       "       'Mechatronics', 'Mechanical & production engineering'],\n",
       "      dtype=object)"
      ]
     },
     "execution_count": 130,
     "metadata": {},
     "output_type": "execute_result"
    }
   ],
   "source": [
    "df_copy[ df_copy['Specialization'].str.contains('mech', case = False)]['Specialization'].unique()"
   ]
  },
  {
   "cell_type": "code",
   "execution_count": 131,
   "id": "3f68bc4d-a14e-45c7-b296-8066a34b794c",
   "metadata": {},
   "outputs": [],
   "source": [
    "mech_index = df_copy[ df_copy['Specialization'].str.contains('mech', case = False)].index"
   ]
  },
  {
   "cell_type": "code",
   "execution_count": 132,
   "id": "fa6c0649-55c4-4918-89e1-abf34c3ea6b4",
   "metadata": {},
   "outputs": [
    {
     "data": {
      "text/plain": [
       "Index([   7,   40,   45,   63,  123,  139,  140,  167,  191,  192,\n",
       "       ...\n",
       "       3793, 3823, 3836, 3845, 3849, 3909, 3916, 3929, 3951, 3980],\n",
       "      dtype='int64', length=211)"
      ]
     },
     "execution_count": 132,
     "metadata": {},
     "output_type": "execute_result"
    }
   ],
   "source": [
    "mech_index"
   ]
  },
  {
   "cell_type": "code",
   "execution_count": 133,
   "id": "263cb574-1264-4c44-9478-dc5e2127b4c1",
   "metadata": {},
   "outputs": [],
   "source": [
    "df_copy.loc[mech_index, 'Specialization'] = 'Mechanical'"
   ]
  },
  {
   "cell_type": "code",
   "execution_count": 134,
   "id": "1bada637-987c-4d19-85bd-ba48c059c9d8",
   "metadata": {},
   "outputs": [
    {
     "data": {
      "text/plain": [
       "7       Mechanical\n",
       "40      Mechanical\n",
       "45      Mechanical\n",
       "63      Mechanical\n",
       "123     Mechanical\n",
       "           ...    \n",
       "3909    Mechanical\n",
       "3916    Mechanical\n",
       "3929    Mechanical\n",
       "3951    Mechanical\n",
       "3980    Mechanical\n",
       "Name: Specialization, Length: 211, dtype: object"
      ]
     },
     "execution_count": 134,
     "metadata": {},
     "output_type": "execute_result"
    }
   ],
   "source": [
    "df_copy.loc[mech_index, 'Specialization']"
   ]
  },
  {
   "cell_type": "code",
   "execution_count": null,
   "id": "411ce949-c9b3-49d2-bde4-1fc7b0d44a40",
   "metadata": {},
   "outputs": [],
   "source": []
  },
  {
   "cell_type": "code",
   "execution_count": 135,
   "id": "745a1bed-be8f-4905-b076-5ad1b7395f06",
   "metadata": {},
   "outputs": [
    {
     "data": {
      "text/plain": [
       "array(['Automobile/automotive engineering'], dtype=object)"
      ]
     },
     "execution_count": 135,
     "metadata": {},
     "output_type": "execute_result"
    }
   ],
   "source": [
    "df_copy [ df_copy['Specialization'].str.contains('automobile', case = False)]['Specialization'].unique()"
   ]
  },
  {
   "cell_type": "code",
   "execution_count": 136,
   "id": "891677ba-8f35-40c6-9301-73adb117d80d",
   "metadata": {},
   "outputs": [
    {
     "data": {
      "text/plain": [
       "Index([947, 1285, 1407, 2247, 3873], dtype='int64')"
      ]
     },
     "execution_count": 136,
     "metadata": {},
     "output_type": "execute_result"
    }
   ],
   "source": [
    "df_copy [ df_copy['Specialization'].str.contains('automobile', case = False)].index"
   ]
  },
  {
   "cell_type": "code",
   "execution_count": 137,
   "id": "98aac447-6fd6-4279-94b8-543080b870e6",
   "metadata": {},
   "outputs": [],
   "source": [
    "df_copy.loc[[947, 1285, 1407, 2247, 3873],'Specialization'] = 'Mechanical'"
   ]
  },
  {
   "cell_type": "code",
   "execution_count": null,
   "id": "1c335b32-77d9-4425-ac2d-9fdff7e93f86",
   "metadata": {},
   "outputs": [],
   "source": []
  },
  {
   "cell_type": "code",
   "execution_count": 138,
   "id": "744d7049-0e3d-46b9-8b24-64d457ba768f",
   "metadata": {},
   "outputs": [
    {
     "data": {
      "text/html": [
       "<div>\n",
       "<style scoped>\n",
       "    .dataframe tbody tr th:only-of-type {\n",
       "        vertical-align: middle;\n",
       "    }\n",
       "\n",
       "    .dataframe tbody tr th {\n",
       "        vertical-align: top;\n",
       "    }\n",
       "\n",
       "    .dataframe thead th {\n",
       "        text-align: right;\n",
       "    }\n",
       "</style>\n",
       "<table border=\"1\" class=\"dataframe\">\n",
       "  <thead>\n",
       "    <tr style=\"text-align: right;\">\n",
       "      <th></th>\n",
       "      <th>Salary</th>\n",
       "      <th>DOJ</th>\n",
       "      <th>DOL</th>\n",
       "      <th>Designation</th>\n",
       "      <th>JobCity</th>\n",
       "      <th>Gender</th>\n",
       "      <th>DOB</th>\n",
       "      <th>10percentage</th>\n",
       "      <th>10board</th>\n",
       "      <th>12graduation</th>\n",
       "      <th>...</th>\n",
       "      <th>Quant</th>\n",
       "      <th>Domain</th>\n",
       "      <th>ComputerProgramming</th>\n",
       "      <th>ElectronicsAndSemicon</th>\n",
       "      <th>ComputerScience</th>\n",
       "      <th>conscientiousness</th>\n",
       "      <th>agreeableness</th>\n",
       "      <th>extraversion</th>\n",
       "      <th>nueroticism</th>\n",
       "      <th>openess_to_experience</th>\n",
       "    </tr>\n",
       "  </thead>\n",
       "  <tbody>\n",
       "    <tr>\n",
       "      <th>600</th>\n",
       "      <td>200000</td>\n",
       "      <td>2008-11-01</td>\n",
       "      <td>2012-11-01</td>\n",
       "      <td>Project engineer</td>\n",
       "      <td>Thiruvananthapuram</td>\n",
       "      <td>m</td>\n",
       "      <td>1986-05-27</td>\n",
       "      <td>49.0</td>\n",
       "      <td>state board</td>\n",
       "      <td>2003</td>\n",
       "      <td>...</td>\n",
       "      <td>500</td>\n",
       "      <td>NaN</td>\n",
       "      <td>495.0</td>\n",
       "      <td>292.0</td>\n",
       "      <td>NaN</td>\n",
       "      <td>-1.1644</td>\n",
       "      <td>-1.9521</td>\n",
       "      <td>-1.0659</td>\n",
       "      <td>0.5262</td>\n",
       "      <td>-1.4356</td>\n",
       "    </tr>\n",
       "  </tbody>\n",
       "</table>\n",
       "<p>1 rows × 31 columns</p>\n",
       "</div>"
      ],
      "text/plain": [
       "     Salary        DOJ        DOL       Designation             JobCity  \\\n",
       "600  200000 2008-11-01 2012-11-01  Project engineer  Thiruvananthapuram   \n",
       "\n",
       "    Gender        DOB  10percentage      10board  12graduation  ...  Quant  \\\n",
       "600      m 1986-05-27          49.0  state board          2003  ...    500   \n",
       "\n",
       "    Domain  ComputerProgramming ElectronicsAndSemicon ComputerScience  \\\n",
       "600    NaN                495.0                 292.0             NaN   \n",
       "\n",
       "     conscientiousness  agreeableness extraversion  nueroticism  \\\n",
       "600            -1.1644        -1.9521      -1.0659       0.5262   \n",
       "\n",
       "     openess_to_experience  \n",
       "600                -1.4356  \n",
       "\n",
       "[1 rows x 31 columns]"
      ]
     },
     "execution_count": 138,
     "metadata": {},
     "output_type": "execute_result"
    }
   ],
   "source": [
    "df_copy[ df_copy['Specialization'].str.contains('embedded', case = False)]"
   ]
  },
  {
   "cell_type": "code",
   "execution_count": 139,
   "id": "c94964a4-a744-4ef3-bac7-69a01c0a40a1",
   "metadata": {},
   "outputs": [],
   "source": [
    "df_copy.loc[600, 'Specialization'] = 'ECE_instrumentation'"
   ]
  },
  {
   "cell_type": "code",
   "execution_count": null,
   "id": "4137ed11-227f-430c-8af6-35958f49ae73",
   "metadata": {},
   "outputs": [],
   "source": []
  },
  {
   "cell_type": "code",
   "execution_count": 140,
   "id": "f6457d96-4322-4556-abcc-6d5fe590884f",
   "metadata": {},
   "outputs": [
    {
     "data": {
      "text/plain": [
       "array(['CS', 'ECE_instrumentation', 'Mechanical', 'EEE',\n",
       "       'Civil engineering', 'Industrial & production engineering',\n",
       "       'Metallurgical engineering', 'Ceramic engineering',\n",
       "       'Chemical engineering', 'Aeronautical engineering', 'Other',\n",
       "       'Biotechnology', 'Polymer technology',\n",
       "       'Industrial & management engineering', 'Industrial engineering',\n",
       "       'Internal combustion engine', 'Biomedical engineering'],\n",
       "      dtype=object)"
      ]
     },
     "execution_count": 140,
     "metadata": {},
     "output_type": "execute_result"
    }
   ],
   "source": [
    "df_copy['Specialization'].unique()"
   ]
  },
  {
   "cell_type": "code",
   "execution_count": 141,
   "id": "6c27a032-eef2-448a-aa73-f6d3b311458d",
   "metadata": {},
   "outputs": [
    {
     "data": {
      "text/plain": [
       "17"
      ]
     },
     "execution_count": 141,
     "metadata": {},
     "output_type": "execute_result"
    }
   ],
   "source": [
    "df_copy['Specialization'].nunique()"
   ]
  },
  {
   "cell_type": "code",
   "execution_count": null,
   "id": "59fe9ab7-8954-4018-b690-176f5ff268b5",
   "metadata": {},
   "outputs": [],
   "source": []
  },
  {
   "cell_type": "code",
   "execution_count": 142,
   "id": "c0a045a8-67f5-4c2d-8d43-57268888ad04",
   "metadata": {},
   "outputs": [
    {
     "data": {
      "text/plain": [
       "Index(['Salary', 'DOJ', 'DOL', 'Designation', 'JobCity', 'Gender', 'DOB',\n",
       "       '10percentage', '10board', '12graduation', '12percentage', '12board',\n",
       "       'CollegeTier', 'Degree', 'Specialization', 'collegePercent',\n",
       "       'CollegeCityTier', 'CollegeState', 'GraduationYear', 'English',\n",
       "       'Logical', 'Quant', 'Domain', 'ComputerProgramming',\n",
       "       'ElectronicsAndSemicon', 'ComputerScience', 'conscientiousness',\n",
       "       'agreeableness', 'extraversion', 'nueroticism',\n",
       "       'openess_to_experience'],\n",
       "      dtype='object')"
      ]
     },
     "execution_count": 142,
     "metadata": {},
     "output_type": "execute_result"
    }
   ],
   "source": [
    "df_copy.columns"
   ]
  },
  {
   "cell_type": "code",
   "execution_count": null,
   "id": "a46285ba-a656-4b7c-8e48-b56f9cabbced",
   "metadata": {},
   "outputs": [],
   "source": []
  },
  {
   "cell_type": "code",
   "execution_count": 143,
   "id": "2d51dd91-e813-4b33-8029-cb1f0ad76d43",
   "metadata": {},
   "outputs": [
    {
     "data": {
      "text/plain": [
       "array(['Bangalore', 'Indore', 'Chennai', 'Gurgaon', 'Manesar',\n",
       "       'Hyderabad', 'Banglore', 'Noida', 'Kolkata', 'Pune', 'Mohali',\n",
       "       'Jhansi', 'Delhi', 'Bhubaneswar', 'Navi mumbai', 'Mumbai',\n",
       "       'New delhi', 'Mangalore', 'Rewari', 'Gaziabaad', 'Bhiwadi',\n",
       "       'Mysore', 'Rajkot', 'Greater noida', 'Jaipur', 'Thane',\n",
       "       'Maharajganj', 'Thiruvananthapuram', 'Punchkula', 'Bhubaneshwar',\n",
       "       'Coimbatore', 'Dhanbad', 'Lucknow', 'Trivandrum', 'Gandhi nagar',\n",
       "       'Una', 'Daman and diu', 'Gurgoan', 'Vsakhapttnam', 'Nagpur',\n",
       "       'Bhagalpur', 'New delhi - jaisalmer', 'Ahmedabad', 'Kochi/cochin',\n",
       "       'Bankura', 'Bengaluru', 'Kanpur', 'Vijayawada', 'Kochi', 'Beawar',\n",
       "       'Alwar', 'Siliguri', 'Raipur', 'Bhopal', 'Faridabad', 'Jodhpur',\n",
       "       'Udaipur', 'Muzaffarpur', 'Kolkata`', 'Bulandshahar', 'Haridwar',\n",
       "       'Raigarh', 'Visakhapatnam', 'Jabalpur', 'Unnao', 'Aurangabad',\n",
       "       'Belgaum', 'Dehradun', 'Rudrapur', 'Jamshedpur', 'Vizag', 'Nouda',\n",
       "       'Dharamshala', 'Banagalore', 'Hissar', 'Ranchi', 'Madurai',\n",
       "       'Gurga', 'Chandigarh', 'Australia', 'Cheyyar', 'Sonepat',\n",
       "       'Ghaziabad', 'Pantnagar', 'Jagdalpur', 'Angul', 'Baroda',\n",
       "       'Ariyalur', 'Jowai', 'Kochi/cochin, chennai and coimbatore',\n",
       "       'Neemrana', 'Tirupathi', 'Bhubneshwar', 'Calicut', 'Gandhinagar',\n",
       "       'Dubai', 'Ahmednagar', 'Nashik', 'Bellary', 'Ludhiana',\n",
       "       'Muzaffarnagar', 'Gagret', 'Indirapuram, ghaziabad', 'Gwalior',\n",
       "       'Chennai & mumbai', 'Rajasthan', 'Sonipat', 'Bareli', 'Hospete',\n",
       "       'Miryalaguda', 'Dharuhera', 'Meerut', 'Ganjam', 'Hubli', 'Ncr',\n",
       "       'Agra', 'Trichy', 'Kudankulam ,tarapur', 'Ongole', 'Sambalpur',\n",
       "       'Pondicherry', 'Bundi', 'Sadulpur,rajgarh,distt-churu,rajasthan',\n",
       "       'Am', 'Bikaner', 'Vadodara', 'India', 'Asansol', 'Tirunelvelli',\n",
       "       'Ernakulam', 'Bilaspur', 'Chandrapur', 'Nanded', 'Dharmapuri',\n",
       "       'Vandavasi', 'Rohtak', 'Patna', 'Salem', 'Nasikcity',\n",
       "       'Technopark, trivandrum', 'Bharuch', 'Tornagallu', 'Jaspur',\n",
       "       'Burdwan', 'Shimla', 'Gajiabaad', 'Jammu', 'Shahdol',\n",
       "       'Muvattupuzha', 'Al jubail,saudi arabia', 'Kalmar, sweden',\n",
       "       'Secunderabad', 'A-64,sec-64,noida', 'Ratnagiri', 'Jhajjar',\n",
       "       'Gulbarga', 'Hyderabad(bhadurpally)', 'Nalagarh',\n",
       "       'Jeddah saudi arabia', 'Chennai, bangalore', 'Jamnagar',\n",
       "       'Tirupati', 'Gonda', 'Orissa', 'Kharagpur',\n",
       "       'Navi mumbai , hyderabad', 'Joshimath', 'Bathinda', 'Johannesburg',\n",
       "       'Kala amb', 'Karnal', 'London', 'Kota', 'Panchkula', 'Baddi hp',\n",
       "       'Nagari', 'Mettur, tamil nadu', 'Durgapur', 'Pondi', 'Surat',\n",
       "       'Kurnool', 'Kolhapur', 'Bhilai', 'Hderabad', 'Bahadurgarh',\n",
       "       'Rayagada, odisha', 'Kakinada', 'Varanasi', 'Punr', 'Nellore',\n",
       "       'Sahibabad', 'Howrah', 'Trichur', 'Ambala', 'Khopoli', 'Keral',\n",
       "       'Roorkee', 'Allahabad', 'Delhi/ncr', 'Jalandhar', 'Vapi', 'Pilani',\n",
       "       'Muzzafarpur', 'Ras al khaimah', 'Bihar', 'Singaruli', 'Pondy',\n",
       "       'Phagwara', 'Guragaon', 'Baripada', 'Yamuna nagar', 'Shahibabad',\n",
       "       'Sampla', 'Guwahati', 'Rourkela', 'Banaglore', 'Vellore', 'Dausa',\n",
       "       'Latur (maharashtra )', 'Mainpuri', 'Dammam', 'Haldia',\n",
       "       'Rae bareli', 'Patiala', 'Gorakhpur', 'New dehli', 'Ambala city',\n",
       "       'Karad', 'Rajpura', 'Haryana', 'Asifabadbanglore'], dtype=object)"
      ]
     },
     "execution_count": 143,
     "metadata": {},
     "output_type": "execute_result"
    }
   ],
   "source": [
    "df_copy['JobCity'].unique()"
   ]
  },
  {
   "cell_type": "code",
   "execution_count": 144,
   "id": "fba47374-22ee-470d-a618-b0f5f350fb1b",
   "metadata": {},
   "outputs": [
    {
     "data": {
      "text/plain": [
       "231"
      ]
     },
     "execution_count": 144,
     "metadata": {},
     "output_type": "execute_result"
    }
   ],
   "source": [
    "df_copy['JobCity'].nunique()"
   ]
  },
  {
   "cell_type": "code",
   "execution_count": 145,
   "id": "be57d3b0-41a7-44a5-8479-36506c38e2e4",
   "metadata": {},
   "outputs": [],
   "source": [
    "from fuzzywuzzy import process"
   ]
  },
  {
   "cell_type": "code",
   "execution_count": 146,
   "id": "bba074a8-3618-4568-803a-1faf07976c57",
   "metadata": {},
   "outputs": [
    {
     "data": {
      "text/plain": [
       "JobCity\n",
       "Bangalore           1126\n",
       "Noida                389\n",
       "Hyderabad            368\n",
       "Pune                 327\n",
       "Chennai              313\n",
       "                    ... \n",
       "Vandavasi              1\n",
       "Rohtak                 1\n",
       "Una                    1\n",
       "Salem                  1\n",
       "Asifabadbanglore       1\n",
       "Name: count, Length: 231, dtype: int64"
      ]
     },
     "execution_count": 146,
     "metadata": {},
     "output_type": "execute_result"
    }
   ],
   "source": [
    "df_copy['JobCity'].value_counts() "
   ]
  },
  {
   "cell_type": "code",
   "execution_count": 147,
   "id": "ff67a49b-2a5d-427d-b22b-4acaba7b8873",
   "metadata": {},
   "outputs": [],
   "source": [
    "def correct_spelling_errors (target_word = '', choices = [], threshold = 75):\n",
    "\n",
    "    match, score = process.extractOne(target_word, choices)\n",
    "    \n",
    "    if score >= 75:\n",
    "\n",
    "        return match\n",
    "\n",
    "    else:\n",
    "        \n",
    "        return target_word"
   ]
  },
  {
   "cell_type": "code",
   "execution_count": 148,
   "id": "d040ee52-17bc-4cc7-837e-dbd7cb6fbab2",
   "metadata": {},
   "outputs": [],
   "source": [
    "choices = ['Bangalore', 'Indore', 'Chennai', 'Gurgaon', 'Hyderabad', 'Noida', 'Pune',  'New Delhi', 'Bhubaneswar', 'Mumbai', 'Gaziabad', 'Mysore',\n",
    "'Greater Noida', 'vishakapatnam']"
   ]
  },
  {
   "cell_type": "code",
   "execution_count": 149,
   "id": "8af0ca3f-5479-4324-993d-8ab048729a8c",
   "metadata": {},
   "outputs": [
    {
     "data": {
      "text/plain": [
       "0         Bangalore\n",
       "1            Indore\n",
       "2           Chennai\n",
       "3           Gurgaon\n",
       "4       Bhubaneswar\n",
       "           ...     \n",
       "3993      New Delhi\n",
       "3994      Hyderabad\n",
       "3995      Bangalore\n",
       "3996      Bangalore\n",
       "3997        Chennai\n",
       "Name: JobCity, Length: 3998, dtype: object"
      ]
     },
     "execution_count": 149,
     "metadata": {},
     "output_type": "execute_result"
    }
   ],
   "source": [
    "df_copy ['JobCity' ].apply(lambda x : correct_spelling_errors(str(x), choices))"
   ]
  },
  {
   "cell_type": "code",
   "execution_count": 150,
   "id": "173f3237-f405-4f23-9325-1acbc56eca91",
   "metadata": {},
   "outputs": [],
   "source": [
    "df_copy ['JobCity' ] = df_copy ['JobCity' ].apply(lambda x : correct_spelling_errors(str(x), choices))"
   ]
  },
  {
   "cell_type": "code",
   "execution_count": 151,
   "id": "200e3e52-a093-4c0e-9bb8-e07d7da8cee6",
   "metadata": {},
   "outputs": [
    {
     "data": {
      "text/plain": [
       "JobCity\n",
       "Bangalore    1155\n",
       "Noida         391\n",
       "Hyderabad     371\n",
       "Pune          328\n",
       "Chennai       315\n",
       "New Delhi     227\n",
       "Gurgaon       223\n",
       "Mumbai        153\n",
       "Kolkata       119\n",
       "Jaipur         53\n",
       "Name: count, dtype: int64"
      ]
     },
     "execution_count": 151,
     "metadata": {},
     "output_type": "execute_result"
    }
   ],
   "source": [
    "df_copy['JobCity'].value_counts().head(10)"
   ]
  },
  {
   "cell_type": "code",
   "execution_count": 152,
   "id": "9670fa88-3150-4bbb-9091-470efc4ca1d3",
   "metadata": {},
   "outputs": [
    {
     "data": {
      "text/plain": [
       "201"
      ]
     },
     "execution_count": 152,
     "metadata": {},
     "output_type": "execute_result"
    }
   ],
   "source": [
    "df_copy['JobCity'].nunique()"
   ]
  },
  {
   "cell_type": "markdown",
   "id": "0ce21067-b09b-4718-b469-552ee741602f",
   "metadata": {},
   "source": [
    "#### Comment\n",
    "* since I am only interested in top 10 cities, did the necessary cleaning for those values"
   ]
  },
  {
   "cell_type": "code",
   "execution_count": 154,
   "id": "2918fcc6-874e-4b58-8ba8-8ecb52313fa8",
   "metadata": {},
   "outputs": [
    {
     "data": {
      "text/plain": [
       "JobCity\n",
       "Tirunelvelli                              1\n",
       "Asansol                                   1\n",
       "India                                     1\n",
       "Bikaner                                   1\n",
       "Sadulpur,rajgarh,distt-churu,rajasthan    1\n",
       "Bundi                                     1\n",
       "Ncr                                       1\n",
       "Ganjam                                    1\n",
       "Dharuhera                                 1\n",
       "Haryana                                   1\n",
       "Name: count, dtype: int64"
      ]
     },
     "execution_count": 154,
     "metadata": {},
     "output_type": "execute_result"
    }
   ],
   "source": [
    "df_copy['JobCity'].value_counts().tail(10)"
   ]
  },
  {
   "cell_type": "code",
   "execution_count": null,
   "id": "071c7d42-94a9-49d2-b81b-18ef49c9dbee",
   "metadata": {},
   "outputs": [],
   "source": []
  },
  {
   "cell_type": "code",
   "execution_count": 155,
   "id": "9ab82bd9-32e1-43a3-b759-74a0970e89d0",
   "metadata": {},
   "outputs": [
    {
     "data": {
      "text/plain": [
       "array(['B.tech/b.e.', 'Mca', 'M.tech./m.e.', 'M.sc. (tech.)'],\n",
       "      dtype=object)"
      ]
     },
     "execution_count": 155,
     "metadata": {},
     "output_type": "execute_result"
    }
   ],
   "source": [
    "df_copy['Degree'].unique()"
   ]
  },
  {
   "cell_type": "code",
   "execution_count": null,
   "id": "2ad14229-2f9d-4e60-bf13-9baa10436418",
   "metadata": {},
   "outputs": [],
   "source": []
  },
  {
   "cell_type": "code",
   "execution_count": 156,
   "id": "376a9b3a-7d18-4a4c-9e24-32a8af190a92",
   "metadata": {},
   "outputs": [
    {
     "data": {
      "text/plain": [
       "Index(['Salary', 'DOJ', 'DOL', 'Designation', 'JobCity', 'Gender', 'DOB',\n",
       "       '10percentage', '10board', '12graduation', '12percentage', '12board',\n",
       "       'CollegeTier', 'Degree', 'Specialization', 'collegePercent',\n",
       "       'CollegeCityTier', 'CollegeState', 'GraduationYear', 'English',\n",
       "       'Logical', 'Quant', 'Domain', 'ComputerProgramming',\n",
       "       'ElectronicsAndSemicon', 'ComputerScience', 'conscientiousness',\n",
       "       'agreeableness', 'extraversion', 'nueroticism',\n",
       "       'openess_to_experience'],\n",
       "      dtype='object')"
      ]
     },
     "execution_count": 156,
     "metadata": {},
     "output_type": "execute_result"
    }
   ],
   "source": [
    "df_copy.columns"
   ]
  },
  {
   "cell_type": "code",
   "execution_count": 157,
   "id": "218dfd99-c98d-48aa-aaa9-7d228bd96cda",
   "metadata": {},
   "outputs": [
    {
     "data": {
      "text/plain": [
       "array(['Andhra pradesh', 'Madhya pradesh', 'Uttar pradesh', 'Delhi',\n",
       "       'Karnataka', 'Tamil nadu', 'West bengal', 'Maharashtra', 'Haryana',\n",
       "       'Telangana', 'Orissa', 'Punjab', 'Kerala', 'Gujarat', 'Rajasthan',\n",
       "       'Chhattisgarh', 'Uttarakhand', 'Jammu and kashmir', 'Jharkhand',\n",
       "       'Himachal pradesh', 'Bihar', 'Assam', 'Goa', 'Sikkim',\n",
       "       'Union territory', 'Meghalaya'], dtype=object)"
      ]
     },
     "execution_count": 157,
     "metadata": {},
     "output_type": "execute_result"
    }
   ],
   "source": [
    "df_copy['CollegeState'].unique()"
   ]
  },
  {
   "cell_type": "code",
   "execution_count": null,
   "id": "c30cfacc-76a7-48df-8ab8-952f5db10e2c",
   "metadata": {},
   "outputs": [],
   "source": []
  },
  {
   "cell_type": "code",
   "execution_count": 158,
   "id": "7d7fc916-a8a5-4c55-8e34-b4f1852de4a9",
   "metadata": {},
   "outputs": [
    {
     "data": {
      "text/plain": [
       "dtype('float64')"
      ]
     },
     "execution_count": 158,
     "metadata": {},
     "output_type": "execute_result"
    }
   ],
   "source": [
    "df_copy['GraduationYear'].dtype"
   ]
  },
  {
   "cell_type": "code",
   "execution_count": 159,
   "id": "56d883de-1e80-4ff6-b88e-421b38bba715",
   "metadata": {},
   "outputs": [],
   "source": [
    "df_copy['GraduationYear'] = df_copy['GraduationYear'].astype('int')"
   ]
  },
  {
   "cell_type": "code",
   "execution_count": 160,
   "id": "b3b2f6ab-eedc-4130-b8d9-4560e37d8006",
   "metadata": {},
   "outputs": [
    {
     "data": {
      "text/plain": [
       "dtype('int32')"
      ]
     },
     "execution_count": 160,
     "metadata": {},
     "output_type": "execute_result"
    }
   ],
   "source": [
    "df_copy['GraduationYear'].dtype"
   ]
  },
  {
   "cell_type": "code",
   "execution_count": 161,
   "id": "218ad989-fc32-4694-b7c4-10c8a222c8c8",
   "metadata": {},
   "outputs": [
    {
     "data": {
      "text/html": [
       "<div>\n",
       "<style scoped>\n",
       "    .dataframe tbody tr th:only-of-type {\n",
       "        vertical-align: middle;\n",
       "    }\n",
       "\n",
       "    .dataframe tbody tr th {\n",
       "        vertical-align: top;\n",
       "    }\n",
       "\n",
       "    .dataframe thead th {\n",
       "        text-align: right;\n",
       "    }\n",
       "</style>\n",
       "<table border=\"1\" class=\"dataframe\">\n",
       "  <thead>\n",
       "    <tr style=\"text-align: right;\">\n",
       "      <th></th>\n",
       "      <th>Salary</th>\n",
       "      <th>DOJ</th>\n",
       "      <th>DOL</th>\n",
       "      <th>Designation</th>\n",
       "      <th>JobCity</th>\n",
       "      <th>Gender</th>\n",
       "      <th>DOB</th>\n",
       "      <th>10percentage</th>\n",
       "      <th>10board</th>\n",
       "      <th>12graduation</th>\n",
       "      <th>...</th>\n",
       "      <th>Quant</th>\n",
       "      <th>Domain</th>\n",
       "      <th>ComputerProgramming</th>\n",
       "      <th>ElectronicsAndSemicon</th>\n",
       "      <th>ComputerScience</th>\n",
       "      <th>conscientiousness</th>\n",
       "      <th>agreeableness</th>\n",
       "      <th>extraversion</th>\n",
       "      <th>nueroticism</th>\n",
       "      <th>openess_to_experience</th>\n",
       "    </tr>\n",
       "  </thead>\n",
       "  <tbody>\n",
       "    <tr>\n",
       "      <th>0</th>\n",
       "      <td>420000</td>\n",
       "      <td>2012-06-01</td>\n",
       "      <td>2025-03-06</td>\n",
       "      <td>Senior quality engineer</td>\n",
       "      <td>Bangalore</td>\n",
       "      <td>f</td>\n",
       "      <td>1990-02-19</td>\n",
       "      <td>84.3</td>\n",
       "      <td>board ofsecondary education,ap</td>\n",
       "      <td>2007</td>\n",
       "      <td>...</td>\n",
       "      <td>525</td>\n",
       "      <td>0.635979</td>\n",
       "      <td>445.0</td>\n",
       "      <td>NaN</td>\n",
       "      <td>NaN</td>\n",
       "      <td>0.9737</td>\n",
       "      <td>0.8128</td>\n",
       "      <td>0.5269</td>\n",
       "      <td>1.35490</td>\n",
       "      <td>-0.4455</td>\n",
       "    </tr>\n",
       "    <tr>\n",
       "      <th>1</th>\n",
       "      <td>500000</td>\n",
       "      <td>2013-09-01</td>\n",
       "      <td>2025-03-06</td>\n",
       "      <td>Assistant manager</td>\n",
       "      <td>Indore</td>\n",
       "      <td>m</td>\n",
       "      <td>1989-10-04</td>\n",
       "      <td>85.4</td>\n",
       "      <td>cbse</td>\n",
       "      <td>2007</td>\n",
       "      <td>...</td>\n",
       "      <td>780</td>\n",
       "      <td>0.960603</td>\n",
       "      <td>NaN</td>\n",
       "      <td>466.0</td>\n",
       "      <td>NaN</td>\n",
       "      <td>-0.7335</td>\n",
       "      <td>0.3789</td>\n",
       "      <td>1.2396</td>\n",
       "      <td>-0.10760</td>\n",
       "      <td>0.8637</td>\n",
       "    </tr>\n",
       "    <tr>\n",
       "      <th>2</th>\n",
       "      <td>325000</td>\n",
       "      <td>2014-06-01</td>\n",
       "      <td>2025-03-06</td>\n",
       "      <td>Systems engineer</td>\n",
       "      <td>Chennai</td>\n",
       "      <td>f</td>\n",
       "      <td>1992-08-03</td>\n",
       "      <td>85.0</td>\n",
       "      <td>cbse</td>\n",
       "      <td>2010</td>\n",
       "      <td>...</td>\n",
       "      <td>370</td>\n",
       "      <td>0.450877</td>\n",
       "      <td>395.0</td>\n",
       "      <td>NaN</td>\n",
       "      <td>NaN</td>\n",
       "      <td>0.2718</td>\n",
       "      <td>1.7109</td>\n",
       "      <td>0.1637</td>\n",
       "      <td>-0.86820</td>\n",
       "      <td>0.6721</td>\n",
       "    </tr>\n",
       "    <tr>\n",
       "      <th>3</th>\n",
       "      <td>1100000</td>\n",
       "      <td>2011-07-01</td>\n",
       "      <td>2025-03-06</td>\n",
       "      <td>Senior software engineer</td>\n",
       "      <td>Gurgaon</td>\n",
       "      <td>m</td>\n",
       "      <td>1989-12-05</td>\n",
       "      <td>85.6</td>\n",
       "      <td>cbse</td>\n",
       "      <td>2007</td>\n",
       "      <td>...</td>\n",
       "      <td>625</td>\n",
       "      <td>0.974396</td>\n",
       "      <td>615.0</td>\n",
       "      <td>NaN</td>\n",
       "      <td>NaN</td>\n",
       "      <td>0.0464</td>\n",
       "      <td>0.3448</td>\n",
       "      <td>-0.3440</td>\n",
       "      <td>-0.40780</td>\n",
       "      <td>-0.9194</td>\n",
       "    </tr>\n",
       "    <tr>\n",
       "      <th>4</th>\n",
       "      <td>200000</td>\n",
       "      <td>2014-03-01</td>\n",
       "      <td>2015-03-01</td>\n",
       "      <td>Get</td>\n",
       "      <td>Bhubaneswar</td>\n",
       "      <td>m</td>\n",
       "      <td>1991-02-27</td>\n",
       "      <td>78.0</td>\n",
       "      <td>cbse</td>\n",
       "      <td>2008</td>\n",
       "      <td>...</td>\n",
       "      <td>465</td>\n",
       "      <td>0.124502</td>\n",
       "      <td>NaN</td>\n",
       "      <td>233.0</td>\n",
       "      <td>NaN</td>\n",
       "      <td>-0.8810</td>\n",
       "      <td>-0.2793</td>\n",
       "      <td>-1.0697</td>\n",
       "      <td>0.09163</td>\n",
       "      <td>-0.1295</td>\n",
       "    </tr>\n",
       "  </tbody>\n",
       "</table>\n",
       "<p>5 rows × 31 columns</p>\n",
       "</div>"
      ],
      "text/plain": [
       "    Salary        DOJ        DOL               Designation      JobCity  \\\n",
       "0   420000 2012-06-01 2025-03-06   Senior quality engineer    Bangalore   \n",
       "1   500000 2013-09-01 2025-03-06         Assistant manager       Indore   \n",
       "2   325000 2014-06-01 2025-03-06          Systems engineer      Chennai   \n",
       "3  1100000 2011-07-01 2025-03-06  Senior software engineer      Gurgaon   \n",
       "4   200000 2014-03-01 2015-03-01                       Get  Bhubaneswar   \n",
       "\n",
       "  Gender        DOB  10percentage                         10board  \\\n",
       "0      f 1990-02-19          84.3  board ofsecondary education,ap   \n",
       "1      m 1989-10-04          85.4                            cbse   \n",
       "2      f 1992-08-03          85.0                            cbse   \n",
       "3      m 1989-12-05          85.6                            cbse   \n",
       "4      m 1991-02-27          78.0                            cbse   \n",
       "\n",
       "   12graduation  ...  Quant    Domain  ComputerProgramming  \\\n",
       "0          2007  ...    525  0.635979                445.0   \n",
       "1          2007  ...    780  0.960603                  NaN   \n",
       "2          2010  ...    370  0.450877                395.0   \n",
       "3          2007  ...    625  0.974396                615.0   \n",
       "4          2008  ...    465  0.124502                  NaN   \n",
       "\n",
       "  ElectronicsAndSemicon ComputerScience  conscientiousness  agreeableness  \\\n",
       "0                   NaN             NaN             0.9737         0.8128   \n",
       "1                 466.0             NaN            -0.7335         0.3789   \n",
       "2                   NaN             NaN             0.2718         1.7109   \n",
       "3                   NaN             NaN             0.0464         0.3448   \n",
       "4                 233.0             NaN            -0.8810        -0.2793   \n",
       "\n",
       "  extraversion  nueroticism  openess_to_experience  \n",
       "0       0.5269      1.35490                -0.4455  \n",
       "1       1.2396     -0.10760                 0.8637  \n",
       "2       0.1637     -0.86820                 0.6721  \n",
       "3      -0.3440     -0.40780                -0.9194  \n",
       "4      -1.0697      0.09163                -0.1295  \n",
       "\n",
       "[5 rows x 31 columns]"
      ]
     },
     "execution_count": 161,
     "metadata": {},
     "output_type": "execute_result"
    }
   ],
   "source": [
    "df_copy.head()"
   ]
  },
  {
   "cell_type": "code",
   "execution_count": null,
   "id": "faaea6e9-cd06-4df5-a0f3-90bc8de8b528",
   "metadata": {},
   "outputs": [],
   "source": []
  },
  {
   "cell_type": "code",
   "execution_count": 339,
   "id": "ee352026-886a-4631-b59d-a1768d7bcb83",
   "metadata": {},
   "outputs": [
    {
     "data": {
      "text/plain": [
       "0       12.8\n",
       "1       11.5\n",
       "2       10.8\n",
       "3       13.7\n",
       "4        1.0\n",
       "        ... \n",
       "3993     1.0\n",
       "3994     0.0\n",
       "3995    11.7\n",
       "3996     0.5\n",
       "3997    12.1\n",
       "Length: 3998, dtype: float64"
      ]
     },
     "execution_count": 339,
     "metadata": {},
     "output_type": "execute_result"
    }
   ],
   "source": [
    "#calculating tenure, as in how long they worked in that position\n",
    "\n",
    "round(((df_copy['DOL']- df_copy['DOJ']).dt.days / 365),1)"
   ]
  },
  {
   "cell_type": "code",
   "execution_count": 337,
   "id": "8d970960-d6e9-4652-a357-4d1f3660df50",
   "metadata": {},
   "outputs": [
    {
     "data": {
      "text/plain": [
       "Salary                                100000\n",
       "DOJ                      2013-07-01 00:00:00\n",
       "DOL                      2013-07-01 00:00:00\n",
       "Designation                 Technical writer\n",
       "JobCity                            Hyderabad\n",
       "Gender                                     f\n",
       "DOB                      1992-08-27 00:00:00\n",
       "10percentage                            90.0\n",
       "10board                          state board\n",
       "12graduation                            2009\n",
       "12percentage                            93.0\n",
       "12board                          state board\n",
       "CollegeTier                                2\n",
       "Degree                           B.tech/b.e.\n",
       "Specialization           ECE_instrumentation\n",
       "collegePercent                          77.3\n",
       "CollegeCityTier                            1\n",
       "CollegeState                       Telangana\n",
       "GraduationYear                          2013\n",
       "English                                  415\n",
       "Logical                                  410\n",
       "Quant                                    535\n",
       "Domain                               0.88162\n",
       "ComputerProgramming                    325.0\n",
       "ElectronicsAndSemicon                  420.0\n",
       "ComputerScience                          NaN\n",
       "conscientiousness                    -0.3027\n",
       "agreeableness                         0.8784\n",
       "extraversion                          0.9322\n",
       "nueroticism                           0.7798\n",
       "openess_to_experience                -0.0943\n",
       "Name: 3994, dtype: object"
      ]
     },
     "execution_count": 337,
     "metadata": {},
     "output_type": "execute_result"
    }
   ],
   "source": [
    "df_copy.loc[3994, :]"
   ]
  },
  {
   "cell_type": "code",
   "execution_count": 343,
   "id": "f61a29fa-0418-48c9-b354-c443ceb03fc3",
   "metadata": {},
   "outputs": [
    {
     "data": {
      "text/html": [
       "<div>\n",
       "<style scoped>\n",
       "    .dataframe tbody tr th:only-of-type {\n",
       "        vertical-align: middle;\n",
       "    }\n",
       "\n",
       "    .dataframe tbody tr th {\n",
       "        vertical-align: top;\n",
       "    }\n",
       "\n",
       "    .dataframe thead th {\n",
       "        text-align: right;\n",
       "    }\n",
       "</style>\n",
       "<table border=\"1\" class=\"dataframe\">\n",
       "  <thead>\n",
       "    <tr style=\"text-align: right;\">\n",
       "      <th></th>\n",
       "      <th>Salary</th>\n",
       "      <th>DOJ</th>\n",
       "      <th>DOL</th>\n",
       "      <th>Designation</th>\n",
       "      <th>JobCity</th>\n",
       "      <th>Gender</th>\n",
       "      <th>DOB</th>\n",
       "      <th>10percentage</th>\n",
       "      <th>10board</th>\n",
       "      <th>12graduation</th>\n",
       "      <th>...</th>\n",
       "      <th>Quant</th>\n",
       "      <th>Domain</th>\n",
       "      <th>ComputerProgramming</th>\n",
       "      <th>ElectronicsAndSemicon</th>\n",
       "      <th>ComputerScience</th>\n",
       "      <th>conscientiousness</th>\n",
       "      <th>agreeableness</th>\n",
       "      <th>extraversion</th>\n",
       "      <th>nueroticism</th>\n",
       "      <th>openess_to_experience</th>\n",
       "    </tr>\n",
       "  </thead>\n",
       "  <tbody>\n",
       "    <tr>\n",
       "      <th>0</th>\n",
       "      <td>420000</td>\n",
       "      <td>2012-06-01</td>\n",
       "      <td>2025-03-06</td>\n",
       "      <td>Senior quality engineer</td>\n",
       "      <td>Bangalore</td>\n",
       "      <td>f</td>\n",
       "      <td>1990-02-19</td>\n",
       "      <td>84.30</td>\n",
       "      <td>board ofsecondary education,ap</td>\n",
       "      <td>2007</td>\n",
       "      <td>...</td>\n",
       "      <td>525</td>\n",
       "      <td>0.635979</td>\n",
       "      <td>445.0</td>\n",
       "      <td>NaN</td>\n",
       "      <td>NaN</td>\n",
       "      <td>0.9737</td>\n",
       "      <td>0.8128</td>\n",
       "      <td>0.5269</td>\n",
       "      <td>1.35490</td>\n",
       "      <td>-0.4455</td>\n",
       "    </tr>\n",
       "    <tr>\n",
       "      <th>1</th>\n",
       "      <td>500000</td>\n",
       "      <td>2013-09-01</td>\n",
       "      <td>2025-03-06</td>\n",
       "      <td>Assistant manager</td>\n",
       "      <td>Indore</td>\n",
       "      <td>m</td>\n",
       "      <td>1989-10-04</td>\n",
       "      <td>85.40</td>\n",
       "      <td>cbse</td>\n",
       "      <td>2007</td>\n",
       "      <td>...</td>\n",
       "      <td>780</td>\n",
       "      <td>0.960603</td>\n",
       "      <td>NaN</td>\n",
       "      <td>466.0</td>\n",
       "      <td>NaN</td>\n",
       "      <td>-0.7335</td>\n",
       "      <td>0.3789</td>\n",
       "      <td>1.2396</td>\n",
       "      <td>-0.10760</td>\n",
       "      <td>0.8637</td>\n",
       "    </tr>\n",
       "    <tr>\n",
       "      <th>2</th>\n",
       "      <td>325000</td>\n",
       "      <td>2014-06-01</td>\n",
       "      <td>2025-03-06</td>\n",
       "      <td>Systems engineer</td>\n",
       "      <td>Chennai</td>\n",
       "      <td>f</td>\n",
       "      <td>1992-08-03</td>\n",
       "      <td>85.00</td>\n",
       "      <td>cbse</td>\n",
       "      <td>2010</td>\n",
       "      <td>...</td>\n",
       "      <td>370</td>\n",
       "      <td>0.450877</td>\n",
       "      <td>395.0</td>\n",
       "      <td>NaN</td>\n",
       "      <td>NaN</td>\n",
       "      <td>0.2718</td>\n",
       "      <td>1.7109</td>\n",
       "      <td>0.1637</td>\n",
       "      <td>-0.86820</td>\n",
       "      <td>0.6721</td>\n",
       "    </tr>\n",
       "    <tr>\n",
       "      <th>3</th>\n",
       "      <td>1100000</td>\n",
       "      <td>2011-07-01</td>\n",
       "      <td>2025-03-06</td>\n",
       "      <td>Senior software engineer</td>\n",
       "      <td>Gurgaon</td>\n",
       "      <td>m</td>\n",
       "      <td>1989-12-05</td>\n",
       "      <td>85.60</td>\n",
       "      <td>cbse</td>\n",
       "      <td>2007</td>\n",
       "      <td>...</td>\n",
       "      <td>625</td>\n",
       "      <td>0.974396</td>\n",
       "      <td>615.0</td>\n",
       "      <td>NaN</td>\n",
       "      <td>NaN</td>\n",
       "      <td>0.0464</td>\n",
       "      <td>0.3448</td>\n",
       "      <td>-0.3440</td>\n",
       "      <td>-0.40780</td>\n",
       "      <td>-0.9194</td>\n",
       "    </tr>\n",
       "    <tr>\n",
       "      <th>5</th>\n",
       "      <td>300000</td>\n",
       "      <td>2014-06-01</td>\n",
       "      <td>2025-03-06</td>\n",
       "      <td>System engineer</td>\n",
       "      <td>Hyderabad</td>\n",
       "      <td>m</td>\n",
       "      <td>1992-07-02</td>\n",
       "      <td>89.92</td>\n",
       "      <td>state board</td>\n",
       "      <td>2010</td>\n",
       "      <td>...</td>\n",
       "      <td>620</td>\n",
       "      <td>NaN</td>\n",
       "      <td>645.0</td>\n",
       "      <td>NaN</td>\n",
       "      <td>407.0</td>\n",
       "      <td>-0.3027</td>\n",
       "      <td>-0.6201</td>\n",
       "      <td>-2.2954</td>\n",
       "      <td>-0.74150</td>\n",
       "      <td>-0.8608</td>\n",
       "    </tr>\n",
       "    <tr>\n",
       "      <th>...</th>\n",
       "      <td>...</td>\n",
       "      <td>...</td>\n",
       "      <td>...</td>\n",
       "      <td>...</td>\n",
       "      <td>...</td>\n",
       "      <td>...</td>\n",
       "      <td>...</td>\n",
       "      <td>...</td>\n",
       "      <td>...</td>\n",
       "      <td>...</td>\n",
       "      <td>...</td>\n",
       "      <td>...</td>\n",
       "      <td>...</td>\n",
       "      <td>...</td>\n",
       "      <td>...</td>\n",
       "      <td>...</td>\n",
       "      <td>...</td>\n",
       "      <td>...</td>\n",
       "      <td>...</td>\n",
       "      <td>...</td>\n",
       "      <td>...</td>\n",
       "    </tr>\n",
       "    <tr>\n",
       "      <th>3987</th>\n",
       "      <td>280000</td>\n",
       "      <td>2012-11-01</td>\n",
       "      <td>2025-03-06</td>\n",
       "      <td>Network engineer</td>\n",
       "      <td>New Delhi</td>\n",
       "      <td>f</td>\n",
       "      <td>1990-01-16</td>\n",
       "      <td>86.70</td>\n",
       "      <td>cbse board</td>\n",
       "      <td>2008</td>\n",
       "      <td>...</td>\n",
       "      <td>485</td>\n",
       "      <td>0.376060</td>\n",
       "      <td>NaN</td>\n",
       "      <td>300.0</td>\n",
       "      <td>NaN</td>\n",
       "      <td>-1.4992</td>\n",
       "      <td>-1.8393</td>\n",
       "      <td>-0.7794</td>\n",
       "      <td>1.47240</td>\n",
       "      <td>-2.3017</td>\n",
       "    </tr>\n",
       "    <tr>\n",
       "      <th>3989</th>\n",
       "      <td>300000</td>\n",
       "      <td>2014-09-01</td>\n",
       "      <td>2025-03-06</td>\n",
       "      <td>Software engineer</td>\n",
       "      <td>Bangalore</td>\n",
       "      <td>m</td>\n",
       "      <td>1991-11-23</td>\n",
       "      <td>74.88</td>\n",
       "      <td>state board</td>\n",
       "      <td>2010</td>\n",
       "      <td>...</td>\n",
       "      <td>500</td>\n",
       "      <td>0.356536</td>\n",
       "      <td>465.0</td>\n",
       "      <td>NaN</td>\n",
       "      <td>346.0</td>\n",
       "      <td>0.1282</td>\n",
       "      <td>0.0459</td>\n",
       "      <td>1.2396</td>\n",
       "      <td>1.03330</td>\n",
       "      <td>0.6721</td>\n",
       "    </tr>\n",
       "    <tr>\n",
       "      <th>3990</th>\n",
       "      <td>480000</td>\n",
       "      <td>2012-02-01</td>\n",
       "      <td>2025-03-06</td>\n",
       "      <td>Senior systems engineer</td>\n",
       "      <td>Hyderabad</td>\n",
       "      <td>f</td>\n",
       "      <td>1989-09-04</td>\n",
       "      <td>88.00</td>\n",
       "      <td>cbse</td>\n",
       "      <td>2007</td>\n",
       "      <td>...</td>\n",
       "      <td>605</td>\n",
       "      <td>0.824666</td>\n",
       "      <td>285.0</td>\n",
       "      <td>400.0</td>\n",
       "      <td>NaN</td>\n",
       "      <td>0.6646</td>\n",
       "      <td>0.3448</td>\n",
       "      <td>0.3817</td>\n",
       "      <td>-1.34780</td>\n",
       "      <td>0.8183</td>\n",
       "    </tr>\n",
       "    <tr>\n",
       "      <th>3995</th>\n",
       "      <td>320000</td>\n",
       "      <td>2013-07-01</td>\n",
       "      <td>2025-03-06</td>\n",
       "      <td>Associate software engineer</td>\n",
       "      <td>Bangalore</td>\n",
       "      <td>m</td>\n",
       "      <td>1991-07-03</td>\n",
       "      <td>81.86</td>\n",
       "      <td>bse,odisha</td>\n",
       "      <td>2008</td>\n",
       "      <td>...</td>\n",
       "      <td>465</td>\n",
       "      <td>0.488348</td>\n",
       "      <td>405.0</td>\n",
       "      <td>NaN</td>\n",
       "      <td>NaN</td>\n",
       "      <td>-1.5765</td>\n",
       "      <td>-1.5273</td>\n",
       "      <td>-1.5051</td>\n",
       "      <td>-1.31840</td>\n",
       "      <td>-0.7615</td>\n",
       "    </tr>\n",
       "    <tr>\n",
       "      <th>3997</th>\n",
       "      <td>400000</td>\n",
       "      <td>2013-02-01</td>\n",
       "      <td>2025-03-06</td>\n",
       "      <td>Senior systems engineer</td>\n",
       "      <td>Chennai</td>\n",
       "      <td>f</td>\n",
       "      <td>1991-02-26</td>\n",
       "      <td>70.60</td>\n",
       "      <td>cbse</td>\n",
       "      <td>2008</td>\n",
       "      <td>...</td>\n",
       "      <td>464</td>\n",
       "      <td>0.600057</td>\n",
       "      <td>435.0</td>\n",
       "      <td>NaN</td>\n",
       "      <td>NaN</td>\n",
       "      <td>-1.1128</td>\n",
       "      <td>-0.2793</td>\n",
       "      <td>-0.6343</td>\n",
       "      <td>1.32553</td>\n",
       "      <td>-0.6035</td>\n",
       "    </tr>\n",
       "  </tbody>\n",
       "</table>\n",
       "<p>1875 rows × 31 columns</p>\n",
       "</div>"
      ],
      "text/plain": [
       "       Salary        DOJ        DOL                  Designation    JobCity  \\\n",
       "0      420000 2012-06-01 2025-03-06      Senior quality engineer  Bangalore   \n",
       "1      500000 2013-09-01 2025-03-06            Assistant manager     Indore   \n",
       "2      325000 2014-06-01 2025-03-06             Systems engineer    Chennai   \n",
       "3     1100000 2011-07-01 2025-03-06     Senior software engineer    Gurgaon   \n",
       "5      300000 2014-06-01 2025-03-06              System engineer  Hyderabad   \n",
       "...       ...        ...        ...                          ...        ...   \n",
       "3987   280000 2012-11-01 2025-03-06             Network engineer  New Delhi   \n",
       "3989   300000 2014-09-01 2025-03-06            Software engineer  Bangalore   \n",
       "3990   480000 2012-02-01 2025-03-06      Senior systems engineer  Hyderabad   \n",
       "3995   320000 2013-07-01 2025-03-06  Associate software engineer  Bangalore   \n",
       "3997   400000 2013-02-01 2025-03-06      Senior systems engineer    Chennai   \n",
       "\n",
       "     Gender        DOB  10percentage                         10board  \\\n",
       "0         f 1990-02-19         84.30  board ofsecondary education,ap   \n",
       "1         m 1989-10-04         85.40                            cbse   \n",
       "2         f 1992-08-03         85.00                            cbse   \n",
       "3         m 1989-12-05         85.60                            cbse   \n",
       "5         m 1992-07-02         89.92                     state board   \n",
       "...     ...        ...           ...                             ...   \n",
       "3987      f 1990-01-16         86.70                      cbse board   \n",
       "3989      m 1991-11-23         74.88                     state board   \n",
       "3990      f 1989-09-04         88.00                            cbse   \n",
       "3995      m 1991-07-03         81.86                      bse,odisha   \n",
       "3997      f 1991-02-26         70.60                            cbse   \n",
       "\n",
       "      12graduation  ...  Quant    Domain  ComputerProgramming  \\\n",
       "0             2007  ...    525  0.635979                445.0   \n",
       "1             2007  ...    780  0.960603                  NaN   \n",
       "2             2010  ...    370  0.450877                395.0   \n",
       "3             2007  ...    625  0.974396                615.0   \n",
       "5             2010  ...    620       NaN                645.0   \n",
       "...            ...  ...    ...       ...                  ...   \n",
       "3987          2008  ...    485  0.376060                  NaN   \n",
       "3989          2010  ...    500  0.356536                465.0   \n",
       "3990          2007  ...    605  0.824666                285.0   \n",
       "3995          2008  ...    465  0.488348                405.0   \n",
       "3997          2008  ...    464  0.600057                435.0   \n",
       "\n",
       "     ElectronicsAndSemicon ComputerScience  conscientiousness  agreeableness  \\\n",
       "0                      NaN             NaN             0.9737         0.8128   \n",
       "1                    466.0             NaN            -0.7335         0.3789   \n",
       "2                      NaN             NaN             0.2718         1.7109   \n",
       "3                      NaN             NaN             0.0464         0.3448   \n",
       "5                      NaN           407.0            -0.3027        -0.6201   \n",
       "...                    ...             ...                ...            ...   \n",
       "3987                 300.0             NaN            -1.4992        -1.8393   \n",
       "3989                   NaN           346.0             0.1282         0.0459   \n",
       "3990                 400.0             NaN             0.6646         0.3448   \n",
       "3995                   NaN             NaN            -1.5765        -1.5273   \n",
       "3997                   NaN             NaN            -1.1128        -0.2793   \n",
       "\n",
       "     extraversion  nueroticism  openess_to_experience  \n",
       "0          0.5269      1.35490                -0.4455  \n",
       "1          1.2396     -0.10760                 0.8637  \n",
       "2          0.1637     -0.86820                 0.6721  \n",
       "3         -0.3440     -0.40780                -0.9194  \n",
       "5         -2.2954     -0.74150                -0.8608  \n",
       "...           ...          ...                    ...  \n",
       "3987      -0.7794      1.47240                -2.3017  \n",
       "3989       1.2396      1.03330                 0.6721  \n",
       "3990       0.3817     -1.34780                 0.8183  \n",
       "3995      -1.5051     -1.31840                -0.7615  \n",
       "3997      -0.6343      1.32553                -0.6035  \n",
       "\n",
       "[1875 rows x 31 columns]"
      ]
     },
     "execution_count": 343,
     "metadata": {},
     "output_type": "execute_result"
    }
   ],
   "source": [
    "df_copy[ df_copy['DOL'] == '2025-03-06']"
   ]
  },
  {
   "cell_type": "code",
   "execution_count": 345,
   "id": "aecfc9c5-807e-452d-a056-7db71f5063a1",
   "metadata": {},
   "outputs": [],
   "source": [
    "index_present_DOL = df_copy[ df_copy['DOL'] == '2025-03-06'].index"
   ]
  },
  {
   "cell_type": "code",
   "execution_count": 347,
   "id": "b0a73d04-f9af-4680-96bb-51672156891d",
   "metadata": {},
   "outputs": [
    {
     "data": {
      "text/plain": [
       "Index([   0,    1,    2,    3,    5,    8,    9,   12,   13,   14,\n",
       "       ...\n",
       "       3977, 3981, 3983, 3984, 3985, 3987, 3989, 3990, 3995, 3997],\n",
       "      dtype='int64', length=1875)"
      ]
     },
     "execution_count": 347,
     "metadata": {},
     "output_type": "execute_result"
    }
   ],
   "source": [
    "index_present_DOL"
   ]
  },
  {
   "cell_type": "code",
   "execution_count": 351,
   "id": "60850424-26dd-4266-b56e-afddafc48721",
   "metadata": {},
   "outputs": [
    {
     "data": {
      "text/plain": [
       "Timestamp('2016-01-01 00:00:00')"
      ]
     },
     "execution_count": 351,
     "metadata": {},
     "output_type": "execute_result"
    }
   ],
   "source": [
    "pd.to_datetime('2016-01-01').normalize()"
   ]
  },
  {
   "cell_type": "code",
   "execution_count": 355,
   "id": "fd937488-cbf5-4ff2-a4ac-57b909cff0ae",
   "metadata": {},
   "outputs": [],
   "source": [
    "df_copy.loc[index_present_DOL, 'DOL'] = pd.to_datetime('2016-01-01').normalize()"
   ]
  },
  {
   "cell_type": "code",
   "execution_count": 357,
   "id": "b93616c9-06cc-48fd-9b2a-7d4c4d6513bf",
   "metadata": {},
   "outputs": [
    {
     "data": {
      "text/plain": [
       "0      2016-01-01\n",
       "1      2016-01-01\n",
       "2      2016-01-01\n",
       "3      2016-01-01\n",
       "5      2016-01-01\n",
       "          ...    \n",
       "3987   2016-01-01\n",
       "3989   2016-01-01\n",
       "3990   2016-01-01\n",
       "3995   2016-01-01\n",
       "3997   2016-01-01\n",
       "Name: DOL, Length: 1875, dtype: datetime64[ns]"
      ]
     },
     "execution_count": 357,
     "metadata": {},
     "output_type": "execute_result"
    }
   ],
   "source": [
    "df_copy.loc[index_present_DOL, 'DOL'] "
   ]
  },
  {
   "cell_type": "code",
   "execution_count": 359,
   "id": "1bb5f15d-8152-4722-99bb-1f765920f4c2",
   "metadata": {},
   "outputs": [
    {
     "data": {
      "text/plain": [
       "0       3.6\n",
       "1       2.3\n",
       "2       1.6\n",
       "3       4.5\n",
       "4       1.0\n",
       "       ... \n",
       "3993    1.0\n",
       "3994    0.0\n",
       "3995    2.5\n",
       "3996    0.5\n",
       "3997    2.9\n",
       "Length: 3998, dtype: float64"
      ]
     },
     "execution_count": 359,
     "metadata": {},
     "output_type": "execute_result"
    }
   ],
   "source": [
    "round(((df_copy['DOL']- df_copy['DOJ']).dt.days / 365),1)"
   ]
  },
  {
   "cell_type": "code",
   "execution_count": 361,
   "id": "5e2f01ac-f240-4893-8b1e-c7087fe08998",
   "metadata": {},
   "outputs": [],
   "source": [
    "df_copy['Tenure'] = round(((df_copy['DOL']- df_copy['DOJ']).dt.days / 365),1)"
   ]
  },
  {
   "cell_type": "code",
   "execution_count": 363,
   "id": "163802de-b1b9-4139-8bd6-caf69224f966",
   "metadata": {},
   "outputs": [
    {
     "data": {
      "text/html": [
       "<div>\n",
       "<style scoped>\n",
       "    .dataframe tbody tr th:only-of-type {\n",
       "        vertical-align: middle;\n",
       "    }\n",
       "\n",
       "    .dataframe tbody tr th {\n",
       "        vertical-align: top;\n",
       "    }\n",
       "\n",
       "    .dataframe thead th {\n",
       "        text-align: right;\n",
       "    }\n",
       "</style>\n",
       "<table border=\"1\" class=\"dataframe\">\n",
       "  <thead>\n",
       "    <tr style=\"text-align: right;\">\n",
       "      <th></th>\n",
       "      <th>Salary</th>\n",
       "      <th>DOJ</th>\n",
       "      <th>DOL</th>\n",
       "      <th>Designation</th>\n",
       "      <th>JobCity</th>\n",
       "      <th>Gender</th>\n",
       "      <th>DOB</th>\n",
       "      <th>10percentage</th>\n",
       "      <th>10board</th>\n",
       "      <th>12graduation</th>\n",
       "      <th>...</th>\n",
       "      <th>Domain</th>\n",
       "      <th>ComputerProgramming</th>\n",
       "      <th>ElectronicsAndSemicon</th>\n",
       "      <th>ComputerScience</th>\n",
       "      <th>conscientiousness</th>\n",
       "      <th>agreeableness</th>\n",
       "      <th>extraversion</th>\n",
       "      <th>nueroticism</th>\n",
       "      <th>openess_to_experience</th>\n",
       "      <th>Tenure</th>\n",
       "    </tr>\n",
       "  </thead>\n",
       "  <tbody>\n",
       "    <tr>\n",
       "      <th>0</th>\n",
       "      <td>420000</td>\n",
       "      <td>2012-06-01</td>\n",
       "      <td>2016-01-01</td>\n",
       "      <td>Senior quality engineer</td>\n",
       "      <td>Bangalore</td>\n",
       "      <td>f</td>\n",
       "      <td>1990-02-19</td>\n",
       "      <td>84.3</td>\n",
       "      <td>board ofsecondary education,ap</td>\n",
       "      <td>2007</td>\n",
       "      <td>...</td>\n",
       "      <td>0.635979</td>\n",
       "      <td>445.0</td>\n",
       "      <td>NaN</td>\n",
       "      <td>NaN</td>\n",
       "      <td>0.9737</td>\n",
       "      <td>0.8128</td>\n",
       "      <td>0.5269</td>\n",
       "      <td>1.35490</td>\n",
       "      <td>-0.4455</td>\n",
       "      <td>3.6</td>\n",
       "    </tr>\n",
       "    <tr>\n",
       "      <th>1</th>\n",
       "      <td>500000</td>\n",
       "      <td>2013-09-01</td>\n",
       "      <td>2016-01-01</td>\n",
       "      <td>Assistant manager</td>\n",
       "      <td>Indore</td>\n",
       "      <td>m</td>\n",
       "      <td>1989-10-04</td>\n",
       "      <td>85.4</td>\n",
       "      <td>cbse</td>\n",
       "      <td>2007</td>\n",
       "      <td>...</td>\n",
       "      <td>0.960603</td>\n",
       "      <td>NaN</td>\n",
       "      <td>466.0</td>\n",
       "      <td>NaN</td>\n",
       "      <td>-0.7335</td>\n",
       "      <td>0.3789</td>\n",
       "      <td>1.2396</td>\n",
       "      <td>-0.10760</td>\n",
       "      <td>0.8637</td>\n",
       "      <td>2.3</td>\n",
       "    </tr>\n",
       "    <tr>\n",
       "      <th>2</th>\n",
       "      <td>325000</td>\n",
       "      <td>2014-06-01</td>\n",
       "      <td>2016-01-01</td>\n",
       "      <td>Systems engineer</td>\n",
       "      <td>Chennai</td>\n",
       "      <td>f</td>\n",
       "      <td>1992-08-03</td>\n",
       "      <td>85.0</td>\n",
       "      <td>cbse</td>\n",
       "      <td>2010</td>\n",
       "      <td>...</td>\n",
       "      <td>0.450877</td>\n",
       "      <td>395.0</td>\n",
       "      <td>NaN</td>\n",
       "      <td>NaN</td>\n",
       "      <td>0.2718</td>\n",
       "      <td>1.7109</td>\n",
       "      <td>0.1637</td>\n",
       "      <td>-0.86820</td>\n",
       "      <td>0.6721</td>\n",
       "      <td>1.6</td>\n",
       "    </tr>\n",
       "    <tr>\n",
       "      <th>3</th>\n",
       "      <td>1100000</td>\n",
       "      <td>2011-07-01</td>\n",
       "      <td>2016-01-01</td>\n",
       "      <td>Senior software engineer</td>\n",
       "      <td>Gurgaon</td>\n",
       "      <td>m</td>\n",
       "      <td>1989-12-05</td>\n",
       "      <td>85.6</td>\n",
       "      <td>cbse</td>\n",
       "      <td>2007</td>\n",
       "      <td>...</td>\n",
       "      <td>0.974396</td>\n",
       "      <td>615.0</td>\n",
       "      <td>NaN</td>\n",
       "      <td>NaN</td>\n",
       "      <td>0.0464</td>\n",
       "      <td>0.3448</td>\n",
       "      <td>-0.3440</td>\n",
       "      <td>-0.40780</td>\n",
       "      <td>-0.9194</td>\n",
       "      <td>4.5</td>\n",
       "    </tr>\n",
       "    <tr>\n",
       "      <th>4</th>\n",
       "      <td>200000</td>\n",
       "      <td>2014-03-01</td>\n",
       "      <td>2015-03-01</td>\n",
       "      <td>Get</td>\n",
       "      <td>Bhubaneswar</td>\n",
       "      <td>m</td>\n",
       "      <td>1991-02-27</td>\n",
       "      <td>78.0</td>\n",
       "      <td>cbse</td>\n",
       "      <td>2008</td>\n",
       "      <td>...</td>\n",
       "      <td>0.124502</td>\n",
       "      <td>NaN</td>\n",
       "      <td>233.0</td>\n",
       "      <td>NaN</td>\n",
       "      <td>-0.8810</td>\n",
       "      <td>-0.2793</td>\n",
       "      <td>-1.0697</td>\n",
       "      <td>0.09163</td>\n",
       "      <td>-0.1295</td>\n",
       "      <td>1.0</td>\n",
       "    </tr>\n",
       "  </tbody>\n",
       "</table>\n",
       "<p>5 rows × 32 columns</p>\n",
       "</div>"
      ],
      "text/plain": [
       "    Salary        DOJ        DOL               Designation      JobCity  \\\n",
       "0   420000 2012-06-01 2016-01-01   Senior quality engineer    Bangalore   \n",
       "1   500000 2013-09-01 2016-01-01         Assistant manager       Indore   \n",
       "2   325000 2014-06-01 2016-01-01          Systems engineer      Chennai   \n",
       "3  1100000 2011-07-01 2016-01-01  Senior software engineer      Gurgaon   \n",
       "4   200000 2014-03-01 2015-03-01                       Get  Bhubaneswar   \n",
       "\n",
       "  Gender        DOB  10percentage                         10board  \\\n",
       "0      f 1990-02-19          84.3  board ofsecondary education,ap   \n",
       "1      m 1989-10-04          85.4                            cbse   \n",
       "2      f 1992-08-03          85.0                            cbse   \n",
       "3      m 1989-12-05          85.6                            cbse   \n",
       "4      m 1991-02-27          78.0                            cbse   \n",
       "\n",
       "   12graduation  ...    Domain ComputerProgramming  ElectronicsAndSemicon  \\\n",
       "0          2007  ...  0.635979               445.0                    NaN   \n",
       "1          2007  ...  0.960603                 NaN                  466.0   \n",
       "2          2010  ...  0.450877               395.0                    NaN   \n",
       "3          2007  ...  0.974396               615.0                    NaN   \n",
       "4          2008  ...  0.124502                 NaN                  233.0   \n",
       "\n",
       "  ComputerScience conscientiousness  agreeableness  extraversion nueroticism  \\\n",
       "0             NaN            0.9737         0.8128        0.5269     1.35490   \n",
       "1             NaN           -0.7335         0.3789        1.2396    -0.10760   \n",
       "2             NaN            0.2718         1.7109        0.1637    -0.86820   \n",
       "3             NaN            0.0464         0.3448       -0.3440    -0.40780   \n",
       "4             NaN           -0.8810        -0.2793       -1.0697     0.09163   \n",
       "\n",
       "   openess_to_experience  Tenure  \n",
       "0                -0.4455     3.6  \n",
       "1                 0.8637     2.3  \n",
       "2                 0.6721     1.6  \n",
       "3                -0.9194     4.5  \n",
       "4                -0.1295     1.0  \n",
       "\n",
       "[5 rows x 32 columns]"
      ]
     },
     "execution_count": 363,
     "metadata": {},
     "output_type": "execute_result"
    }
   ],
   "source": [
    "df_copy.head()"
   ]
  },
  {
   "cell_type": "code",
   "execution_count": 365,
   "id": "a62f09d3-e93e-4eb7-b6f6-6521315d876f",
   "metadata": {},
   "outputs": [
    {
     "data": {
      "text/plain": [
       "(3998, 32)"
      ]
     },
     "execution_count": 365,
     "metadata": {},
     "output_type": "execute_result"
    }
   ],
   "source": [
    "df_copy.shape"
   ]
  },
  {
   "cell_type": "code",
   "execution_count": 367,
   "id": "d3dcc3b2-8ab0-4dfd-8cdf-3c47da0df3c9",
   "metadata": {},
   "outputs": [
    {
     "name": "stdout",
     "output_type": "stream",
     "text": [
      "<class 'pandas.core.frame.DataFrame'>\n",
      "RangeIndex: 3998 entries, 0 to 3997\n",
      "Data columns (total 32 columns):\n",
      " #   Column                 Non-Null Count  Dtype         \n",
      "---  ------                 --------------  -----         \n",
      " 0   Salary                 3998 non-null   int64         \n",
      " 1   DOJ                    3998 non-null   datetime64[ns]\n",
      " 2   DOL                    3998 non-null   datetime64[ns]\n",
      " 3   Designation            3998 non-null   object        \n",
      " 4   JobCity                3998 non-null   object        \n",
      " 5   Gender                 3998 non-null   object        \n",
      " 6   DOB                    3998 non-null   datetime64[ns]\n",
      " 7   10percentage           3998 non-null   float64       \n",
      " 8   10board                3998 non-null   object        \n",
      " 9   12graduation           3998 non-null   int64         \n",
      " 10  12percentage           3998 non-null   float64       \n",
      " 11  12board                3998 non-null   object        \n",
      " 12  CollegeTier            3998 non-null   int64         \n",
      " 13  Degree                 3998 non-null   object        \n",
      " 14  Specialization         3998 non-null   object        \n",
      " 15  collegePercent         3998 non-null   float64       \n",
      " 16  CollegeCityTier        3998 non-null   int64         \n",
      " 17  CollegeState           3998 non-null   object        \n",
      " 18  GraduationYear         3998 non-null   int32         \n",
      " 19  English                3998 non-null   int64         \n",
      " 20  Logical                3998 non-null   int64         \n",
      " 21  Quant                  3998 non-null   int64         \n",
      " 22  Domain                 3752 non-null   float64       \n",
      " 23  ComputerProgramming    3130 non-null   float64       \n",
      " 24  ElectronicsAndSemicon  1144 non-null   float64       \n",
      " 25  ComputerScience        902 non-null    float64       \n",
      " 26  conscientiousness      3998 non-null   float64       \n",
      " 27  agreeableness          3998 non-null   float64       \n",
      " 28  extraversion           3998 non-null   float64       \n",
      " 29  nueroticism            3998 non-null   float64       \n",
      " 30  openess_to_experience  3998 non-null   float64       \n",
      " 31  Tenure                 3998 non-null   float64       \n",
      "dtypes: datetime64[ns](3), float64(13), int32(1), int64(7), object(8)\n",
      "memory usage: 984.0+ KB\n"
     ]
    }
   ],
   "source": [
    "df_copy.info()"
   ]
  },
  {
   "cell_type": "code",
   "execution_count": null,
   "id": "5556b4ec-b6a1-42ea-b18e-e37a1f6445b2",
   "metadata": {},
   "outputs": [],
   "source": []
  },
  {
   "cell_type": "code",
   "execution_count": 375,
   "id": "6471d127-6525-4acb-b25f-2282cd38ddcd",
   "metadata": {},
   "outputs": [],
   "source": [
    "df_copy.to_excel(r'clean_AMCAT_file_final.xlsx', index = False)"
   ]
  },
  {
   "cell_type": "code",
   "execution_count": null,
   "id": "b1711f22-424b-4b23-9057-ac16b2af81bd",
   "metadata": {},
   "outputs": [],
   "source": []
  },
  {
   "cell_type": "code",
   "execution_count": 377,
   "id": "63001fda-5d75-4c73-9271-36c7b0a9a213",
   "metadata": {},
   "outputs": [],
   "source": [
    "df_c = pd.read_excel(r'clean_AMCAT_file_final.xlsx')"
   ]
  },
  {
   "cell_type": "code",
   "execution_count": 379,
   "id": "176a338f-c36c-4e84-8f49-cc82d522a8fd",
   "metadata": {},
   "outputs": [
    {
     "data": {
      "text/html": [
       "<div>\n",
       "<style scoped>\n",
       "    .dataframe tbody tr th:only-of-type {\n",
       "        vertical-align: middle;\n",
       "    }\n",
       "\n",
       "    .dataframe tbody tr th {\n",
       "        vertical-align: top;\n",
       "    }\n",
       "\n",
       "    .dataframe thead th {\n",
       "        text-align: right;\n",
       "    }\n",
       "</style>\n",
       "<table border=\"1\" class=\"dataframe\">\n",
       "  <thead>\n",
       "    <tr style=\"text-align: right;\">\n",
       "      <th></th>\n",
       "      <th>Salary</th>\n",
       "      <th>DOJ</th>\n",
       "      <th>DOL</th>\n",
       "      <th>Designation</th>\n",
       "      <th>JobCity</th>\n",
       "      <th>Gender</th>\n",
       "      <th>DOB</th>\n",
       "      <th>10percentage</th>\n",
       "      <th>10board</th>\n",
       "      <th>12graduation</th>\n",
       "      <th>...</th>\n",
       "      <th>Domain</th>\n",
       "      <th>ComputerProgramming</th>\n",
       "      <th>ElectronicsAndSemicon</th>\n",
       "      <th>ComputerScience</th>\n",
       "      <th>conscientiousness</th>\n",
       "      <th>agreeableness</th>\n",
       "      <th>extraversion</th>\n",
       "      <th>nueroticism</th>\n",
       "      <th>openess_to_experience</th>\n",
       "      <th>Tenure</th>\n",
       "    </tr>\n",
       "  </thead>\n",
       "  <tbody>\n",
       "    <tr>\n",
       "      <th>0</th>\n",
       "      <td>420000</td>\n",
       "      <td>2012-06-01</td>\n",
       "      <td>2016-01-01</td>\n",
       "      <td>Senior quality engineer</td>\n",
       "      <td>Bangalore</td>\n",
       "      <td>f</td>\n",
       "      <td>1990-02-19</td>\n",
       "      <td>84.3</td>\n",
       "      <td>board ofsecondary education,ap</td>\n",
       "      <td>2007</td>\n",
       "      <td>...</td>\n",
       "      <td>0.635979</td>\n",
       "      <td>445.0</td>\n",
       "      <td>NaN</td>\n",
       "      <td>NaN</td>\n",
       "      <td>0.9737</td>\n",
       "      <td>0.8128</td>\n",
       "      <td>0.5269</td>\n",
       "      <td>1.35490</td>\n",
       "      <td>-0.4455</td>\n",
       "      <td>3.6</td>\n",
       "    </tr>\n",
       "    <tr>\n",
       "      <th>1</th>\n",
       "      <td>500000</td>\n",
       "      <td>2013-09-01</td>\n",
       "      <td>2016-01-01</td>\n",
       "      <td>Assistant manager</td>\n",
       "      <td>Indore</td>\n",
       "      <td>m</td>\n",
       "      <td>1989-10-04</td>\n",
       "      <td>85.4</td>\n",
       "      <td>cbse</td>\n",
       "      <td>2007</td>\n",
       "      <td>...</td>\n",
       "      <td>0.960603</td>\n",
       "      <td>NaN</td>\n",
       "      <td>466.0</td>\n",
       "      <td>NaN</td>\n",
       "      <td>-0.7335</td>\n",
       "      <td>0.3789</td>\n",
       "      <td>1.2396</td>\n",
       "      <td>-0.10760</td>\n",
       "      <td>0.8637</td>\n",
       "      <td>2.3</td>\n",
       "    </tr>\n",
       "    <tr>\n",
       "      <th>2</th>\n",
       "      <td>325000</td>\n",
       "      <td>2014-06-01</td>\n",
       "      <td>2016-01-01</td>\n",
       "      <td>Systems engineer</td>\n",
       "      <td>Chennai</td>\n",
       "      <td>f</td>\n",
       "      <td>1992-08-03</td>\n",
       "      <td>85.0</td>\n",
       "      <td>cbse</td>\n",
       "      <td>2010</td>\n",
       "      <td>...</td>\n",
       "      <td>0.450877</td>\n",
       "      <td>395.0</td>\n",
       "      <td>NaN</td>\n",
       "      <td>NaN</td>\n",
       "      <td>0.2718</td>\n",
       "      <td>1.7109</td>\n",
       "      <td>0.1637</td>\n",
       "      <td>-0.86820</td>\n",
       "      <td>0.6721</td>\n",
       "      <td>1.6</td>\n",
       "    </tr>\n",
       "    <tr>\n",
       "      <th>3</th>\n",
       "      <td>1100000</td>\n",
       "      <td>2011-07-01</td>\n",
       "      <td>2016-01-01</td>\n",
       "      <td>Senior software engineer</td>\n",
       "      <td>Gurgaon</td>\n",
       "      <td>m</td>\n",
       "      <td>1989-12-05</td>\n",
       "      <td>85.6</td>\n",
       "      <td>cbse</td>\n",
       "      <td>2007</td>\n",
       "      <td>...</td>\n",
       "      <td>0.974396</td>\n",
       "      <td>615.0</td>\n",
       "      <td>NaN</td>\n",
       "      <td>NaN</td>\n",
       "      <td>0.0464</td>\n",
       "      <td>0.3448</td>\n",
       "      <td>-0.3440</td>\n",
       "      <td>-0.40780</td>\n",
       "      <td>-0.9194</td>\n",
       "      <td>4.5</td>\n",
       "    </tr>\n",
       "    <tr>\n",
       "      <th>4</th>\n",
       "      <td>200000</td>\n",
       "      <td>2014-03-01</td>\n",
       "      <td>2015-03-01</td>\n",
       "      <td>Get</td>\n",
       "      <td>Bhubaneswar</td>\n",
       "      <td>m</td>\n",
       "      <td>1991-02-27</td>\n",
       "      <td>78.0</td>\n",
       "      <td>cbse</td>\n",
       "      <td>2008</td>\n",
       "      <td>...</td>\n",
       "      <td>0.124502</td>\n",
       "      <td>NaN</td>\n",
       "      <td>233.0</td>\n",
       "      <td>NaN</td>\n",
       "      <td>-0.8810</td>\n",
       "      <td>-0.2793</td>\n",
       "      <td>-1.0697</td>\n",
       "      <td>0.09163</td>\n",
       "      <td>-0.1295</td>\n",
       "      <td>1.0</td>\n",
       "    </tr>\n",
       "  </tbody>\n",
       "</table>\n",
       "<p>5 rows × 32 columns</p>\n",
       "</div>"
      ],
      "text/plain": [
       "    Salary        DOJ        DOL               Designation      JobCity  \\\n",
       "0   420000 2012-06-01 2016-01-01   Senior quality engineer    Bangalore   \n",
       "1   500000 2013-09-01 2016-01-01         Assistant manager       Indore   \n",
       "2   325000 2014-06-01 2016-01-01          Systems engineer      Chennai   \n",
       "3  1100000 2011-07-01 2016-01-01  Senior software engineer      Gurgaon   \n",
       "4   200000 2014-03-01 2015-03-01                       Get  Bhubaneswar   \n",
       "\n",
       "  Gender        DOB  10percentage                         10board  \\\n",
       "0      f 1990-02-19          84.3  board ofsecondary education,ap   \n",
       "1      m 1989-10-04          85.4                            cbse   \n",
       "2      f 1992-08-03          85.0                            cbse   \n",
       "3      m 1989-12-05          85.6                            cbse   \n",
       "4      m 1991-02-27          78.0                            cbse   \n",
       "\n",
       "   12graduation  ...    Domain ComputerProgramming  ElectronicsAndSemicon  \\\n",
       "0          2007  ...  0.635979               445.0                    NaN   \n",
       "1          2007  ...  0.960603                 NaN                  466.0   \n",
       "2          2010  ...  0.450877               395.0                    NaN   \n",
       "3          2007  ...  0.974396               615.0                    NaN   \n",
       "4          2008  ...  0.124502                 NaN                  233.0   \n",
       "\n",
       "  ComputerScience conscientiousness  agreeableness  extraversion nueroticism  \\\n",
       "0             NaN            0.9737         0.8128        0.5269     1.35490   \n",
       "1             NaN           -0.7335         0.3789        1.2396    -0.10760   \n",
       "2             NaN            0.2718         1.7109        0.1637    -0.86820   \n",
       "3             NaN            0.0464         0.3448       -0.3440    -0.40780   \n",
       "4             NaN           -0.8810        -0.2793       -1.0697     0.09163   \n",
       "\n",
       "   openess_to_experience  Tenure  \n",
       "0                -0.4455     3.6  \n",
       "1                 0.8637     2.3  \n",
       "2                 0.6721     1.6  \n",
       "3                -0.9194     4.5  \n",
       "4                -0.1295     1.0  \n",
       "\n",
       "[5 rows x 32 columns]"
      ]
     },
     "execution_count": 379,
     "metadata": {},
     "output_type": "execute_result"
    }
   ],
   "source": [
    "df_c.head()"
   ]
  },
  {
   "cell_type": "code",
   "execution_count": 381,
   "id": "46a2317c-6fa6-49d5-b599-79ca3f3eb923",
   "metadata": {},
   "outputs": [
    {
     "name": "stdout",
     "output_type": "stream",
     "text": [
      "<class 'pandas.core.frame.DataFrame'>\n",
      "RangeIndex: 3998 entries, 0 to 3997\n",
      "Data columns (total 32 columns):\n",
      " #   Column                 Non-Null Count  Dtype         \n",
      "---  ------                 --------------  -----         \n",
      " 0   Salary                 3998 non-null   int64         \n",
      " 1   DOJ                    3998 non-null   datetime64[ns]\n",
      " 2   DOL                    3998 non-null   datetime64[ns]\n",
      " 3   Designation            3998 non-null   object        \n",
      " 4   JobCity                3998 non-null   object        \n",
      " 5   Gender                 3998 non-null   object        \n",
      " 6   DOB                    3998 non-null   datetime64[ns]\n",
      " 7   10percentage           3998 non-null   float64       \n",
      " 8   10board                3998 non-null   object        \n",
      " 9   12graduation           3998 non-null   int64         \n",
      " 10  12percentage           3998 non-null   float64       \n",
      " 11  12board                3998 non-null   object        \n",
      " 12  CollegeTier            3998 non-null   int64         \n",
      " 13  Degree                 3998 non-null   object        \n",
      " 14  Specialization         3998 non-null   object        \n",
      " 15  collegePercent         3998 non-null   float64       \n",
      " 16  CollegeCityTier        3998 non-null   int64         \n",
      " 17  CollegeState           3998 non-null   object        \n",
      " 18  GraduationYear         3998 non-null   int64         \n",
      " 19  English                3998 non-null   int64         \n",
      " 20  Logical                3998 non-null   int64         \n",
      " 21  Quant                  3998 non-null   int64         \n",
      " 22  Domain                 3752 non-null   float64       \n",
      " 23  ComputerProgramming    3130 non-null   float64       \n",
      " 24  ElectronicsAndSemicon  1144 non-null   float64       \n",
      " 25  ComputerScience        902 non-null    float64       \n",
      " 26  conscientiousness      3998 non-null   float64       \n",
      " 27  agreeableness          3998 non-null   float64       \n",
      " 28  extraversion           3998 non-null   float64       \n",
      " 29  nueroticism            3998 non-null   float64       \n",
      " 30  openess_to_experience  3998 non-null   float64       \n",
      " 31  Tenure                 3998 non-null   float64       \n",
      "dtypes: datetime64[ns](3), float64(13), int64(8), object(8)\n",
      "memory usage: 999.6+ KB\n"
     ]
    }
   ],
   "source": [
    "df_c.info()"
   ]
  },
  {
   "cell_type": "code",
   "execution_count": null,
   "id": "cf7f7b3f-f503-42ed-90e0-af548b6f2cf0",
   "metadata": {},
   "outputs": [],
   "source": []
  }
 ],
 "metadata": {
  "kernelspec": {
   "display_name": "Python 3 (ipykernel)",
   "language": "python",
   "name": "python3"
  },
  "language_info": {
   "codemirror_mode": {
    "name": "ipython",
    "version": 3
   },
   "file_extension": ".py",
   "mimetype": "text/x-python",
   "name": "python",
   "nbconvert_exporter": "python",
   "pygments_lexer": "ipython3",
   "version": "3.11.7"
  }
 },
 "nbformat": 4,
 "nbformat_minor": 5
}
