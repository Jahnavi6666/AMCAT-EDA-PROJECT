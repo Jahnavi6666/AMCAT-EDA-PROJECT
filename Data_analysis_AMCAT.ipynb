{
 "cells": [
  {
   "cell_type": "code",
   "execution_count": 4,
   "id": "692d2870-f937-4f05-8373-bd623d0d188a",
   "metadata": {},
   "outputs": [],
   "source": [
    "import pandas as pd\n",
    "import numpy as np\n",
    "import matplotlib.pyplot as plt\n",
    "import seaborn as sns"
   ]
  },
  {
   "cell_type": "code",
   "execution_count": 6,
   "id": "a6a29de2-87fd-46c1-b4cc-2f2bd6d72f7d",
   "metadata": {},
   "outputs": [],
   "source": [
    "df = pd.read_excel(r'clean_AMCAT_file_final.xlsx')"
   ]
  },
  {
   "cell_type": "code",
   "execution_count": 3,
   "id": "9277452f-64df-4bdc-863d-7cf50b1eb058",
   "metadata": {},
   "outputs": [
    {
     "data": {
      "text/html": [
       "<div>\n",
       "<style scoped>\n",
       "    .dataframe tbody tr th:only-of-type {\n",
       "        vertical-align: middle;\n",
       "    }\n",
       "\n",
       "    .dataframe tbody tr th {\n",
       "        vertical-align: top;\n",
       "    }\n",
       "\n",
       "    .dataframe thead th {\n",
       "        text-align: right;\n",
       "    }\n",
       "</style>\n",
       "<table border=\"1\" class=\"dataframe\">\n",
       "  <thead>\n",
       "    <tr style=\"text-align: right;\">\n",
       "      <th></th>\n",
       "      <th>Salary</th>\n",
       "      <th>DOJ</th>\n",
       "      <th>DOL</th>\n",
       "      <th>Designation</th>\n",
       "      <th>JobCity</th>\n",
       "      <th>Gender</th>\n",
       "      <th>DOB</th>\n",
       "      <th>10percentage</th>\n",
       "      <th>10board</th>\n",
       "      <th>12graduation</th>\n",
       "      <th>...</th>\n",
       "      <th>Domain</th>\n",
       "      <th>ComputerProgramming</th>\n",
       "      <th>ElectronicsAndSemicon</th>\n",
       "      <th>ComputerScience</th>\n",
       "      <th>conscientiousness</th>\n",
       "      <th>agreeableness</th>\n",
       "      <th>extraversion</th>\n",
       "      <th>nueroticism</th>\n",
       "      <th>openess_to_experience</th>\n",
       "      <th>Tenure</th>\n",
       "    </tr>\n",
       "  </thead>\n",
       "  <tbody>\n",
       "    <tr>\n",
       "      <th>0</th>\n",
       "      <td>420000</td>\n",
       "      <td>2012-06-01</td>\n",
       "      <td>2016-01-01</td>\n",
       "      <td>Senior quality engineer</td>\n",
       "      <td>Bangalore</td>\n",
       "      <td>f</td>\n",
       "      <td>1990-02-19</td>\n",
       "      <td>84.3</td>\n",
       "      <td>board ofsecondary education,ap</td>\n",
       "      <td>2007</td>\n",
       "      <td>...</td>\n",
       "      <td>0.635979</td>\n",
       "      <td>445.0</td>\n",
       "      <td>NaN</td>\n",
       "      <td>NaN</td>\n",
       "      <td>0.9737</td>\n",
       "      <td>0.8128</td>\n",
       "      <td>0.5269</td>\n",
       "      <td>1.35490</td>\n",
       "      <td>-0.4455</td>\n",
       "      <td>3.6</td>\n",
       "    </tr>\n",
       "    <tr>\n",
       "      <th>1</th>\n",
       "      <td>500000</td>\n",
       "      <td>2013-09-01</td>\n",
       "      <td>2016-01-01</td>\n",
       "      <td>Assistant manager</td>\n",
       "      <td>Indore</td>\n",
       "      <td>m</td>\n",
       "      <td>1989-10-04</td>\n",
       "      <td>85.4</td>\n",
       "      <td>cbse</td>\n",
       "      <td>2007</td>\n",
       "      <td>...</td>\n",
       "      <td>0.960603</td>\n",
       "      <td>NaN</td>\n",
       "      <td>466.0</td>\n",
       "      <td>NaN</td>\n",
       "      <td>-0.7335</td>\n",
       "      <td>0.3789</td>\n",
       "      <td>1.2396</td>\n",
       "      <td>-0.10760</td>\n",
       "      <td>0.8637</td>\n",
       "      <td>2.3</td>\n",
       "    </tr>\n",
       "    <tr>\n",
       "      <th>2</th>\n",
       "      <td>325000</td>\n",
       "      <td>2014-06-01</td>\n",
       "      <td>2016-01-01</td>\n",
       "      <td>Systems engineer</td>\n",
       "      <td>Chennai</td>\n",
       "      <td>f</td>\n",
       "      <td>1992-08-03</td>\n",
       "      <td>85.0</td>\n",
       "      <td>cbse</td>\n",
       "      <td>2010</td>\n",
       "      <td>...</td>\n",
       "      <td>0.450877</td>\n",
       "      <td>395.0</td>\n",
       "      <td>NaN</td>\n",
       "      <td>NaN</td>\n",
       "      <td>0.2718</td>\n",
       "      <td>1.7109</td>\n",
       "      <td>0.1637</td>\n",
       "      <td>-0.86820</td>\n",
       "      <td>0.6721</td>\n",
       "      <td>1.6</td>\n",
       "    </tr>\n",
       "    <tr>\n",
       "      <th>3</th>\n",
       "      <td>1100000</td>\n",
       "      <td>2011-07-01</td>\n",
       "      <td>2016-01-01</td>\n",
       "      <td>Senior software engineer</td>\n",
       "      <td>Gurgaon</td>\n",
       "      <td>m</td>\n",
       "      <td>1989-12-05</td>\n",
       "      <td>85.6</td>\n",
       "      <td>cbse</td>\n",
       "      <td>2007</td>\n",
       "      <td>...</td>\n",
       "      <td>0.974396</td>\n",
       "      <td>615.0</td>\n",
       "      <td>NaN</td>\n",
       "      <td>NaN</td>\n",
       "      <td>0.0464</td>\n",
       "      <td>0.3448</td>\n",
       "      <td>-0.3440</td>\n",
       "      <td>-0.40780</td>\n",
       "      <td>-0.9194</td>\n",
       "      <td>4.5</td>\n",
       "    </tr>\n",
       "    <tr>\n",
       "      <th>4</th>\n",
       "      <td>200000</td>\n",
       "      <td>2014-03-01</td>\n",
       "      <td>2015-03-01</td>\n",
       "      <td>Get</td>\n",
       "      <td>Bhubaneswar</td>\n",
       "      <td>m</td>\n",
       "      <td>1991-02-27</td>\n",
       "      <td>78.0</td>\n",
       "      <td>cbse</td>\n",
       "      <td>2008</td>\n",
       "      <td>...</td>\n",
       "      <td>0.124502</td>\n",
       "      <td>NaN</td>\n",
       "      <td>233.0</td>\n",
       "      <td>NaN</td>\n",
       "      <td>-0.8810</td>\n",
       "      <td>-0.2793</td>\n",
       "      <td>-1.0697</td>\n",
       "      <td>0.09163</td>\n",
       "      <td>-0.1295</td>\n",
       "      <td>1.0</td>\n",
       "    </tr>\n",
       "  </tbody>\n",
       "</table>\n",
       "<p>5 rows × 32 columns</p>\n",
       "</div>"
      ],
      "text/plain": [
       "    Salary        DOJ        DOL               Designation      JobCity  \\\n",
       "0   420000 2012-06-01 2016-01-01   Senior quality engineer    Bangalore   \n",
       "1   500000 2013-09-01 2016-01-01         Assistant manager       Indore   \n",
       "2   325000 2014-06-01 2016-01-01          Systems engineer      Chennai   \n",
       "3  1100000 2011-07-01 2016-01-01  Senior software engineer      Gurgaon   \n",
       "4   200000 2014-03-01 2015-03-01                       Get  Bhubaneswar   \n",
       "\n",
       "  Gender        DOB  10percentage                         10board  \\\n",
       "0      f 1990-02-19          84.3  board ofsecondary education,ap   \n",
       "1      m 1989-10-04          85.4                            cbse   \n",
       "2      f 1992-08-03          85.0                            cbse   \n",
       "3      m 1989-12-05          85.6                            cbse   \n",
       "4      m 1991-02-27          78.0                            cbse   \n",
       "\n",
       "   12graduation  ...    Domain ComputerProgramming  ElectronicsAndSemicon  \\\n",
       "0          2007  ...  0.635979               445.0                    NaN   \n",
       "1          2007  ...  0.960603                 NaN                  466.0   \n",
       "2          2010  ...  0.450877               395.0                    NaN   \n",
       "3          2007  ...  0.974396               615.0                    NaN   \n",
       "4          2008  ...  0.124502                 NaN                  233.0   \n",
       "\n",
       "  ComputerScience conscientiousness  agreeableness  extraversion nueroticism  \\\n",
       "0             NaN            0.9737         0.8128        0.5269     1.35490   \n",
       "1             NaN           -0.7335         0.3789        1.2396    -0.10760   \n",
       "2             NaN            0.2718         1.7109        0.1637    -0.86820   \n",
       "3             NaN            0.0464         0.3448       -0.3440    -0.40780   \n",
       "4             NaN           -0.8810        -0.2793       -1.0697     0.09163   \n",
       "\n",
       "   openess_to_experience  Tenure  \n",
       "0                -0.4455     3.6  \n",
       "1                 0.8637     2.3  \n",
       "2                 0.6721     1.6  \n",
       "3                -0.9194     4.5  \n",
       "4                -0.1295     1.0  \n",
       "\n",
       "[5 rows x 32 columns]"
      ]
     },
     "execution_count": 3,
     "metadata": {},
     "output_type": "execute_result"
    }
   ],
   "source": [
    "df.head()"
   ]
  },
  {
   "cell_type": "code",
   "execution_count": 7,
   "id": "c1197b1b-3fce-4e71-8c58-1ff68d21a4fd",
   "metadata": {},
   "outputs": [
    {
     "data": {
      "text/plain": [
       "(3998, 32)"
      ]
     },
     "execution_count": 7,
     "metadata": {},
     "output_type": "execute_result"
    }
   ],
   "source": [
    "df.shape"
   ]
  },
  {
   "cell_type": "code",
   "execution_count": 9,
   "id": "cf43cd07-8e57-4b17-8117-452e098625a2",
   "metadata": {},
   "outputs": [
    {
     "name": "stdout",
     "output_type": "stream",
     "text": [
      "<class 'pandas.core.frame.DataFrame'>\n",
      "RangeIndex: 3998 entries, 0 to 3997\n",
      "Data columns (total 32 columns):\n",
      " #   Column                 Non-Null Count  Dtype         \n",
      "---  ------                 --------------  -----         \n",
      " 0   Salary                 3998 non-null   int64         \n",
      " 1   DOJ                    3998 non-null   datetime64[ns]\n",
      " 2   DOL                    3998 non-null   datetime64[ns]\n",
      " 3   Designation            3998 non-null   object        \n",
      " 4   JobCity                3998 non-null   object        \n",
      " 5   Gender                 3998 non-null   object        \n",
      " 6   DOB                    3998 non-null   datetime64[ns]\n",
      " 7   10percentage           3998 non-null   float64       \n",
      " 8   10board                3998 non-null   object        \n",
      " 9   12graduation           3998 non-null   int64         \n",
      " 10  12percentage           3998 non-null   float64       \n",
      " 11  12board                3998 non-null   object        \n",
      " 12  CollegeTier            3998 non-null   int64         \n",
      " 13  Degree                 3998 non-null   object        \n",
      " 14  Specialization         3998 non-null   object        \n",
      " 15  collegePercent         3998 non-null   float64       \n",
      " 16  CollegeCityTier        3998 non-null   int64         \n",
      " 17  CollegeState           3998 non-null   object        \n",
      " 18  GraduationYear         3998 non-null   int64         \n",
      " 19  English                3998 non-null   int64         \n",
      " 20  Logical                3998 non-null   int64         \n",
      " 21  Quant                  3998 non-null   int64         \n",
      " 22  Domain                 3752 non-null   float64       \n",
      " 23  ComputerProgramming    3130 non-null   float64       \n",
      " 24  ElectronicsAndSemicon  1144 non-null   float64       \n",
      " 25  ComputerScience        902 non-null    float64       \n",
      " 26  conscientiousness      3998 non-null   float64       \n",
      " 27  agreeableness          3998 non-null   float64       \n",
      " 28  extraversion           3998 non-null   float64       \n",
      " 29  nueroticism            3998 non-null   float64       \n",
      " 30  openess_to_experience  3998 non-null   float64       \n",
      " 31  Tenure                 3998 non-null   float64       \n",
      "dtypes: datetime64[ns](3), float64(13), int64(8), object(8)\n",
      "memory usage: 999.6+ KB\n"
     ]
    }
   ],
   "source": [
    "df.info()"
   ]
  },
  {
   "cell_type": "code",
   "execution_count": null,
   "id": "a2270be2-2804-43b1-a3a4-43d0d5aee6a4",
   "metadata": {},
   "outputs": [],
   "source": []
  },
  {
   "cell_type": "markdown",
   "id": "922c546d-3a19-4539-8460-e852a6462ba2",
   "metadata": {},
   "source": [
    "### Univariate --- Categorical analysis"
   ]
  },
  {
   "cell_type": "code",
   "execution_count": 12,
   "id": "ab5b1997-6b8a-4170-a9e0-e89d855c7856",
   "metadata": {},
   "outputs": [
    {
     "data": {
      "text/plain": [
       "Index(['Salary', 'DOJ', 'DOL', 'Designation', 'JobCity', 'Gender', 'DOB',\n",
       "       '10percentage', '10board', '12graduation', '12percentage', '12board',\n",
       "       'CollegeTier', 'Degree', 'Specialization', 'collegePercent',\n",
       "       'CollegeCityTier', 'CollegeState', 'GraduationYear', 'English',\n",
       "       'Logical', 'Quant', 'Domain', 'ComputerProgramming',\n",
       "       'ElectronicsAndSemicon', 'ComputerScience', 'conscientiousness',\n",
       "       'agreeableness', 'extraversion', 'nueroticism', 'openess_to_experience',\n",
       "       'Tenure'],\n",
       "      dtype='object')"
      ]
     },
     "execution_count": 12,
     "metadata": {},
     "output_type": "execute_result"
    }
   ],
   "source": [
    "df.columns"
   ]
  },
  {
   "cell_type": "code",
   "execution_count": 14,
   "id": "9991aad7-a104-4b12-94ca-598b392c225e",
   "metadata": {},
   "outputs": [],
   "source": [
    "cat_columns = ['Designation', 'JobCity', 'Gender', 'Degree', 'Specialization', 'CollegeState']"
   ]
  },
  {
   "cell_type": "markdown",
   "id": "bddff0a4-3599-4e4f-a1dd-39caa183b69a",
   "metadata": {},
   "source": [
    "#### Question --- What is the designation of most of the candidates"
   ]
  },
  {
   "cell_type": "code",
   "execution_count": 4,
   "id": "5c383dcd-505b-4f07-a34d-be38677ef0b7",
   "metadata": {},
   "outputs": [],
   "source": [
    "val_count_desig_top10 = df['Designation'].value_counts(normalize = 'all').head(10)"
   ]
  },
  {
   "cell_type": "code",
   "execution_count": 5,
   "id": "83df4133-26c7-4db2-920d-163a21736223",
   "metadata": {},
   "outputs": [
    {
     "data": {
      "text/plain": [
       "array([13.48,  6.63,  5.13,  3.48,  2.95,  2.78,  2.5 ,  1.93,  1.9 ,\n",
       "        1.8 ])"
      ]
     },
     "execution_count": 5,
     "metadata": {},
     "output_type": "execute_result"
    }
   ],
   "source": [
    "np.round(val_count_desig_top10.values*100, decimals = 2)"
   ]
  },
  {
   "cell_type": "code",
   "execution_count": 6,
   "id": "26554c36-163f-4223-9220-fb0406567154",
   "metadata": {},
   "outputs": [],
   "source": [
    "val_count_desig_top10[:] = np.round(val_count_desig_top10.values*100, decimals = 2)"
   ]
  },
  {
   "cell_type": "code",
   "execution_count": 7,
   "id": "43d6b96e-73fb-4e26-9eb9-7cd0c11ffdac",
   "metadata": {},
   "outputs": [],
   "source": [
    "valcount_desig_sorted = val_count_desig_top10.sort_values()"
   ]
  },
  {
   "cell_type": "code",
   "execution_count": 8,
   "id": "aa9d4609-bc67-4004-847a-81633746e172",
   "metadata": {},
   "outputs": [
    {
     "data": {
      "image/png": "[encoded data removed]",
      "text/plain": [
       "<Figure size 800x300 with 1 Axes>"
      ]
     },
     "metadata": {},
     "output_type": "display_data"
    }
   ],
   "source": [
    "plt.figure(figsize = (8,3))\n",
    "plt.barh(valcount_desig_sorted.index, valcount_desig_sorted.values, ec = 'black')\n",
    "plt.title('Top 10 Designations')\n",
    "plt.xlabel('Percent')\n",
    "plt.tight_layout()\n",
    "plt.show()"
   ]
  },
  {
   "cell_type": "markdown",
   "id": "9a7d6d3f-e06a-4be6-8bc4-f4ce80b2f4e0",
   "metadata": {},
   "source": [
    "#### Observations\n",
    "\n",
    "* Most of the candidates are working as Software developer/engineer.\n",
    "* Can say that most of the candidates are working in software field."
   ]
  },
  {
   "cell_type": "markdown",
   "id": "736ad38a-09cc-4bfd-a7d2-ca428ae58ba4",
   "metadata": {},
   "source": [
    "#### Question ---- Which city has more job opportunities or in which cities are most of the candidates working"
   ]
  },
  {
   "cell_type": "code",
   "execution_count": 17,
   "id": "bad5a427-0292-4b68-b9ac-c1c9bc4ee07c",
   "metadata": {},
   "outputs": [],
   "source": [
    "val_count_JobCity_top10 = df['JobCity'].value_counts(normalize = 'all').head(10)"
   ]
  },
  {
   "cell_type": "code",
   "execution_count": 19,
   "id": "d9a41ed0-797c-4776-b677-136f2363cb4a",
   "metadata": {},
   "outputs": [
    {
     "data": {
      "text/plain": [
       "JobCity\n",
       "Bangalore    0.288894\n",
       "Noida        0.097799\n",
       "Hyderabad    0.092796\n",
       "Pune         0.082041\n",
       "Chennai      0.078789\n",
       "New Delhi    0.056778\n",
       "Gurgaon      0.055778\n",
       "Mumbai       0.038269\n",
       "Kolkata      0.029765\n",
       "Jaipur       0.013257\n",
       "Name: proportion, dtype: float64"
      ]
     },
     "execution_count": 19,
     "metadata": {},
     "output_type": "execute_result"
    }
   ],
   "source": [
    "val_count_JobCity_top10"
   ]
  },
  {
   "cell_type": "code",
   "execution_count": 21,
   "id": "2726fa49-002f-418c-9540-6e939fd11f49",
   "metadata": {},
   "outputs": [],
   "source": [
    "val_count_JobCity_top10[:] = np.round(val_count_JobCity_top10.values * 100, decimals = 2)"
   ]
  },
  {
   "cell_type": "markdown",
   "id": "45d8b291-bc01-4a03-9b0d-eafc6ff66b94",
   "metadata": {},
   "source": [
    "* what is hapenning here is, when we are slicing...it is updating the value based on the index.\n",
    "* since the new values are list or array, slicing works here\n",
    "* If we don't use slicing, then it just saving the new values array in this variable without index"
   ]
  },
  {
   "cell_type": "code",
   "execution_count": 23,
   "id": "c4b01d52-c2c5-410e-a49b-1c1cedef3329",
   "metadata": {},
   "outputs": [
    {
     "data": {
      "text/plain": [
       "JobCity\n",
       "Bangalore    28.89\n",
       "Noida         9.78\n",
       "Hyderabad     9.28\n",
       "Pune          8.20\n",
       "Chennai       7.88\n",
       "New Delhi     5.68\n",
       "Gurgaon       5.58\n",
       "Mumbai        3.83\n",
       "Kolkata       2.98\n",
       "Jaipur        1.33\n",
       "Name: proportion, dtype: float64"
      ]
     },
     "execution_count": 23,
     "metadata": {},
     "output_type": "execute_result"
    }
   ],
   "source": [
    "val_count_JobCity_top10"
   ]
  },
  {
   "cell_type": "code",
   "execution_count": 27,
   "id": "c712ca48-ae22-4eb9-a61d-850749b659ad",
   "metadata": {},
   "outputs": [],
   "source": [
    "valcount_JobCity_sorted = val_count_JobCity_top10.sort_values()"
   ]
  },
  {
   "cell_type": "code",
   "execution_count": 29,
   "id": "612b2339-82d4-4e17-9164-7ab8e4b7f850",
   "metadata": {},
   "outputs": [
    {
     "data": {
      "image/png": "[encoded data removed]",
      "text/plain": [
       "<Figure size 800x300 with 1 Axes>"
      ]
     },
     "metadata": {},
     "output_type": "display_data"
    }
   ],
   "source": [
    "plt.figure(figsize = (8,3))\n",
    "plt.barh(valcount_JobCity_sorted.index, valcount_JobCity_sorted.values, ec = 'black', color = 'brown')\n",
    "plt.title('Cities where the candidates are working')\n",
    "plt.xlabel('Percent')\n",
    "plt.tight_layout()\n",
    "plt.show()"
   ]
  },
  {
   "cell_type": "markdown",
   "id": "d1d68229-6790-47bc-8ec6-5396c4ed40b6",
   "metadata": {},
   "source": [
    "#### Observations\n",
    "\n",
    "* Most of candidates are doing their Job in Bangalore. Like almost 29% of candidates work in Bangalore.\n",
    "* Almost 10 % of candidates work in Noida, and 9% in Hyderabad.\n",
    "* The reason might be that most of the candidates live near Bangalore or noida or Hyderabad. Or these cities offer more opportunities compared to the rest."
   ]
  },
  {
   "cell_type": "code",
   "execution_count": null,
   "id": "6e8ba918-ab5b-4c3a-8c11-add93b03fd43",
   "metadata": {},
   "outputs": [],
   "source": []
  },
  {
   "cell_type": "markdown",
   "id": "a4dd310d-e319-452e-9fb7-b96a80a01a6f",
   "metadata": {},
   "source": [
    "#### Question --- distribution of male and female"
   ]
  },
  {
   "cell_type": "code",
   "execution_count": 42,
   "id": "197a0769-827a-4bc6-8d25-b2b3a99b620e",
   "metadata": {},
   "outputs": [],
   "source": [
    "val_count_gender = df['Gender'].value_counts(normalize = 'all').sort_values()"
   ]
  },
  {
   "cell_type": "code",
   "execution_count": 44,
   "id": "ec2a808d-2085-4665-af03-c4a38e3004dc",
   "metadata": {},
   "outputs": [
    {
     "data": {
      "text/plain": [
       "Gender\n",
       "f    0.23937\n",
       "m    0.76063\n",
       "Name: proportion, dtype: float64"
      ]
     },
     "execution_count": 44,
     "metadata": {},
     "output_type": "execute_result"
    }
   ],
   "source": [
    "val_count_gender"
   ]
  },
  {
   "cell_type": "code",
   "execution_count": 73,
   "id": "79b400a9-6542-4b3a-9b54-2f965b3a6e89",
   "metadata": {},
   "outputs": [
    {
     "data": {
      "image/png": "[encoded data removed]",
      "text/plain": [
       "<Figure size 800x200 with 1 Axes>"
      ]
     },
     "metadata": {},
     "output_type": "display_data"
    }
   ],
   "source": [
    "plt.figure(figsize = (8,2))\n",
    "plt.pie(val_count_gender.values, labels = ['Female', 'Male'], autopct='%1.1f%%', wedgeprops={'width': 0.4, 'edgecolor' : 'black'}, pctdistance = 1.4)\n",
    "plt.axis('equal')\n",
    "plt.title('Gender distribution of candidates')\n",
    "plt.show()"
   ]
  },
  {
   "cell_type": "markdown",
   "id": "ac13dccb-1bb8-4f1d-a555-4ac1ade9537c",
   "metadata": {},
   "source": [
    "#### Observations\n",
    "\n",
    "* Looks like this data can be biased, cause 76% of the candidates are male."
   ]
  },
  {
   "cell_type": "code",
   "execution_count": null,
   "id": "1a06a4a6-5a95-4e68-9ff8-f5f435781790",
   "metadata": {},
   "outputs": [],
   "source": []
  },
  {
   "cell_type": "markdown",
   "id": "3a9d9b22-1577-40d1-836f-3fae6035f365",
   "metadata": {},
   "source": [
    "#### Question --- Degree of the candidates"
   ]
  },
  {
   "cell_type": "code",
   "execution_count": 67,
   "id": "512eebfe-c029-4ceb-a2d3-bb1eb05d23d8",
   "metadata": {},
   "outputs": [],
   "source": [
    "val_count_Degree = df['Degree'].value_counts(normalize = 'all').sort_values()"
   ]
  },
  {
   "cell_type": "code",
   "execution_count": 101,
   "id": "f91f2b59-45de-46ac-a4e7-904741080bd6",
   "metadata": {},
   "outputs": [],
   "source": [
    "val_count_Degree[:] = np.round(val_count_Degree.values * 100, decimals = 2)"
   ]
  },
  {
   "cell_type": "code",
   "execution_count": 103,
   "id": "66da599a-f540-4326-8c96-e70571ad3944",
   "metadata": {},
   "outputs": [
    {
     "data": {
      "text/plain": [
       "Degree\n",
       "M.sc. (tech.)     0.05\n",
       "M.tech./m.e.      1.33\n",
       "Mca               6.08\n",
       "B.tech/b.e.      92.55\n",
       "Name: proportion, dtype: float64"
      ]
     },
     "execution_count": 103,
     "metadata": {},
     "output_type": "execute_result"
    }
   ],
   "source": [
    "val_count_Degree"
   ]
  },
  {
   "cell_type": "code",
   "execution_count": 105,
   "id": "d2b24fb1-6665-4267-bc5e-e12f55eed8dd",
   "metadata": {},
   "outputs": [
    {
     "data": {
      "image/png": "[encoded data removed]",
      "text/plain": [
       "<Figure size 700x200 with 1 Axes>"
      ]
     },
     "metadata": {},
     "output_type": "display_data"
    }
   ],
   "source": [
    "plt.figure(figsize = (7,2))\n",
    "plt.barh(val_count_Degree.index, val_count_Degree.values, ec = 'black', color = 'lightgreen')\n",
    "plt.title('Degree of candidates')\n",
    "plt.xlabel('percent')\n",
    "plt.show()"
   ]
  },
  {
   "cell_type": "markdown",
   "id": "6c09ceb8-cfba-44a1-8034-dc4150ae4c5b",
   "metadata": {},
   "source": [
    "#### Observations\n",
    "\n",
    "* Most of the candidates did B.Tech/B.E. (almost 92%) maybe because this course was in demand during 2010s or maybe this stream had good job opportunities after completing this degree.\n",
    "* Or people were interested in engineering.\n",
    "* 6% of the candidates did MCA"
   ]
  },
  {
   "cell_type": "code",
   "execution_count": null,
   "id": "c88dfec2-b00a-4eea-9efd-13370126ae4f",
   "metadata": {},
   "outputs": [],
   "source": []
  },
  {
   "cell_type": "markdown",
   "id": "e50a798c-6413-40c5-a7eb-b213791ab484",
   "metadata": {},
   "source": [
    "#### Question -- what was the preferred specialization by most of the candidates"
   ]
  },
  {
   "cell_type": "code",
   "execution_count": 8,
   "id": "138319a4-d8d5-453c-ab52-fca29a2dd4f0",
   "metadata": {},
   "outputs": [],
   "source": [
    "val_count_specialization_top5 = df['Specialization'].value_counts(normalize = 'all').head().sort_values()"
   ]
  },
  {
   "cell_type": "code",
   "execution_count": 10,
   "id": "1cd11c8e-d529-414b-a887-aae07221973b",
   "metadata": {},
   "outputs": [],
   "source": [
    "val_count_specialization_top5[:] = np.round(val_count_specialization_top5.values * 100, 2)"
   ]
  },
  {
   "cell_type": "code",
   "execution_count": 12,
   "id": "f3865a79-615c-495b-aeee-2bd422443e0e",
   "metadata": {},
   "outputs": [
    {
     "data": {
      "text/plain": [
       "Specialization\n",
       "Civil engineering       0.73\n",
       "Mechanical              5.40\n",
       "EEE                     7.03\n",
       "ECE_instrumentation    28.11\n",
       "CS                     57.23\n",
       "Name: proportion, dtype: float64"
      ]
     },
     "execution_count": 12,
     "metadata": {},
     "output_type": "execute_result"
    }
   ],
   "source": [
    "val_count_specialization_top5"
   ]
  },
  {
   "cell_type": "code",
   "execution_count": 16,
   "id": "fecbec7b-35bc-4459-a7f8-92c4f0e43398",
   "metadata": {},
   "outputs": [
    {
     "data": {
      "image/png": "[encoded data removed]",
      "text/plain": [
       "<Figure size 500x200 with 1 Axes>"
      ]
     },
     "metadata": {},
     "output_type": "display_data"
    }
   ],
   "source": [
    "plt.figure(figsize = (5,2))\n",
    "plt.barh(val_count_specialization_top5.index, val_count_specialization_top5.values, ec = 'black', color = 'lavender')\n",
    "plt.title('Preferred specialization by candidates')\n",
    "plt.xlabel('percent')\n",
    "plt.show()"
   ]
  },
  {
   "cell_type": "markdown",
   "id": "403fc440-addb-434d-a571-0e28f2e776f2",
   "metadata": {},
   "source": [
    "#### Observations\n",
    "\n",
    "* 57% of candidates took Computer Science or maybe 57% of candidates might be interested in learning Computer science.\n",
    "* 28% of candidates did Electronics, or Telecommunications or Instrumentation course.\n",
    "* Less than 1% of candidates did civil engineering."
   ]
  },
  {
   "cell_type": "code",
   "execution_count": null,
   "id": "27be66c3-c023-4d86-942e-67edf4d4d0ea",
   "metadata": {},
   "outputs": [],
   "source": []
  },
  {
   "cell_type": "markdown",
   "id": "4f701fd3-d9a6-4c95-a25a-a6e6ff609c36",
   "metadata": {},
   "source": [
    "#### Question --- From which states did candidates do their degree"
   ]
  },
  {
   "cell_type": "code",
   "execution_count": 131,
   "id": "8c20320e-6c5c-4fda-afb6-50f3ff0d78cf",
   "metadata": {},
   "outputs": [],
   "source": [
    "val_count_collegecity_top10 = df['CollegeState'].value_counts(normalize = 'all').head(10).sort_values()"
   ]
  },
  {
   "cell_type": "code",
   "execution_count": 135,
   "id": "b4bda6d8-3679-4cab-9d85-cba31615e9cc",
   "metadata": {},
   "outputs": [],
   "source": [
    "val_count_collegecity_top10[:] = np.round(val_count_collegecity_top10.values * 100, decimals = 2)"
   ]
  },
  {
   "cell_type": "code",
   "execution_count": 137,
   "id": "5b6908f0-b38b-4f0c-9603-82f65a3c0499",
   "metadata": {},
   "outputs": [
    {
     "data": {
      "text/plain": [
       "CollegeState\n",
       "Haryana            4.50\n",
       "Madhya pradesh     4.73\n",
       "Punjab             4.83\n",
       "West bengal        4.90\n",
       "Andhra pradesh     5.63\n",
       "Maharashtra        6.55\n",
       "Telangana          7.98\n",
       "Tamil nadu         9.18\n",
       "Karnataka          9.25\n",
       "Uttar pradesh     22.89\n",
       "Name: proportion, dtype: float64"
      ]
     },
     "execution_count": 137,
     "metadata": {},
     "output_type": "execute_result"
    }
   ],
   "source": [
    "val_count_collegecity_top10"
   ]
  },
  {
   "cell_type": "code",
   "execution_count": 139,
   "id": "f57b7951-82ee-4d75-9090-885d08919958",
   "metadata": {},
   "outputs": [
    {
     "data": {
      "image/png": "[encoded data removed]",
      "text/plain": [
       "<Figure size 800x300 with 1 Axes>"
      ]
     },
     "metadata": {},
     "output_type": "display_data"
    }
   ],
   "source": [
    "plt.figure(figsize = (8,3))\n",
    "plt.barh(val_count_collegecity_top10.index, val_count_collegecity_top10.values, ec = 'black', color = 'grey')\n",
    "plt.title('State where candidates did their degree')\n",
    "plt.xlabel('percent')\n",
    "plt.show()"
   ]
  },
  {
   "cell_type": "markdown",
   "id": "b8d694f6-5361-4dc7-bf2d-9a7a30eef601",
   "metadata": {},
   "source": [
    "#### Observations\n",
    "* almost 23% of candidates did Degree in Uttar Pradesh, few of the reasons might be there are more people of 18 - 22 years age in Uttar Pradesh compared to rest of the states or there are good colleges in Uttar Pradesh(most of IITs and NITs are in Uttar Pradesh).\n",
    "* 9% of people did their defree in Karnataka and 9% from Tamil Nadu. "
   ]
  },
  {
   "cell_type": "code",
   "execution_count": null,
   "id": "3e8d7a16-ef9b-4d48-b401-06c01e1cf643",
   "metadata": {},
   "outputs": [],
   "source": []
  },
  {
   "cell_type": "markdown",
   "id": "8d882117-c867-4b8b-9ca2-8dec457b1f59",
   "metadata": {},
   "source": [
    "#### Question ---- From which tier college did most of the candidates graduate"
   ]
  },
  {
   "cell_type": "code",
   "execution_count": 143,
   "id": "8e8aa72a-d8da-4ccf-b3a2-7850a76cfdc9",
   "metadata": {},
   "outputs": [],
   "source": [
    "val_count_college_tier = df['CollegeTier'].value_counts(normalize = 'all').sort_values()"
   ]
  },
  {
   "cell_type": "code",
   "execution_count": 145,
   "id": "627b6905-a1bd-4f5c-81a1-870dbdceee1f",
   "metadata": {},
   "outputs": [
    {
     "data": {
      "text/plain": [
       "CollegeTier\n",
       "1    0.074287\n",
       "2    0.925713\n",
       "Name: proportion, dtype: float64"
      ]
     },
     "execution_count": 145,
     "metadata": {},
     "output_type": "execute_result"
    }
   ],
   "source": [
    "val_count_college_tier"
   ]
  },
  {
   "cell_type": "code",
   "execution_count": 153,
   "id": "5e2a4c3d-6f13-4964-a98a-a3736f9b5db0",
   "metadata": {},
   "outputs": [
    {
     "data": {
      "image/png": "[encoded data removed]",
      "text/plain": [
       "<Figure size 800x200 with 1 Axes>"
      ]
     },
     "metadata": {},
     "output_type": "display_data"
    }
   ],
   "source": [
    "plt.figure(figsize = (8,2))\n",
    "plt.pie(val_count_college_tier.values, labels = val_count_college_tier.index, autopct='%1.1f%%', wedgeprops={'width': 0.4, 'edgecolor' : 'black'}, pctdistance = 1.6)\n",
    "plt.axis('equal')\n",
    "plt.title('College tier')\n",
    "plt.show()"
   ]
  },
  {
   "cell_type": "markdown",
   "id": "1f5e9513-d858-4212-949c-511bc02a600c",
   "metadata": {},
   "source": [
    "#### Observations\n",
    "* 92.6% of candidates are from Tier-2 colleges\n",
    "* 7.4% of candidates are from Tier-1 colleges.\n",
    "* It is surprising to see that there are candidates from Tier-3 colleges."
   ]
  },
  {
   "cell_type": "markdown",
   "id": "c8469fa9-c764-4c9a-b56a-eb36b2601726",
   "metadata": {},
   "source": [
    "=========================================\n",
    "========================================"
   ]
  },
  {
   "cell_type": "markdown",
   "id": "46e7623d-5a61-4645-9b3d-effc465d780a",
   "metadata": {},
   "source": [
    "### Univariate -- Numerical analysis"
   ]
  },
  {
   "cell_type": "code",
   "execution_count": 18,
   "id": "04719ff7-98c3-41ab-9f05-24ad522000a7",
   "metadata": {},
   "outputs": [
    {
     "data": {
      "text/plain": [
       "Index(['Salary', 'DOJ', 'DOL', 'Designation', 'JobCity', 'Gender', 'DOB',\n",
       "       '10percentage', '10board', '12graduation', '12percentage', '12board',\n",
       "       'CollegeTier', 'Degree', 'Specialization', 'collegePercent',\n",
       "       'CollegeCityTier', 'CollegeState', 'GraduationYear', 'English',\n",
       "       'Logical', 'Quant', 'Domain', 'ComputerProgramming',\n",
       "       'ElectronicsAndSemicon', 'ComputerScience', 'conscientiousness',\n",
       "       'agreeableness', 'extraversion', 'nueroticism', 'openess_to_experience',\n",
       "       'Tenure'],\n",
       "      dtype='object')"
      ]
     },
     "execution_count": 18,
     "metadata": {},
     "output_type": "execute_result"
    }
   ],
   "source": [
    "df.columns"
   ]
  },
  {
   "cell_type": "markdown",
   "id": "4984bd06-8aea-4980-b594-0e07c446c475",
   "metadata": {},
   "source": [
    "#### Understanding about Salary column"
   ]
  },
  {
   "cell_type": "code",
   "execution_count": 34,
   "id": "802cbee6-5d6e-46a1-9865-843118eb7219",
   "metadata": {},
   "outputs": [
    {
     "data": {
      "text/plain": [
       "min         35,000.00\n",
       "max      4,000,000.00\n",
       "mean       307,699.85\n",
       "median     300,000.00\n",
       "std        212,737.50\n",
       "skew             6.45\n",
       "Name: Salary, dtype: float64"
      ]
     },
     "execution_count": 34,
     "metadata": {},
     "output_type": "execute_result"
    }
   ],
   "source": [
    "pd.options.display.float_format = '{:,.2f}'.format\n",
    "df['Salary'].agg(['min', 'max', 'mean', 'median', 'std', 'skew'])"
   ]
  },
  {
   "cell_type": "markdown",
   "id": "99dee278-6553-4cad-b882-ab015024d686",
   "metadata": {},
   "source": [
    "#### Observations\n",
    "* Median is around 3,00,000. This says that on avg CTC of the candidate is 3,00,000.\n",
    "* Minimum salary is 35k and max salary is 40,00,000\n",
    "* But we can not say this for sure since tenure and designation matters.\n",
    "* skew is 6 which means that most of the data is on the lower side and the rest of the data is on the higher side."
   ]
  },
  {
   "cell_type": "code",
   "execution_count": 37,
   "id": "17e728ac-bf8e-4cdf-9ff7-603ea4343a63",
   "metadata": {},
   "outputs": [
    {
     "data": {
      "text/plain": [
       "<Axes: xlabel='Salary'>"
      ]
     },
     "execution_count": 37,
     "metadata": {},
     "output_type": "execute_result"
    },
    {
     "data": {
      "image/png": "[encoded data removed]",
      "text/plain": [
       "<Figure size 640x480 with 1 Axes>"
      ]
     },
     "metadata": {},
     "output_type": "display_data"
    }
   ],
   "source": [
    "sns.boxplot(x = df['Salary'])"
   ]
  },
  {
   "cell_type": "code",
   "execution_count": 39,
   "id": "82f254e0-1972-4ebf-9f31-6c06dee9b665",
   "metadata": {},
   "outputs": [
    {
     "data": {
      "text/plain": [
       "180000.0"
      ]
     },
     "execution_count": 39,
     "metadata": {},
     "output_type": "execute_result"
    }
   ],
   "source": [
    "df['Salary'].quantile(0.25)"
   ]
  },
  {
   "cell_type": "code",
   "execution_count": 41,
   "id": "136a7560-5906-4090-bf67-54f01dd8fa1e",
   "metadata": {},
   "outputs": [
    {
     "data": {
      "text/plain": [
       "370000.0"
      ]
     },
     "execution_count": 41,
     "metadata": {},
     "output_type": "execute_result"
    }
   ],
   "source": [
    "df['Salary'].quantile(0.75)"
   ]
  },
  {
   "cell_type": "markdown",
   "id": "208f9ee6-c03c-4b14-8973-09c5a2c4baec",
   "metadata": {},
   "source": [
    "#### Observations\n",
    "\n",
    "* 75% of candidate's CTC is less than 3,70,000 and 25% of candidate's CTC is greater than 3,70,000."
   ]
  },
  {
   "cell_type": "code",
   "execution_count": null,
   "id": "6c1f9449-259f-47d0-9eb7-69f61f75e5ac",
   "metadata": {},
   "outputs": [],
   "source": []
  },
  {
   "cell_type": "markdown",
   "id": "62f15fa3-408b-4f82-9c69-f9d098a40a20",
   "metadata": {},
   "source": [
    "#### Understanding Collegepercent distribution"
   ]
  },
  {
   "cell_type": "code",
   "execution_count": 57,
   "id": "ea460c24-7062-423c-8f4a-a6eb513ee4ca",
   "metadata": {},
   "outputs": [
    {
     "data": {
      "text/plain": [
       "min      49.07\n",
       "max      99.93\n",
       "mean     71.70\n",
       "median   71.80\n",
       "std       7.41\n",
       "skew      0.17\n",
       "Name: collegePercent, dtype: float64"
      ]
     },
     "execution_count": 57,
     "metadata": {},
     "output_type": "execute_result"
    }
   ],
   "source": [
    "df['collegePercent'].agg(['min', 'max', 'mean', 'median', 'std', 'skew'])"
   ]
  },
  {
   "cell_type": "markdown",
   "id": "f56fe69d-edac-4885-89c4-29a06f9bb787",
   "metadata": {},
   "source": [
    "#### Observations\n",
    "\n",
    "* On avg every candidate has scored 71% in their degree.\n",
    "* skew is less than 0.5, menas the data is almost symmetrical, means this column follows a bell curve."
   ]
  },
  {
   "cell_type": "code",
   "execution_count": 139,
   "id": "b4c94e69-627f-46f6-951f-330b80b45daf",
   "metadata": {},
   "outputs": [
    {
     "data": {
      "image/png": "[encoded data removed]",
      "text/plain": [
       "<Figure size 640x480 with 1 Axes>"
      ]
     },
     "metadata": {},
     "output_type": "display_data"
    }
   ],
   "source": [
    "plt.hist(df['collegePercent'], rwidth = 0.8, ec = 'black', color = 'green')\n",
    "plt.title('Distribution of colllegepercentage')\n",
    "plt.xlabel('Percentage')\n",
    "plt.ylabel('count')\n",
    "plt.show()"
   ]
  },
  {
   "cell_type": "code",
   "execution_count": 66,
   "id": "0a1861a0-228b-4f24-960f-e0b23be5e809",
   "metadata": {},
   "outputs": [
    {
     "data": {
      "text/plain": [
       "76.4"
      ]
     },
     "execution_count": 66,
     "metadata": {},
     "output_type": "execute_result"
    }
   ],
   "source": [
    "df['collegePercent'].quantile(0.75)"
   ]
  },
  {
   "cell_type": "code",
   "execution_count": 68,
   "id": "eb1d7671-1733-4c75-a608-f2b988a8955b",
   "metadata": {},
   "outputs": [
    {
     "data": {
      "text/plain": [
       "66.505"
      ]
     },
     "execution_count": 68,
     "metadata": {},
     "output_type": "execute_result"
    }
   ],
   "source": [
    "df['collegePercent'].quantile(0.25)"
   ]
  },
  {
   "cell_type": "markdown",
   "id": "411666e3-19a0-467f-a8eb-a881aa9e8426",
   "metadata": {},
   "source": [
    "#### Observations\n",
    "\n",
    "* 75% of candidate's scored more than 66.5% in their degree course."
   ]
  },
  {
   "cell_type": "markdown",
   "id": "77355fad-ec90-4651-8609-b65e3549853c",
   "metadata": {},
   "source": [
    "#### Understanding distribution of English, Quant, and Logical section scores"
   ]
  },
  {
   "cell_type": "code",
   "execution_count": 71,
   "id": "07a3844f-9bc5-4f74-816c-5710f5335f53",
   "metadata": {},
   "outputs": [],
   "source": [
    "scores_num_col = ['English', 'Logical', 'Quant']"
   ]
  },
  {
   "cell_type": "code",
   "execution_count": 81,
   "id": "372dbcd1-7899-4292-a1d1-17ac237319f5",
   "metadata": {},
   "outputs": [
    {
     "name": "stdout",
     "output_type": "stream",
     "text": [
      "**************English column*************\n",
      "\n",
      "75th quantile : 570.0\n",
      "25th quantile : 425.0\n",
      "min      180.00\n",
      "max      875.00\n",
      "mean     501.65\n",
      "median   500.00\n",
      "std      104.94\n",
      "skew       0.19\n",
      "Name: English, dtype: float64\n",
      "\n",
      "**************Logical column*************\n",
      "\n",
      "75th quantile : 565.0\n",
      "25th quantile : 445.0\n",
      "min      195.00\n",
      "max      795.00\n",
      "mean     501.60\n",
      "median   505.00\n",
      "std       86.78\n",
      "skew      -0.22\n",
      "Name: Logical, dtype: float64\n",
      "\n",
      "**************Quant column*************\n",
      "\n",
      "75th quantile : 595.0\n",
      "25th quantile : 430.0\n",
      "min      120.00\n",
      "max      900.00\n",
      "mean     513.38\n",
      "median   515.00\n",
      "std      122.30\n",
      "skew      -0.02\n",
      "Name: Quant, dtype: float64\n",
      "\n"
     ]
    }
   ],
   "source": [
    "for col in scores_num_col:\n",
    "\n",
    "    print(f'**************{col} column*************')\n",
    "    print()\n",
    "    print(f'75th quantile : {df[col].quantile(0.75)}')\n",
    "    print(f'25th quantile : {df[col].quantile(0.25)}')\n",
    "    print(df[col].agg(['min', 'max', 'mean', 'median', 'std', 'skew']))\n",
    "    print()"
   ]
  },
  {
   "cell_type": "markdown",
   "id": "51d11c34-aac2-45c9-9f5d-c332e3a923eb",
   "metadata": {},
   "source": [
    "#### Observations\n",
    "\n",
    "* For quant section, 75% of candidates scored more than 430.\n",
    "* On avg most of candidates scored around 513 in Quant section.\n",
    "\n",
    "* For Logical section, 75% of candidates scored more than 445.\n",
    "* On avg most of the candidates scored around 501 in Logical section.\n",
    "\n",
    "* For English section, 75% of candidates scored more than 425.\n",
    "* On avg most of the candidates scored around 501 in English section."
   ]
  },
  {
   "cell_type": "code",
   "execution_count": 111,
   "id": "56800cbf-90c4-4800-98bb-67ae12214a0d",
   "metadata": {},
   "outputs": [
    {
     "data": {
      "image/png": "[encoded data removed]",
      "text/plain": [
       "<Figure size 1000x300 with 3 Axes>"
      ]
     },
     "metadata": {},
     "output_type": "display_data"
    }
   ],
   "source": [
    " fig, axis = plt.subplots(1, 3, figsize = (10,3))\n",
    "\n",
    "for i in range(len(scores_num_col)):\n",
    "    axis[i].hist(df[scores_num_col[i]], rwidth = 0.8, ec = 'black', color = 'green')\n",
    "    axis[i].set_title(f'Distribution of {scores_num_col[i]}')\n",
    "    axis[i].set_xlabel(scores_num_col[i])\n",
    "    axis[i].set_ylabel('count')\n",
    "\n",
    "plt.show()"
   ]
  },
  {
   "cell_type": "markdown",
   "id": "3d4a997b-bdff-45ec-a866-979ac4fb6ac0",
   "metadata": {},
   "source": [
    "#### Observations\n",
    "\n",
    "* English, quant and logical scores are almost symmetric. It means that there are candidates who scored less, high and somewhere in between."
   ]
  },
  {
   "cell_type": "code",
   "execution_count": null,
   "id": "26ef4099-8ad8-4e79-a7c7-e5e5773591d3",
   "metadata": {},
   "outputs": [],
   "source": []
  },
  {
   "cell_type": "markdown",
   "id": "bc35473b-528d-4b32-9e29-e30c9e0b6f65",
   "metadata": {},
   "source": [
    "#### Understanding distribtion of tenure column"
   ]
  },
  {
   "cell_type": "code",
   "execution_count": 117,
   "id": "648c6436-25b1-475b-a107-205a85c481d7",
   "metadata": {},
   "outputs": [
    {
     "data": {
      "text/plain": [
       "min       0.00\n",
       "max      24.60\n",
       "mean      1.74\n",
       "median    1.50\n",
       "std       1.21\n",
       "skew      2.60\n",
       "Name: Tenure, dtype: float64"
      ]
     },
     "execution_count": 117,
     "metadata": {},
     "output_type": "execute_result"
    }
   ],
   "source": [
    "df['Tenure'].agg(['min', 'max', 'mean', 'median', 'std', 'skew'])"
   ]
  },
  {
   "cell_type": "markdown",
   "id": "7da42adf-d8e3-4d89-b080-895298043d4a",
   "metadata": {},
   "source": [
    "#### Observations\n",
    "* On avg most of candidates have experience of around 1 and half year.\n",
    "* And there is someone who has 24 years of experience in the dataset."
   ]
  },
  {
   "cell_type": "code",
   "execution_count": 122,
   "id": "9281f7cc-da0f-4c3a-9bc7-7e3dda2d23fc",
   "metadata": {},
   "outputs": [
    {
     "data": {
      "image/png": "[encoded data removed]",
      "text/plain": [
       "<Figure size 640x480 with 1 Axes>"
      ]
     },
     "metadata": {},
     "output_type": "display_data"
    }
   ],
   "source": [
    "sns.boxplot(x = df['Tenure'])\n",
    "plt.show()"
   ]
  },
  {
   "cell_type": "code",
   "execution_count": 125,
   "id": "5b1a1fce-870d-4ade-b971-a349afe1a96a",
   "metadata": {},
   "outputs": [
    {
     "data": {
      "text/plain": [
       "0.9"
      ]
     },
     "execution_count": 125,
     "metadata": {},
     "output_type": "execute_result"
    }
   ],
   "source": [
    "df['Tenure'].quantile(0.25)"
   ]
  },
  {
   "cell_type": "code",
   "execution_count": 129,
   "id": "37eed99f-98fa-438d-8781-400ba23cf61c",
   "metadata": {},
   "outputs": [
    {
     "data": {
      "text/plain": [
       "2.3"
      ]
     },
     "execution_count": 129,
     "metadata": {},
     "output_type": "execute_result"
    }
   ],
   "source": [
    "df['Tenure'].quantile(0.75)"
   ]
  },
  {
   "cell_type": "markdown",
   "id": "77ed420d-4c67-4255-bf4d-5a9d9651bf2b",
   "metadata": {},
   "source": [
    "#### Observations\n",
    "\n",
    "* There are people with 8 yrs of experince and 11 yrs of experience and 24 yrs of experience these are outliers.\n",
    "* Means these people have more experience compared to the entire data.\n",
    "* 75% of candidates have less than 2.3 yrs of experience and 25% of candidates have more than 2.3yrs of experience"
   ]
  },
  {
   "cell_type": "code",
   "execution_count": null,
   "id": "da410389-892c-48fa-9225-7a4838ca2a28",
   "metadata": {},
   "outputs": [],
   "source": []
  },
  {
   "cell_type": "markdown",
   "id": "039c693c-726f-44da-9530-feddf378346a",
   "metadata": {},
   "source": [
    "#### comment\n",
    "* Under the scores section, only analyzed the common sections for all streams so that we can get something from data."
   ]
  },
  {
   "cell_type": "markdown",
   "id": "7c15e809-901b-4924-ab53-aa81b5e14e00",
   "metadata": {},
   "source": [
    "===========================================\n",
    "========================="
   ]
  },
  {
   "cell_type": "markdown",
   "id": "4f52e6a2-cdc9-4d42-99da-54bb6da82dc1",
   "metadata": {},
   "source": [
    "### Bi-variate analysis -- Cat Vs Cat"
   ]
  },
  {
   "cell_type": "code",
   "execution_count": 8,
   "id": "9d8a3f38-6ad5-44cb-92d6-f030ea4f1e3e",
   "metadata": {},
   "outputs": [
    {
     "data": {
      "text/plain": [
       "Index(['Salary', 'DOJ', 'DOL', 'Designation', 'JobCity', 'Gender', 'DOB',\n",
       "       '10percentage', '10board', '12graduation', '12percentage', '12board',\n",
       "       'CollegeTier', 'Degree', 'Specialization', 'collegePercent',\n",
       "       'CollegeCityTier', 'CollegeState', 'GraduationYear', 'English',\n",
       "       'Logical', 'Quant', 'Domain', 'ComputerProgramming',\n",
       "       'ElectronicsAndSemicon', 'ComputerScience', 'conscientiousness',\n",
       "       'agreeableness', 'extraversion', 'nueroticism', 'openess_to_experience',\n",
       "       'Tenure'],\n",
       "      dtype='object')"
      ]
     },
     "execution_count": 8,
     "metadata": {},
     "output_type": "execute_result"
    }
   ],
   "source": [
    "df.columns"
   ]
  },
  {
   "cell_type": "markdown",
   "id": "117a123f-7ab8-4f58-a306-7e3e5f1fb7eb",
   "metadata": {},
   "source": [
    "#### Question ---- any relation between gender and specialization"
   ]
  },
  {
   "cell_type": "code",
   "execution_count": 51,
   "id": "83d4fdd4-8d8e-4a87-8817-a83365ff17b9",
   "metadata": {},
   "outputs": [],
   "source": [
    "ct_gen_specialization = pd.crosstab(df['Specialization'], df['Gender'], normalize = 'columns', margins = True, margins_name = 'Total')"
   ]
  },
  {
   "cell_type": "code",
   "execution_count": 55,
   "id": "3935b780-ca55-4779-a5f7-9c18c0f6e6a2",
   "metadata": {},
   "outputs": [
    {
     "data": {
      "text/html": [
       "<div>\n",
       "<style scoped>\n",
       "    .dataframe tbody tr th:only-of-type {\n",
       "        vertical-align: middle;\n",
       "    }\n",
       "\n",
       "    .dataframe tbody tr th {\n",
       "        vertical-align: top;\n",
       "    }\n",
       "\n",
       "    .dataframe thead th {\n",
       "        text-align: right;\n",
       "    }\n",
       "</style>\n",
       "<table border=\"1\" class=\"dataframe\">\n",
       "  <thead>\n",
       "    <tr style=\"text-align: right;\">\n",
       "      <th>Gender</th>\n",
       "      <th>f</th>\n",
       "      <th>m</th>\n",
       "      <th>Total</th>\n",
       "    </tr>\n",
       "    <tr>\n",
       "      <th>Specialization</th>\n",
       "      <th></th>\n",
       "      <th></th>\n",
       "      <th></th>\n",
       "    </tr>\n",
       "  </thead>\n",
       "  <tbody>\n",
       "    <tr>\n",
       "      <th>CS</th>\n",
       "      <td>0.630094</td>\n",
       "      <td>0.554094</td>\n",
       "      <td>0.572286</td>\n",
       "    </tr>\n",
       "    <tr>\n",
       "      <th>ECE_instrumentation</th>\n",
       "      <td>0.282132</td>\n",
       "      <td>0.280829</td>\n",
       "      <td>0.281141</td>\n",
       "    </tr>\n",
       "    <tr>\n",
       "      <th>EEE</th>\n",
       "      <td>0.053292</td>\n",
       "      <td>0.075633</td>\n",
       "      <td>0.070285</td>\n",
       "    </tr>\n",
       "    <tr>\n",
       "      <th>Mechanical</th>\n",
       "      <td>0.011494</td>\n",
       "      <td>0.067412</td>\n",
       "      <td>0.054027</td>\n",
       "    </tr>\n",
       "    <tr>\n",
       "      <th>Civil engineering</th>\n",
       "      <td>0.006270</td>\n",
       "      <td>0.007563</td>\n",
       "      <td>0.007254</td>\n",
       "    </tr>\n",
       "    <tr>\n",
       "      <th>Biotechnology</th>\n",
       "      <td>0.009404</td>\n",
       "      <td>0.001973</td>\n",
       "      <td>0.003752</td>\n",
       "    </tr>\n",
       "    <tr>\n",
       "      <th>Other</th>\n",
       "      <td>0.000000</td>\n",
       "      <td>0.004275</td>\n",
       "      <td>0.003252</td>\n",
       "    </tr>\n",
       "    <tr>\n",
       "      <th>Industrial &amp; production engineering</th>\n",
       "      <td>0.002090</td>\n",
       "      <td>0.002631</td>\n",
       "      <td>0.002501</td>\n",
       "    </tr>\n",
       "    <tr>\n",
       "      <th>Chemical engineering</th>\n",
       "      <td>0.001045</td>\n",
       "      <td>0.002631</td>\n",
       "      <td>0.002251</td>\n",
       "    </tr>\n",
       "    <tr>\n",
       "      <th>Aeronautical engineering</th>\n",
       "      <td>0.001045</td>\n",
       "      <td>0.000658</td>\n",
       "      <td>0.000750</td>\n",
       "    </tr>\n",
       "    <tr>\n",
       "      <th>Industrial engineering</th>\n",
       "      <td>0.001045</td>\n",
       "      <td>0.000329</td>\n",
       "      <td>0.000500</td>\n",
       "    </tr>\n",
       "    <tr>\n",
       "      <th>Biomedical engineering</th>\n",
       "      <td>0.002090</td>\n",
       "      <td>0.000000</td>\n",
       "      <td>0.000500</td>\n",
       "    </tr>\n",
       "    <tr>\n",
       "      <th>Metallurgical engineering</th>\n",
       "      <td>0.000000</td>\n",
       "      <td>0.000658</td>\n",
       "      <td>0.000500</td>\n",
       "    </tr>\n",
       "    <tr>\n",
       "      <th>Industrial &amp; management engineering</th>\n",
       "      <td>0.000000</td>\n",
       "      <td>0.000329</td>\n",
       "      <td>0.000250</td>\n",
       "    </tr>\n",
       "    <tr>\n",
       "      <th>Internal combustion engine</th>\n",
       "      <td>0.000000</td>\n",
       "      <td>0.000329</td>\n",
       "      <td>0.000250</td>\n",
       "    </tr>\n",
       "    <tr>\n",
       "      <th>Ceramic engineering</th>\n",
       "      <td>0.000000</td>\n",
       "      <td>0.000329</td>\n",
       "      <td>0.000250</td>\n",
       "    </tr>\n",
       "    <tr>\n",
       "      <th>Polymer technology</th>\n",
       "      <td>0.000000</td>\n",
       "      <td>0.000329</td>\n",
       "      <td>0.000250</td>\n",
       "    </tr>\n",
       "  </tbody>\n",
       "</table>\n",
       "</div>"
      ],
      "text/plain": [
       "Gender                                      f         m     Total\n",
       "Specialization                                                   \n",
       "CS                                   0.630094  0.554094  0.572286\n",
       "ECE_instrumentation                  0.282132  0.280829  0.281141\n",
       "EEE                                  0.053292  0.075633  0.070285\n",
       "Mechanical                           0.011494  0.067412  0.054027\n",
       "Civil engineering                    0.006270  0.007563  0.007254\n",
       "Biotechnology                        0.009404  0.001973  0.003752\n",
       "Other                                0.000000  0.004275  0.003252\n",
       "Industrial & production engineering  0.002090  0.002631  0.002501\n",
       "Chemical engineering                 0.001045  0.002631  0.002251\n",
       "Aeronautical engineering             0.001045  0.000658  0.000750\n",
       "Industrial engineering               0.001045  0.000329  0.000500\n",
       "Biomedical engineering               0.002090  0.000000  0.000500\n",
       "Metallurgical engineering            0.000000  0.000658  0.000500\n",
       "Industrial & management engineering  0.000000  0.000329  0.000250\n",
       "Internal combustion engine           0.000000  0.000329  0.000250\n",
       "Ceramic engineering                  0.000000  0.000329  0.000250\n",
       "Polymer technology                   0.000000  0.000329  0.000250"
      ]
     },
     "execution_count": 55,
     "metadata": {},
     "output_type": "execute_result"
    }
   ],
   "source": [
    "ct_gen_specialization.sort_values(by = 'Total', ascending = False)"
   ]
  },
  {
   "cell_type": "markdown",
   "id": "b04a5f59-6b79-468e-a82f-a432966d8f13",
   "metadata": {},
   "source": [
    "#### Observations\n",
    "\n",
    "* Compared to **male** there are 8% more **female** in **CS branch**, there is a possibility that more female preferred to do CS compared to male.\n",
    "* In **EEE** and **Mechanical** male candidates are bit more compared to female."
   ]
  },
  {
   "cell_type": "code",
   "execution_count": null,
   "id": "7cdd1343-200b-407b-bbf0-0adcb10040c4",
   "metadata": {},
   "outputs": [],
   "source": []
  },
  {
   "cell_type": "markdown",
   "id": "bd951f0a-5e21-4d66-a137-dbce331c5e98",
   "metadata": {},
   "source": [
    "### Categorical Vs Numerical analysis"
   ]
  },
  {
   "cell_type": "code",
   "execution_count": 63,
   "id": "c7c9d600-5c73-40ff-9812-cc62d4324dbe",
   "metadata": {},
   "outputs": [
    {
     "data": {
      "text/plain": [
       "Index(['Salary', 'DOJ', 'DOL', 'Designation', 'JobCity', 'Gender', 'DOB',\n",
       "       '10percentage', '10board', '12graduation', '12percentage', '12board',\n",
       "       'CollegeTier', 'Degree', 'Specialization', 'collegePercent',\n",
       "       'CollegeCityTier', 'CollegeState', 'GraduationYear', 'English',\n",
       "       'Logical', 'Quant', 'Domain', 'ComputerProgramming',\n",
       "       'ElectronicsAndSemicon', 'ComputerScience', 'conscientiousness',\n",
       "       'agreeableness', 'extraversion', 'nueroticism', 'openess_to_experience',\n",
       "       'Tenure'],\n",
       "      dtype='object')"
      ]
     },
     "execution_count": 63,
     "metadata": {},
     "output_type": "execute_result"
    }
   ],
   "source": [
    "df.columns"
   ]
  },
  {
   "cell_type": "markdown",
   "id": "5409d2a3-ef15-4095-be94-e9cc3076bea3",
   "metadata": {},
   "source": [
    "#### Question ---- relation between salary and Designation"
   ]
  },
  {
   "cell_type": "code",
   "execution_count": 129,
   "id": "a9b9ca7a-7f35-4dda-a325-f895291cc80f",
   "metadata": {},
   "outputs": [
    {
     "data": {
      "text/plain": [
       "Designation\n",
       "Software engineer             539\n",
       "Software developer            265\n",
       "System engineer               205\n",
       "Programmer analyst            139\n",
       "Systems engineer              118\n",
       "Java software engineer        111\n",
       "Software test engineer        100\n",
       "Project engineer               77\n",
       "Technical support engineer     76\n",
       "Senior software engineer       72\n",
       "Name: count, dtype: int64"
      ]
     },
     "execution_count": 129,
     "metadata": {},
     "output_type": "execute_result"
    }
   ],
   "source": [
    "df['Designation'].value_counts().head(10)"
   ]
  },
  {
   "cell_type": "code",
   "execution_count": 131,
   "id": "e280839d-2e76-485e-9659-9cdbdb0d1828",
   "metadata": {},
   "outputs": [],
   "source": [
    "df['Designation'].replace('System engineer', 'Systems engineer', inplace = True)"
   ]
  },
  {
   "cell_type": "code",
   "execution_count": 141,
   "id": "d3c67f26-6f2c-443d-b457-74e1c9cac9ff",
   "metadata": {},
   "outputs": [
    {
     "data": {
      "text/html": [
       "<div>\n",
       "<style scoped>\n",
       "    .dataframe tbody tr th:only-of-type {\n",
       "        vertical-align: middle;\n",
       "    }\n",
       "\n",
       "    .dataframe tbody tr th {\n",
       "        vertical-align: top;\n",
       "    }\n",
       "\n",
       "    .dataframe thead th {\n",
       "        text-align: right;\n",
       "    }\n",
       "</style>\n",
       "<table border=\"1\" class=\"dataframe\">\n",
       "  <thead>\n",
       "    <tr style=\"text-align: right;\">\n",
       "      <th></th>\n",
       "      <th>Salary</th>\n",
       "      <th>DOJ</th>\n",
       "      <th>DOL</th>\n",
       "      <th>Designation</th>\n",
       "      <th>JobCity</th>\n",
       "      <th>Gender</th>\n",
       "      <th>DOB</th>\n",
       "      <th>10percentage</th>\n",
       "      <th>10board</th>\n",
       "      <th>12graduation</th>\n",
       "      <th>...</th>\n",
       "      <th>Domain</th>\n",
       "      <th>ComputerProgramming</th>\n",
       "      <th>ElectronicsAndSemicon</th>\n",
       "      <th>ComputerScience</th>\n",
       "      <th>conscientiousness</th>\n",
       "      <th>agreeableness</th>\n",
       "      <th>extraversion</th>\n",
       "      <th>nueroticism</th>\n",
       "      <th>openess_to_experience</th>\n",
       "      <th>Tenure</th>\n",
       "    </tr>\n",
       "  </thead>\n",
       "  <tbody>\n",
       "    <tr>\n",
       "      <th>17</th>\n",
       "      <td>250000</td>\n",
       "      <td>2013-08-01</td>\n",
       "      <td>2014-09-01</td>\n",
       "      <td>Associate software developer</td>\n",
       "      <td>Gurgaon</td>\n",
       "      <td>m</td>\n",
       "      <td>1987-09-28</td>\n",
       "      <td>60.80</td>\n",
       "      <td>cbse</td>\n",
       "      <td>2006</td>\n",
       "      <td>...</td>\n",
       "      <td>0.911395</td>\n",
       "      <td>545.0</td>\n",
       "      <td>NaN</td>\n",
       "      <td>500.0</td>\n",
       "      <td>0.8463</td>\n",
       "      <td>1.0449</td>\n",
       "      <td>-1.0659</td>\n",
       "      <td>-1.62890</td>\n",
       "      <td>0.6721</td>\n",
       "      <td>1.1</td>\n",
       "    </tr>\n",
       "    <tr>\n",
       "      <th>19</th>\n",
       "      <td>325000</td>\n",
       "      <td>2014-09-01</td>\n",
       "      <td>2016-01-01</td>\n",
       "      <td>Software engineer</td>\n",
       "      <td>Pune</td>\n",
       "      <td>f</td>\n",
       "      <td>1990-11-30</td>\n",
       "      <td>79.00</td>\n",
       "      <td>cbse</td>\n",
       "      <td>2008</td>\n",
       "      <td>...</td>\n",
       "      <td>0.864685</td>\n",
       "      <td>525.0</td>\n",
       "      <td>NaN</td>\n",
       "      <td>NaN</td>\n",
       "      <td>0.8192</td>\n",
       "      <td>0.2668</td>\n",
       "      <td>-0.2714</td>\n",
       "      <td>-0.40780</td>\n",
       "      <td>-0.1295</td>\n",
       "      <td>1.3</td>\n",
       "    </tr>\n",
       "    <tr>\n",
       "      <th>20</th>\n",
       "      <td>320000</td>\n",
       "      <td>2010-11-01</td>\n",
       "      <td>2012-09-01</td>\n",
       "      <td>Software engineer</td>\n",
       "      <td>Bangalore</td>\n",
       "      <td>f</td>\n",
       "      <td>1988-07-25</td>\n",
       "      <td>91.20</td>\n",
       "      <td>karnataka secondary school of examination</td>\n",
       "      <td>2006</td>\n",
       "      <td>...</td>\n",
       "      <td>0.635979</td>\n",
       "      <td>445.0</td>\n",
       "      <td>NaN</td>\n",
       "      <td>NaN</td>\n",
       "      <td>-0.1082</td>\n",
       "      <td>0.9688</td>\n",
       "      <td>0.5269</td>\n",
       "      <td>-0.29020</td>\n",
       "      <td>0.3444</td>\n",
       "      <td>1.8</td>\n",
       "    </tr>\n",
       "    <tr>\n",
       "      <th>21</th>\n",
       "      <td>200000</td>\n",
       "      <td>2012-08-01</td>\n",
       "      <td>2013-12-01</td>\n",
       "      <td>Software engineer</td>\n",
       "      <td>Bangalore</td>\n",
       "      <td>f</td>\n",
       "      <td>1991-08-20</td>\n",
       "      <td>75.67</td>\n",
       "      <td>up</td>\n",
       "      <td>2007</td>\n",
       "      <td>...</td>\n",
       "      <td>0.635979</td>\n",
       "      <td>445.0</td>\n",
       "      <td>NaN</td>\n",
       "      <td>NaN</td>\n",
       "      <td>-1.0355</td>\n",
       "      <td>-0.5913</td>\n",
       "      <td>-1.3599</td>\n",
       "      <td>0.06223</td>\n",
       "      <td>-1.3539</td>\n",
       "      <td>1.3</td>\n",
       "    </tr>\n",
       "    <tr>\n",
       "      <th>31</th>\n",
       "      <td>340000</td>\n",
       "      <td>2014-08-01</td>\n",
       "      <td>2015-04-01</td>\n",
       "      <td>Software engineer</td>\n",
       "      <td>Bangalore</td>\n",
       "      <td>m</td>\n",
       "      <td>1992-10-23</td>\n",
       "      <td>77.20</td>\n",
       "      <td>state board</td>\n",
       "      <td>2010</td>\n",
       "      <td>...</td>\n",
       "      <td>0.622643</td>\n",
       "      <td>485.0</td>\n",
       "      <td>NaN</td>\n",
       "      <td>407.0</td>\n",
       "      <td>-0.0154</td>\n",
       "      <td>1.2114</td>\n",
       "      <td>1.0859</td>\n",
       "      <td>-1.50210</td>\n",
       "      <td>0.2889</td>\n",
       "      <td>0.7</td>\n",
       "    </tr>\n",
       "    <tr>\n",
       "      <th>...</th>\n",
       "      <td>...</td>\n",
       "      <td>...</td>\n",
       "      <td>...</td>\n",
       "      <td>...</td>\n",
       "      <td>...</td>\n",
       "      <td>...</td>\n",
       "      <td>...</td>\n",
       "      <td>...</td>\n",
       "      <td>...</td>\n",
       "      <td>...</td>\n",
       "      <td>...</td>\n",
       "      <td>...</td>\n",
       "      <td>...</td>\n",
       "      <td>...</td>\n",
       "      <td>...</td>\n",
       "      <td>...</td>\n",
       "      <td>...</td>\n",
       "      <td>...</td>\n",
       "      <td>...</td>\n",
       "      <td>...</td>\n",
       "      <td>...</td>\n",
       "    </tr>\n",
       "    <tr>\n",
       "      <th>3984</th>\n",
       "      <td>480000</td>\n",
       "      <td>2011-12-01</td>\n",
       "      <td>2016-01-01</td>\n",
       "      <td>Software engineer</td>\n",
       "      <td>Gurgaon</td>\n",
       "      <td>f</td>\n",
       "      <td>1990-01-18</td>\n",
       "      <td>89.80</td>\n",
       "      <td>cbse</td>\n",
       "      <td>2007</td>\n",
       "      <td>...</td>\n",
       "      <td>0.843124</td>\n",
       "      <td>515.0</td>\n",
       "      <td>NaN</td>\n",
       "      <td>NaN</td>\n",
       "      <td>-0.2628</td>\n",
       "      <td>0.1888</td>\n",
       "      <td>0.3817</td>\n",
       "      <td>-0.29020</td>\n",
       "      <td>1.6082</td>\n",
       "      <td>4.1</td>\n",
       "    </tr>\n",
       "    <tr>\n",
       "      <th>3989</th>\n",
       "      <td>300000</td>\n",
       "      <td>2014-09-01</td>\n",
       "      <td>2016-01-01</td>\n",
       "      <td>Software engineer</td>\n",
       "      <td>Bangalore</td>\n",
       "      <td>m</td>\n",
       "      <td>1991-11-23</td>\n",
       "      <td>74.88</td>\n",
       "      <td>state board</td>\n",
       "      <td>2010</td>\n",
       "      <td>...</td>\n",
       "      <td>0.356536</td>\n",
       "      <td>465.0</td>\n",
       "      <td>NaN</td>\n",
       "      <td>346.0</td>\n",
       "      <td>0.1282</td>\n",
       "      <td>0.0459</td>\n",
       "      <td>1.2396</td>\n",
       "      <td>1.03330</td>\n",
       "      <td>0.6721</td>\n",
       "      <td>1.3</td>\n",
       "    </tr>\n",
       "    <tr>\n",
       "      <th>3993</th>\n",
       "      <td>280000</td>\n",
       "      <td>2011-10-01</td>\n",
       "      <td>2012-10-01</td>\n",
       "      <td>Software engineer</td>\n",
       "      <td>New Delhi</td>\n",
       "      <td>m</td>\n",
       "      <td>1987-04-15</td>\n",
       "      <td>52.09</td>\n",
       "      <td>cbse</td>\n",
       "      <td>2006</td>\n",
       "      <td>...</td>\n",
       "      <td>0.276047</td>\n",
       "      <td>345.0</td>\n",
       "      <td>NaN</td>\n",
       "      <td>NaN</td>\n",
       "      <td>-0.1082</td>\n",
       "      <td>0.3448</td>\n",
       "      <td>0.2366</td>\n",
       "      <td>0.64980</td>\n",
       "      <td>-0.9194</td>\n",
       "      <td>1.0</td>\n",
       "    </tr>\n",
       "    <tr>\n",
       "      <th>3995</th>\n",
       "      <td>320000</td>\n",
       "      <td>2013-07-01</td>\n",
       "      <td>2016-01-01</td>\n",
       "      <td>Associate software engineer</td>\n",
       "      <td>Bangalore</td>\n",
       "      <td>m</td>\n",
       "      <td>1991-07-03</td>\n",
       "      <td>81.86</td>\n",
       "      <td>bse,odisha</td>\n",
       "      <td>2008</td>\n",
       "      <td>...</td>\n",
       "      <td>0.488348</td>\n",
       "      <td>405.0</td>\n",
       "      <td>NaN</td>\n",
       "      <td>NaN</td>\n",
       "      <td>-1.5765</td>\n",
       "      <td>-1.5273</td>\n",
       "      <td>-1.5051</td>\n",
       "      <td>-1.31840</td>\n",
       "      <td>-0.7615</td>\n",
       "      <td>2.5</td>\n",
       "    </tr>\n",
       "    <tr>\n",
       "      <th>3996</th>\n",
       "      <td>200000</td>\n",
       "      <td>2014-07-01</td>\n",
       "      <td>2015-01-01</td>\n",
       "      <td>Software developer</td>\n",
       "      <td>Bangalore</td>\n",
       "      <td>f</td>\n",
       "      <td>1992-03-20</td>\n",
       "      <td>78.72</td>\n",
       "      <td>state board</td>\n",
       "      <td>2010</td>\n",
       "      <td>...</td>\n",
       "      <td>0.744758</td>\n",
       "      <td>445.0</td>\n",
       "      <td>NaN</td>\n",
       "      <td>438.0</td>\n",
       "      <td>-0.1590</td>\n",
       "      <td>0.0459</td>\n",
       "      <td>-0.4511</td>\n",
       "      <td>-0.36120</td>\n",
       "      <td>-0.0943</td>\n",
       "      <td>0.5</td>\n",
       "    </tr>\n",
       "  </tbody>\n",
       "</table>\n",
       "<p>912 rows × 32 columns</p>\n",
       "</div>"
      ],
      "text/plain": [
       "      Salary        DOJ        DOL                   Designation    JobCity  \\\n",
       "17    250000 2013-08-01 2014-09-01  Associate software developer    Gurgaon   \n",
       "19    325000 2014-09-01 2016-01-01             Software engineer       Pune   \n",
       "20    320000 2010-11-01 2012-09-01             Software engineer  Bangalore   \n",
       "21    200000 2012-08-01 2013-12-01             Software engineer  Bangalore   \n",
       "31    340000 2014-08-01 2015-04-01             Software engineer  Bangalore   \n",
       "...      ...        ...        ...                           ...        ...   \n",
       "3984  480000 2011-12-01 2016-01-01             Software engineer    Gurgaon   \n",
       "3989  300000 2014-09-01 2016-01-01             Software engineer  Bangalore   \n",
       "3993  280000 2011-10-01 2012-10-01             Software engineer  New Delhi   \n",
       "3995  320000 2013-07-01 2016-01-01   Associate software engineer  Bangalore   \n",
       "3996  200000 2014-07-01 2015-01-01            Software developer  Bangalore   \n",
       "\n",
       "     Gender        DOB  10percentage  \\\n",
       "17        m 1987-09-28         60.80   \n",
       "19        f 1990-11-30         79.00   \n",
       "20        f 1988-07-25         91.20   \n",
       "21        f 1991-08-20         75.67   \n",
       "31        m 1992-10-23         77.20   \n",
       "...     ...        ...           ...   \n",
       "3984      f 1990-01-18         89.80   \n",
       "3989      m 1991-11-23         74.88   \n",
       "3993      m 1987-04-15         52.09   \n",
       "3995      m 1991-07-03         81.86   \n",
       "3996      f 1992-03-20         78.72   \n",
       "\n",
       "                                        10board  12graduation  ...    Domain  \\\n",
       "17                                         cbse          2006  ...  0.911395   \n",
       "19                                         cbse          2008  ...  0.864685   \n",
       "20    karnataka secondary school of examination          2006  ...  0.635979   \n",
       "21                                           up          2007  ...  0.635979   \n",
       "31                                  state board          2010  ...  0.622643   \n",
       "...                                         ...           ...  ...       ...   \n",
       "3984                                       cbse          2007  ...  0.843124   \n",
       "3989                                state board          2010  ...  0.356536   \n",
       "3993                                       cbse          2006  ...  0.276047   \n",
       "3995                                 bse,odisha          2008  ...  0.488348   \n",
       "3996                                state board          2010  ...  0.744758   \n",
       "\n",
       "     ComputerProgramming  ElectronicsAndSemicon ComputerScience  \\\n",
       "17                 545.0                    NaN           500.0   \n",
       "19                 525.0                    NaN             NaN   \n",
       "20                 445.0                    NaN             NaN   \n",
       "21                 445.0                    NaN             NaN   \n",
       "31                 485.0                    NaN           407.0   \n",
       "...                  ...                    ...             ...   \n",
       "3984               515.0                    NaN             NaN   \n",
       "3989               465.0                    NaN           346.0   \n",
       "3993               345.0                    NaN             NaN   \n",
       "3995               405.0                    NaN             NaN   \n",
       "3996               445.0                    NaN           438.0   \n",
       "\n",
       "     conscientiousness  agreeableness  extraversion nueroticism  \\\n",
       "17              0.8463         1.0449       -1.0659    -1.62890   \n",
       "19              0.8192         0.2668       -0.2714    -0.40780   \n",
       "20             -0.1082         0.9688        0.5269    -0.29020   \n",
       "21             -1.0355        -0.5913       -1.3599     0.06223   \n",
       "31             -0.0154         1.2114        1.0859    -1.50210   \n",
       "...                ...            ...           ...         ...   \n",
       "3984           -0.2628         0.1888        0.3817    -0.29020   \n",
       "3989            0.1282         0.0459        1.2396     1.03330   \n",
       "3993           -0.1082         0.3448        0.2366     0.64980   \n",
       "3995           -1.5765        -1.5273       -1.5051    -1.31840   \n",
       "3996           -0.1590         0.0459       -0.4511    -0.36120   \n",
       "\n",
       "      openess_to_experience  Tenure  \n",
       "17                   0.6721     1.1  \n",
       "19                  -0.1295     1.3  \n",
       "20                   0.3444     1.8  \n",
       "21                  -1.3539     1.3  \n",
       "31                   0.2889     0.7  \n",
       "...                     ...     ...  \n",
       "3984                 1.6082     4.1  \n",
       "3989                 0.6721     1.3  \n",
       "3993                -0.9194     1.0  \n",
       "3995                -0.7615     2.5  \n",
       "3996                -0.0943     0.5  \n",
       "\n",
       "[912 rows x 32 columns]"
      ]
     },
     "execution_count": 141,
     "metadata": {},
     "output_type": "execute_result"
    }
   ],
   "source": [
    "df[ df['Designation'].isin(['Software eng', 'Associate software engg', 'Software engg', 'Software engineere', 'Software engineer associate',\n",
    "'Software enginner', 'It engineer','Software engineer trainee','Software trainee engineer', 'Jr. software developer', 'Software devloper','Junior software developer',\n",
    "'Software trainee', 'Software development engineer', 'Trainee software engineer', 'Assistant software engineer', 'Trainee software developer',\n",
    " 'Jr. software engineer', 'Software developer', 'Associate software engineer', 'Software engineer', 'Associate software developer'])]"
   ]
  },
  {
   "cell_type": "code",
   "execution_count": 143,
   "id": "809de635-a239-4859-90ac-8ab4e45446b7",
   "metadata": {},
   "outputs": [],
   "source": [
    "software_index = df[ df['Designation'].isin(['Software eng', 'Associate software engg', 'Software engg', 'Software engineere', 'Software engineer associate',\n",
    "'Software enginner', 'It engineer','Software engineer trainee','Software trainee engineer', 'Jr. software developer', 'Software devloper','Junior software developer',\n",
    "'Software trainee', 'Software development engineer', 'Trainee software engineer', 'Assistant software engineer', 'Trainee software developer',\n",
    " 'Jr. software engineer', 'Software developer', 'Associate software engineer', 'Software engineer', 'Associate software developer'])].index"
   ]
  },
  {
   "cell_type": "code",
   "execution_count": 145,
   "id": "687dd86f-e80f-46ab-903f-86f6656617d8",
   "metadata": {},
   "outputs": [
    {
     "data": {
      "text/plain": [
       "Index([  17,   19,   20,   21,   31,   36,   38,   41,   42,   46,\n",
       "       ...\n",
       "       3970, 3977, 3978, 3979, 3981, 3984, 3989, 3993, 3995, 3996],\n",
       "      dtype='int64', length=912)"
      ]
     },
     "execution_count": 145,
     "metadata": {},
     "output_type": "execute_result"
    }
   ],
   "source": [
    "software_index"
   ]
  },
  {
   "cell_type": "code",
   "execution_count": 149,
   "id": "d6b91547-b35b-4854-b382-d23f699dfde6",
   "metadata": {},
   "outputs": [],
   "source": [
    "df.loc[software_index, 'Designation'] = 'Software engineer/developer'"
   ]
  },
  {
   "cell_type": "code",
   "execution_count": 151,
   "id": "61564e87-957a-47eb-b653-d5498612534a",
   "metadata": {},
   "outputs": [
    {
     "data": {
      "text/plain": [
       "17      Software engineer/developer\n",
       "19      Software engineer/developer\n",
       "20      Software engineer/developer\n",
       "21      Software engineer/developer\n",
       "31      Software engineer/developer\n",
       "                   ...             \n",
       "3984    Software engineer/developer\n",
       "3989    Software engineer/developer\n",
       "3993    Software engineer/developer\n",
       "3995    Software engineer/developer\n",
       "3996    Software engineer/developer\n",
       "Name: Designation, Length: 912, dtype: object"
      ]
     },
     "execution_count": 151,
     "metadata": {},
     "output_type": "execute_result"
    }
   ],
   "source": [
    "df.loc[software_index, 'Designation']"
   ]
  },
  {
   "cell_type": "code",
   "execution_count": null,
   "id": "45e264ff-8b5a-4fc8-992f-11b12fce4853",
   "metadata": {},
   "outputs": [],
   "source": []
  },
  {
   "cell_type": "code",
   "execution_count": 157,
   "id": "96f8edeb-0a39-470f-9cb6-898f154f8c7a",
   "metadata": {},
   "outputs": [
    {
     "data": {
      "text/plain": [
       "Index([3121, 3145, 3342], dtype='int64')"
      ]
     },
     "execution_count": 157,
     "metadata": {},
     "output_type": "execute_result"
    }
   ],
   "source": [
    "df[ df['Designation'].isin(['System engineer trainee','Assistant system engineer trainee','Assistant system engineer - trainee'])].index"
   ]
  },
  {
   "cell_type": "code",
   "execution_count": 169,
   "id": "d9532c48-fb35-4c43-a4df-75c0035807cf",
   "metadata": {},
   "outputs": [],
   "source": [
    "df.loc[[3121,3145,3342],'Designation'] = 'Systems engineer'"
   ]
  },
  {
   "cell_type": "code",
   "execution_count": 171,
   "id": "b717f94c-4ca1-4250-847f-6a09243e339b",
   "metadata": {},
   "outputs": [
    {
     "data": {
      "text/plain": [
       "3121    Systems engineer\n",
       "3145    Systems engineer\n",
       "3342    Systems engineer\n",
       "Name: Designation, dtype: object"
      ]
     },
     "execution_count": 171,
     "metadata": {},
     "output_type": "execute_result"
    }
   ],
   "source": [
    "df.loc[[3121,3145,3342],'Designation']"
   ]
  },
  {
   "cell_type": "code",
   "execution_count": 173,
   "id": "69b75ada-f10e-483d-82f8-3520bdfab3a4",
   "metadata": {},
   "outputs": [
    {
     "data": {
      "text/plain": [
       "394"
      ]
     },
     "execution_count": 173,
     "metadata": {},
     "output_type": "execute_result"
    }
   ],
   "source": [
    "df['Designation'].nunique()"
   ]
  },
  {
   "cell_type": "code",
   "execution_count": 175,
   "id": "dc391ccc-7fb5-432a-a8a1-fde7f577e372",
   "metadata": {},
   "outputs": [
    {
     "data": {
      "text/plain": [
       "array(['Senior quality engineer', 'Assistant manager', 'Systems engineer',\n",
       "       'Senior software engineer', 'Get', 'Java software engineer',\n",
       "       'Mechanical engineer', 'Electrical engineer', 'Project engineer',\n",
       "       'Senior php developer', 'Senior systems engineer',\n",
       "       'Quality assurance engineer', 'Qa analyst', 'Network engineer',\n",
       "       'Product development engineer', 'Software engineer/developer',\n",
       "       'Data entry operator', 'Developer', 'Electrical project engineer',\n",
       "       'Programmer analyst', 'Systems analyst', 'Ase',\n",
       "       'Telecommunication engineer', 'Application developer',\n",
       "       'Ios developer', 'Executive assistant', 'Online marketing manager',\n",
       "       'Documentation specialist', 'Management trainee', 'Site manager',\n",
       "       '.net developer', 'Production engineer', 'Ui developer',\n",
       "       'Assistant system engineer', 'Android developer',\n",
       "       'Customer service', 'Test engineer', 'Java developer', 'Engineer',\n",
       "       'Recruitment coordinator', 'Technical support engineer',\n",
       "       'Data analyst', 'Faculty', 'Entry level management trainee',\n",
       "       'Customer service representative', 'Software test engineer',\n",
       "       'Firmware engineer', 'Php developer', 'Research associate',\n",
       "       'Research analyst', 'Quality engineer', 'Programmer',\n",
       "       'Technical support executive', 'Business analyst', 'Web developer',\n",
       "       'Application engineer', 'Project coordinator', 'Engineer trainee',\n",
       "       'Sap consultant', 'Quality analyst', 'Marketing coordinator',\n",
       "       'System administrator', 'Senior engineer',\n",
       "       'Business development managerde', 'Network administrator',\n",
       "       'Technical support specialist', 'Business development executive',\n",
       "       'Junior software engineer', 'Asp.net developer',\n",
       "       'Graduate engineer trainee', 'Field engineer',\n",
       "       'Assistant professor', 'Senior software developer',\n",
       "       'Quality assurance automation engineer', 'Design engineer',\n",
       "       'Telecom engineer', 'Quality control engineer',\n",
       "       'Hardware engineer', 'Hr recruiter', 'Sales associate',\n",
       "       'Junior engineer', 'Associate engineer', 'Maintenance engineer',\n",
       "       'Sales engineer', 'Human resources associate',\n",
       "       'Mobile application developer',\n",
       "       'Electronic field service engineer', 'Process associate',\n",
       "       'Field service engineer', 'It support specialist',\n",
       "       'Business process analyst', 'Operation engineer',\n",
       "       'Electrical designer', 'Marketing assistant', 'Sales executive',\n",
       "       'Admin assistant', 'Senior java developer', 'Account executive',\n",
       "       'Oracle dba', 'Rf engineer', 'Embedded software engineer',\n",
       "       'Programmer analyst trainee', 'Technical engineer',\n",
       "       'Operations executive', 'Trainee engineer', 'Recruiter',\n",
       "       'Lecturer', '.net web developer', 'Marketing executive',\n",
       "       'Operations assistant', 'Associate manager',\n",
       "       'Electrical design engineer', 'Systems administrator',\n",
       "       'Client services associate', 'It analyst', 'Senior developer',\n",
       "       'Cad designer', 'Business technology analyst', 'Asst. manager',\n",
       "       'Service engineer', 'Executive recruiter', 'Planning engineer',\n",
       "       'Associate technical operations', 'Web designer',\n",
       "       'Software architect', 'Software quality assurance tester',\n",
       "       'Seo trainee', 'Process engineer',\n",
       "       'Software quality assurance analyst', 'Designer',\n",
       "       'Business systems consultant', 'Business development manager',\n",
       "       'Junior research fellow', 'Technical recruiter',\n",
       "       'Operations analyst', 'Quality assurance test engineer',\n",
       "       'Linux systems administrator', 'Entry level sales and marketing',\n",
       "       'Electrical field engineer', 'Windows systems administrator',\n",
       "       'Python developer', 'Web application developer',\n",
       "       'Assistant systems engineer', 'Javascript developer',\n",
       "       'Operation executive', 'Performance engineer', 'Technical writer',\n",
       "       'Operations engineer and jetty handling', 'Lead engineer',\n",
       "       'Portfolio analyst', 'Associate system engineer',\n",
       "       'Mechanical design engineer', 'Product engineer',\n",
       "       'Network security engineer', 'Operations manager',\n",
       "       'Technical lead', 'Operations', 'Quality assurance tester',\n",
       "       'Automation engineer', 'Data scientist', 'Quality associate',\n",
       "       'Manual tester', 'Sr. engineer', 'Embedded engineer',\n",
       "       'Service and sales engineer', 'Telecom support engineer',\n",
       "       'Engineer- customer support', 'Cloud engineer', 'Branch manager',\n",
       "       'Business analyst consultant', 'Technology lead', 'Dcs engineer',\n",
       "       'Junior manager', 'Ux designer', 'Clerical', 'Hr generalist',\n",
       "       'Database administrator', 'Senior design engineer', 'Seo',\n",
       "       'Assistant engineer', 'Marketing analyst', 'It executive',\n",
       "       'Salesforce developer', 'Software tester', 'Sql dba',\n",
       "       'Junior engineer product support', 'Manager',\n",
       "       'Senior business analyst', 'C# developer',\n",
       "       'Implementation engineer', 'Executive hr', 'Executive engineer',\n",
       "       'Sharepoint developer', 'System analyst',\n",
       "       'Sales management trainee', 'Senior project engineer',\n",
       "       'It recruiter', 'Software engineer analyst',\n",
       "       'Desktop support technician', 'Continuous improvement engineer',\n",
       "       'Process advisor', 'Etl developer', 'Sales and service engineer',\n",
       "       'Project manager', 'Training specialist', 'Product manager',\n",
       "       'Staffing recruiter', 'Assistant programmer', 'Quality controller',\n",
       "       'Mis executive', 'Game developer', 'Digital marketing specialist',\n",
       "       'Principal software engineer', 'Senior mechanical engineer',\n",
       "       'Technical operations analyst', 'Service coordinator',\n",
       "       'Testing engineer', 'Technical assistant', 'Sap abap consultant',\n",
       "       'Seo engineer', 'Project assistant',\n",
       "       'Talent acquisition specialist', 'Sales account manager',\n",
       "       'Customer service manager', 'Help desk analyst', 'General manager',\n",
       "       'Engineering manager', 'Senior network engineer',\n",
       "       'Field based employee relations manager', 'Phone banking officer',\n",
       "       'Support engineer', 'Associate test engineer',\n",
       "       'Technology analyst', 'Network support engineer',\n",
       "       'It business analyst', 'Junior system analyst',\n",
       "       'Senior .net developer', 'Secretary', 'Research engineer',\n",
       "       'Quality assurance auditor', 'Process executive',\n",
       "       'Lecturer & electrical maintenance', 'Office coordinator',\n",
       "       'Hr manager', 'Html developer', 'Sales support',\n",
       "       'Front end web developer', 'Administrative support',\n",
       "       'Territory sales manager', 'Project administrator',\n",
       "       'Environmental engineer', 'Web designer and seo',\n",
       "       'Information security analyst',\n",
       "       'Field business development associate', 'Operational executive',\n",
       "       'Administrative coordinator', 'Senior risk consultant',\n",
       "       'Desktop support engineer', 'Cad drafter', 'Noc engineer',\n",
       "       'Industrial engineer', 'Human resources intern',\n",
       "       'Senior quality assurance engineer', 'Clerical assistant',\n",
       "       'Quality assurance', 'Delivery software engineer',\n",
       "       'Graphic designer', 'Sales development manager',\n",
       "       'Visiting faculty', 'Business intelligence analyst', 'Team lead',\n",
       "       'Operational excellence manager', 'Sales & service engineer',\n",
       "       'Web intern', 'Full stack developer', 'Database developer',\n",
       "       'Sr. database engineer', 'Graduate apprentice trainee',\n",
       "       'Technical analyst', 'Executive engg', 'It technician',\n",
       "       'Business system analyst', 'Process control engineer',\n",
       "       'Technical consultant', 'Business office manager',\n",
       "       'Quality control inspector', 'Product design engineer',\n",
       "       'Manufacturing engineer', 'Seo executive', 'Sap analyst',\n",
       "       'Financial service consultant', 'Co faculty', 'Software analyst',\n",
       "       'Desktop support analyst', 'Graduate engineer',\n",
       "       'Engineering technician', 'It assistant', 'Marketing manager',\n",
       "       'Human resource assistant', 'Hr assistant', 'Product developer',\n",
       "       'Customer support engineer',\n",
       "       'Quality control inspection technician', 'Gis/cad engineer',\n",
       "       'Senior web developer', 'Sql developer', 'Research staff member',\n",
       "       'Sap abap associate consultant', 'Associate qa',\n",
       "       'Corporate recruiter', 'Project management officer',\n",
       "       'Business systems analyst', 'Software programmer',\n",
       "       'Help desk technician', 'Sales manager', 'Catalog associate',\n",
       "       'Assistant store manager', 'It developer', 'Apprentice',\n",
       "       'Business consultant', 'Controls engineer',\n",
       "       'Ruby on rails developer', 'Risk consultant', 'Account manager',\n",
       "       'Professor', 'Assistant administrator', 'Civil engineer',\n",
       "       'Educator', 'Service manager', 'Teradata dba',\n",
       "       'Full-time loss prevention associate', 'Junior recruiter',\n",
       "       'Associate developer', 'Assistant electrical engineer',\n",
       "       'Shift engineer', 'Dotnet developer', 'Rf/dt engineer',\n",
       "       'Human resources analyst', 'Software test engineerte',\n",
       "       'Junior .net developer', 'Java trainee', 'Maintenance supervisor',\n",
       "       'R&d engineer', 'Front end developer', 'Engineer-hws',\n",
       "       'Operations engineer', 'Senior research fellow',\n",
       "       'Web designer and joomla administrator',\n",
       "       'Enterprise solutions developer',\n",
       "       'Information technology specialist', 'Site engineer',\n",
       "       'Graduate trainee engineer', 'Quality assurance analyst',\n",
       "       'Cnc programmer', 'Financial analyst', 'Sap mm consultant',\n",
       "       'Qa trainee', 'Teradata developer', 'Hr executive',\n",
       "       'Senior programmer', 'Software test engineer (etl)',\n",
       "       'Supply chain analyst', 'Sales trainer', 'Software executive',\n",
       "       'Team leader', 'Seo analyst', 'Risk investigator',\n",
       "       'Executive administrative assistant', 'Program manager', 'R & d',\n",
       "       'Sap functional consultant', 'Website developer/tester',\n",
       "       'Software designer', 'Sales coordinator', 'Qa engineer',\n",
       "       'Aircraft technician', 'Customer care executive',\n",
       "       'Senior test engineer', 'Program analyst trainee',\n",
       "       'Electrical controls engineer', 'Trainee decision scientist',\n",
       "       'Editor', 'Bss engineer', 'Dba', 'Computer faculty',\n",
       "       'Recruitment associate', 'Logistics executive',\n",
       "       'Quality consultant', 'Senior sales executive', 'Db2 dba',\n",
       "       'Test technician', 'It operations associate',\n",
       "       'Software engineering associate', 'Research scientist'],\n",
       "      dtype=object)"
      ]
     },
     "execution_count": 175,
     "metadata": {},
     "output_type": "execute_result"
    }
   ],
   "source": [
    "df['Designation'].unique()"
   ]
  },
  {
   "cell_type": "code",
   "execution_count": 189,
   "id": "e5e2418a-84fc-46f1-8ebb-e30e937fdc53",
   "metadata": {},
   "outputs": [
    {
     "data": {
      "text/plain": [
       "Index([155, 299, 860, 1606, 1772, 2515, 2797, 2852, 3776], dtype='int64')"
      ]
     },
     "execution_count": 189,
     "metadata": {},
     "output_type": "execute_result"
    }
   ],
   "source": [
    "df[ df['Designation'] == 'Junior software engineer'].index"
   ]
  },
  {
   "cell_type": "code",
   "execution_count": 197,
   "id": "ce3a0acd-4841-4190-b166-460697a4e525",
   "metadata": {},
   "outputs": [],
   "source": [
    "df.loc[[155, 299, 860, 1606, 1772, 2515, 2797, 2852, 3776], 'Designation'] = 'Software engineer/developer'"
   ]
  },
  {
   "cell_type": "code",
   "execution_count": 203,
   "id": "90318091-25cc-4cc1-ae2a-5b3acdb87fe2",
   "metadata": {},
   "outputs": [],
   "source": [
    "prog_analyst_index = df[ df['Designation'].isin(['Programmer analyst trainee', 'Programmer analyst'])].index"
   ]
  },
  {
   "cell_type": "code",
   "execution_count": 207,
   "id": "cc9848e4-0475-4044-bcb0-4d88a5a5f644",
   "metadata": {},
   "outputs": [],
   "source": [
    "df.loc[prog_analyst_index, 'Designation'] = 'Programmer analyst'"
   ]
  },
  {
   "cell_type": "code",
   "execution_count": null,
   "id": "5061b3a9-64ad-4cdf-ac2c-5411819d8b51",
   "metadata": {},
   "outputs": [],
   "source": []
  },
  {
   "cell_type": "code",
   "execution_count": 183,
   "id": "dfc03223-d2cd-4c5b-abbb-0eebfeda0d1f",
   "metadata": {},
   "outputs": [],
   "source": [
    "sys_eng_index = df[ df['Designation'] == 'Assistant system engineer'].index"
   ]
  },
  {
   "cell_type": "code",
   "execution_count": 185,
   "id": "5bf05bc7-5b06-484c-92eb-3b819364a430",
   "metadata": {},
   "outputs": [],
   "source": [
    "df.loc[sys_eng_index, 'Designation'] = 'Systems engineer'"
   ]
  },
  {
   "cell_type": "code",
   "execution_count": 209,
   "id": "346a07b2-9023-4f67-a317-b0d8fb3147aa",
   "metadata": {},
   "outputs": [
    {
     "data": {
      "text/plain": [
       "391"
      ]
     },
     "execution_count": 209,
     "metadata": {},
     "output_type": "execute_result"
    }
   ],
   "source": [
    "df['Designation'].nunique()"
   ]
  },
  {
   "cell_type": "code",
   "execution_count": null,
   "id": "1eb258fd-90b3-4f60-aded-428e61e5cd07",
   "metadata": {},
   "outputs": [],
   "source": []
  },
  {
   "cell_type": "code",
   "execution_count": 218,
   "id": "4ac3f6c3-314f-4461-8f31-fe79577de412",
   "metadata": {},
   "outputs": [],
   "source": [
    "gp = df.groupby('Designation')['Salary'].mean().sort_values(ascending = False)"
   ]
  },
  {
   "cell_type": "code",
   "execution_count": 222,
   "id": "ec5e830d-636b-4b0e-9b43-971c244ba325",
   "metadata": {},
   "outputs": [
    {
     "data": {
      "text/plain": [
       "Designation\n",
       "Junior manager           1.300000e+06\n",
       "Senior developer         1.110000e+06\n",
       "Data scientist           8.966667e+05\n",
       "Field engineer           8.016667e+05\n",
       "Asst. manager            8.000000e+05\n",
       "Research scientist       7.300000e+05\n",
       "Branch manager           7.125000e+05\n",
       "Sales account manager    7.100000e+05\n",
       "Technical lead           6.690000e+05\n",
       "Technology lead          6.450000e+05\n",
       "Name: Salary, dtype: float64"
      ]
     },
     "execution_count": 222,
     "metadata": {},
     "output_type": "execute_result"
    }
   ],
   "source": [
    "gp.head(10)"
   ]
  },
  {
   "cell_type": "markdown",
   "id": "822a7d35-5148-4f65-a09a-73f8a39490bc",
   "metadata": {},
   "source": [
    "#### Observations\n",
    "* Can not conclude anything from this. Since there are many unique Designations and there are many designations where there are less than 20 or 10 candidates."
   ]
  },
  {
   "cell_type": "markdown",
   "id": "e9419a5c-06fb-48dc-8409-efa195ffc67c",
   "metadata": {},
   "source": [
    "#### Question ---- relation between slary and collegetier"
   ]
  },
  {
   "cell_type": "code",
   "execution_count": 251,
   "id": "c95c085f-14f9-4de9-bcb1-52211aacfe22",
   "metadata": {},
   "outputs": [
    {
     "data": {
      "text/plain": [
       "<Axes: xlabel='CollegeTier', ylabel='Salary'>"
      ]
     },
     "execution_count": 251,
     "metadata": {},
     "output_type": "execute_result"
    },
    {
     "data": {
      "image/png": "[encoded data removed]",
      "text/plain": [
       "<Figure size 700x300 with 1 Axes>"
      ]
     },
     "metadata": {},
     "output_type": "display_data"
    }
   ],
   "source": [
    "plt.figure(figsize = (7,3))\n",
    "sns.barplot(x = df['CollegeTier'], y = df['Salary'], width = 0.3)"
   ]
  },
  {
   "cell_type": "markdown",
   "id": "2766e7c7-c1c7-431b-8176-ab9b855e3da4",
   "metadata": {},
   "source": [
    "#### Observations\n",
    "* Since only 10% of candidates are from Tier-1 college, can not say for sure that salaries of Tier-1 students are higher than the Tier-2 college students."
   ]
  },
  {
   "cell_type": "code",
   "execution_count": null,
   "id": "7f9527e4-d8b3-4d79-9fb2-cfac538b2ad8",
   "metadata": {},
   "outputs": [],
   "source": []
  },
  {
   "cell_type": "markdown",
   "id": "11631c7a-bd9c-4a06-a387-685a4e307611",
   "metadata": {},
   "source": [
    "### Numerical Vs Numerical analysis"
   ]
  },
  {
   "cell_type": "markdown",
   "id": "540bb168-d44e-4894-8eb2-e087a3cbadc6",
   "metadata": {},
   "source": [
    "#### Question ---- relation btw Quant, Logical scores and salary"
   ]
  },
  {
   "cell_type": "code",
   "execution_count": 236,
   "id": "76275540-b927-438f-ae73-58c29fa30730",
   "metadata": {},
   "outputs": [
    {
     "data": {
      "image/png": "[encoded data removed]",
      "text/plain": [
       "<Figure size 640x480 with 1 Axes>"
      ]
     },
     "metadata": {},
     "output_type": "display_data"
    }
   ],
   "source": [
    "plt.scatter(x = df['Quant'], y = df['Salary'])\n",
    "plt.ylabel('Salary')\n",
    "plt.xlabel('Quant')\n",
    "plt.title('Salary Vs Quant scores')\n",
    "plt.show()"
   ]
  },
  {
   "cell_type": "markdown",
   "id": "706c85da-880d-4009-abe6-cec6ffa9387e",
   "metadata": {},
   "source": [
    "#### Observations\n",
    "\n",
    "* Salary is not affected by the Quant section scores. Since qaunt, logical, and english scetion scores are almost similar..we can say that salary is not affected by scores."
   ]
  },
  {
   "cell_type": "code",
   "execution_count": 241,
   "id": "d91a1858-dc49-46d6-9a9b-3ca9228d6e70",
   "metadata": {},
   "outputs": [
    {
     "data": {
      "image/png": "[encoded data removed]",
      "text/plain": [
       "<Figure size 640x480 with 1 Axes>"
      ]
     },
     "metadata": {},
     "output_type": "display_data"
    }
   ],
   "source": [
    "plt.scatter(x = df['Tenure'], y = df['Salary'])\n",
    "plt.ylabel('Salary')\n",
    "plt.xlabel('Tenure')\n",
    "plt.title('Salary Vs Tenure')\n",
    "plt.show()"
   ]
  },
  {
   "cell_type": "markdown",
   "id": "d680d1f5-6948-44ab-83f3-43f030f07c26",
   "metadata": {},
   "source": [
    "#### Observations\n",
    "\n",
    "* Can say that there is not much relationship between tenure and salary."
   ]
  },
  {
   "cell_type": "markdown",
   "id": "63712ad7-11e9-4015-95a0-c7db207a8a2f",
   "metadata": {},
   "source": [
    "===================================================\n",
    "============================"
   ]
  },
  {
   "cell_type": "markdown",
   "id": "9c485e58-64d2-4e08-8dcd-609ed74ccabe",
   "metadata": {},
   "source": [
    "#### Times of India article dated Jan 18, 2019 states that “After doing your Computer Science Engineering if you take up jobs as a Programming Analyst, Software Engineer, Hardware Engineer and Associate Engineer you can earn up to 2.5-3 lakhs as a fresh graduate."
   ]
  },
  {
   "cell_type": "code",
   "execution_count": 258,
   "id": "3d64a7ba-bc35-4da9-8f5a-6c78f7ab8986",
   "metadata": {},
   "outputs": [
    {
     "data": {
      "text/plain": [
       "array(['CS', 'ECE_instrumentation', 'Mechanical', 'EEE',\n",
       "       'Civil engineering', 'Industrial & production engineering',\n",
       "       'Metallurgical engineering', 'Ceramic engineering',\n",
       "       'Chemical engineering', 'Aeronautical engineering', 'Other',\n",
       "       'Biotechnology', 'Polymer technology',\n",
       "       'Industrial & management engineering', 'Industrial engineering',\n",
       "       'Internal combustion engine', 'Biomedical engineering'],\n",
       "      dtype=object)"
      ]
     },
     "execution_count": 258,
     "metadata": {},
     "output_type": "execute_result"
    }
   ],
   "source": [
    "df['Specialization'].unique()"
   ]
  },
  {
   "cell_type": "code",
   "execution_count": null,
   "id": "c4910a38-0725-450d-9b88-a4a2f436db1d",
   "metadata": {},
   "outputs": [],
   "source": [
    "'Programmer analyst'"
   ]
  },
  {
   "cell_type": "code",
   "execution_count": 270,
   "id": "3a267b93-1d0d-483b-a880-15309c1eb2ff",
   "metadata": {},
   "outputs": [
    {
     "data": {
      "text/plain": [
       "array(['Programmer analyst', 'Programmer', 'Assistant programmer',\n",
       "       'Software programmer', 'Cnc programmer', 'Senior programmer',\n",
       "       'Program manager', 'Program analyst trainee'], dtype=object)"
      ]
     },
     "execution_count": 270,
     "metadata": {},
     "output_type": "execute_result"
    }
   ],
   "source": [
    "df[ df['Designation'].str.contains('Program', case = False) ]['Designation'].unique()"
   ]
  },
  {
   "cell_type": "code",
   "execution_count": 276,
   "id": "f5c3aa43-07db-4720-9d2d-c2983860ce21",
   "metadata": {},
   "outputs": [
    {
     "data": {
      "text/html": [
       "<div>\n",
       "<style scoped>\n",
       "    .dataframe tbody tr th:only-of-type {\n",
       "        vertical-align: middle;\n",
       "    }\n",
       "\n",
       "    .dataframe tbody tr th {\n",
       "        vertical-align: top;\n",
       "    }\n",
       "\n",
       "    .dataframe thead th {\n",
       "        text-align: right;\n",
       "    }\n",
       "</style>\n",
       "<table border=\"1\" class=\"dataframe\">\n",
       "  <thead>\n",
       "    <tr style=\"text-align: right;\">\n",
       "      <th></th>\n",
       "      <th>Salary</th>\n",
       "      <th>DOJ</th>\n",
       "      <th>DOL</th>\n",
       "      <th>Designation</th>\n",
       "      <th>JobCity</th>\n",
       "      <th>Gender</th>\n",
       "      <th>DOB</th>\n",
       "      <th>10percentage</th>\n",
       "      <th>10board</th>\n",
       "      <th>12graduation</th>\n",
       "      <th>...</th>\n",
       "      <th>Domain</th>\n",
       "      <th>ComputerProgramming</th>\n",
       "      <th>ElectronicsAndSemicon</th>\n",
       "      <th>ComputerScience</th>\n",
       "      <th>conscientiousness</th>\n",
       "      <th>agreeableness</th>\n",
       "      <th>extraversion</th>\n",
       "      <th>nueroticism</th>\n",
       "      <th>openess_to_experience</th>\n",
       "      <th>Tenure</th>\n",
       "    </tr>\n",
       "  </thead>\n",
       "  <tbody>\n",
       "    <tr>\n",
       "      <th>3600</th>\n",
       "      <td>325000</td>\n",
       "      <td>2014-11-01</td>\n",
       "      <td>2016-01-01</td>\n",
       "      <td>Program analyst trainee</td>\n",
       "      <td>Hyderabad</td>\n",
       "      <td>f</td>\n",
       "      <td>1993-08-22</td>\n",
       "      <td>87.0</td>\n",
       "      <td>state board</td>\n",
       "      <td>2010</td>\n",
       "      <td>...</td>\n",
       "      <td>0.943272</td>\n",
       "      <td>405.0</td>\n",
       "      <td>452.0</td>\n",
       "      <td>NaN</td>\n",
       "      <td>0.5591</td>\n",
       "      <td>0.8784</td>\n",
       "      <td>0.9322</td>\n",
       "      <td>-0.8682</td>\n",
       "      <td>1.0554</td>\n",
       "      <td>1.2</td>\n",
       "    </tr>\n",
       "  </tbody>\n",
       "</table>\n",
       "<p>1 rows × 32 columns</p>\n",
       "</div>"
      ],
      "text/plain": [
       "      Salary        DOJ        DOL              Designation    JobCity Gender  \\\n",
       "3600  325000 2014-11-01 2016-01-01  Program analyst trainee  Hyderabad      f   \n",
       "\n",
       "            DOB  10percentage      10board  12graduation  ...    Domain  \\\n",
       "3600 1993-08-22          87.0  state board          2010  ...  0.943272   \n",
       "\n",
       "     ComputerProgramming  ElectronicsAndSemicon ComputerScience  \\\n",
       "3600               405.0                  452.0             NaN   \n",
       "\n",
       "     conscientiousness  agreeableness  extraversion nueroticism  \\\n",
       "3600            0.5591         0.8784        0.9322     -0.8682   \n",
       "\n",
       "      openess_to_experience  Tenure  \n",
       "3600                 1.0554     1.2  \n",
       "\n",
       "[1 rows x 32 columns]"
      ]
     },
     "execution_count": 276,
     "metadata": {},
     "output_type": "execute_result"
    }
   ],
   "source": [
    "df[ df['Designation'] == 'Program analyst trainee']"
   ]
  },
  {
   "cell_type": "code",
   "execution_count": 280,
   "id": "db10f381-1474-4d64-b98d-251303a3b7b5",
   "metadata": {},
   "outputs": [],
   "source": [
    "df.loc[3600, 'Designation'] = 'Programmer analyst'"
   ]
  },
  {
   "cell_type": "code",
   "execution_count": null,
   "id": "45ab9564-5d73-4196-9559-3b3e8d3a68f4",
   "metadata": {},
   "outputs": [],
   "source": [
    " \"software engineer\", \"hardware engineer\", \"associate engineer\""
   ]
  },
  {
   "cell_type": "code",
   "execution_count": 303,
   "id": "bb037991-f2fd-4837-8fe1-e72ab36a9ef2",
   "metadata": {},
   "outputs": [],
   "source": [
    "req_df = df [ (df['Specialization'] == 'CS') & (df['Designation'].isin(['Programmer analyst', 'Software engineer/developer', 'Hardware engineer', 'Associate engineer']))]"
   ]
  },
  {
   "cell_type": "code",
   "execution_count": 323,
   "id": "396d0a13-72f3-4539-a207-1a004590463c",
   "metadata": {},
   "outputs": [
    {
     "data": {
      "image/png": "[encoded data removed]",
      "text/plain": [
       "<Figure size 700x300 with 1 Axes>"
      ]
     },
     "metadata": {},
     "output_type": "display_data"
    }
   ],
   "source": [
    "plt.figure(figsize = (7,3))\n",
    "plt.barh(req_df['Designation'], req_df['Salary'], color = 'pink')\n",
    "plt.xlabel('Salary')\n",
    "plt.ylabel('Designation')\n",
    "plt.show()"
   ]
  },
  {
   "cell_type": "markdown",
   "id": "439cac8f-41dd-4e9c-914f-3e3249892a82",
   "metadata": {},
   "source": [
    "#### Observations\n",
    "\n",
    "* We can see that the avg salary is 2,50,000 for 'associate engineer' role and bit a more for 'Programmer analyst'....and since software engineer has outliers the value is 20,00,00.\n",
    "* But we can not say for sure because there are few people under Programmer analyst and associate engineer"
   ]
  },
  {
   "cell_type": "code",
   "execution_count": null,
   "id": "7671ea1b-8f27-4356-a146-4b065cafde0f",
   "metadata": {},
   "outputs": [],
   "source": []
  }
 ],
 "metadata": {
  "kernelspec": {
   "display_name": "Python 3 (ipykernel)",
   "language": "python",
   "name": "python3"
  },
  "language_info": {
   "codemirror_mode": {
    "name": "ipython",
    "version": 3
   },
   "file_extension": ".py",
   "mimetype": "text/x-python",
   "name": "python",
   "nbconvert_exporter": "python",
   "pygments_lexer": "ipython3",
   "version": "3.11.7"
  }
 },
 "nbformat": 4,
 "nbformat_minor": 5
}
